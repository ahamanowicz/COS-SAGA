{
 "cells": [
  {
   "cell_type": "code",
   "execution_count": 2,
   "metadata": {},
   "outputs": [],
   "source": [
    "import numpy as np\n",
    "from astropy import units as u\n",
    "from astropy import constants as cnst\n",
    "from astropy.coordinates import *\n",
    "from astropy import table\n",
    "from astropy.visualization import hist as ahist\n",
    "from astropy.io import fits\n",
    "from astropy import convolution\n",
    "import os\n",
    "from astropy.table import QTable, Table\n",
    "from astropy import units as u\n",
    "from astropy.coordinates import SkyCoord\n",
    "#import spectro as spec\n",
    "#from IGM import rb_iter_contfit as r\n",
    "from astropy.cosmology import Planck13 as cosmo\n",
    "from matplotlib.patches import Ellipse\n",
    "\n",
    "import pickle\n",
    "#import CosSaga as cs"
   ]
  },
  {
   "cell_type": "code",
   "execution_count": 3,
   "metadata": {},
   "outputs": [],
   "source": [
    "%matplotlib inline\n",
    "from matplotlib import pyplot as plt\n",
    "from matplotlib import rcParams, rc\n",
    "from matplotlib.ticker import MaxNLocator\n",
    "\n",
    "rc ('xtick',labelsize=13)\n",
    "rc ('ytick',labelsize=13)\n",
    "rc('font',family='serif', size=18)\n",
    "rcParams['axes.linewidth'] = 1.5\n",
    "rcParams['image.interpolation'] = 'none'\n",
    "rcParams['figure.figsize'] = (24, 36)\n"
   ]
  },
  {
   "cell_type": "code",
   "execution_count": 4,
   "metadata": {},
   "outputs": [],
   "source": [
    "red='#c9002f'"
   ]
  },
  {
   "cell_type": "code",
   "execution_count": 5,
   "metadata": {},
   "outputs": [
    {
     "ename": "NameError",
     "evalue": "name 'saga' is not defined",
     "output_type": "error",
     "traceback": [
      "\u001b[0;31m---------------------------------------------------------------------------\u001b[0m",
      "\u001b[0;31mNameError\u001b[0m                                 Traceback (most recent call last)",
      "\u001b[0;32m<ipython-input-5-336225b8be65>\u001b[0m in \u001b[0;36m<module>\u001b[0;34m\u001b[0m\n\u001b[0;32m----> 1\u001b[0;31m \u001b[0mos\u001b[0m\u001b[0;34m.\u001b[0m\u001b[0mremove\u001b[0m\u001b[0;34m(\u001b[0m\u001b[0msaga\u001b[0m\u001b[0;34m.\u001b[0m\u001b[0mdatabase\u001b[0m\u001b[0;34m[\u001b[0m\u001b[0;34m\"host_stats\"\u001b[0m\u001b[0;34m]\u001b[0m\u001b[0;34m.\u001b[0m\u001b[0mlocal\u001b[0m\u001b[0;34m.\u001b[0m\u001b[0mpath\u001b[0m\u001b[0;34m)\u001b[0m\u001b[0;34m\u001b[0m\u001b[0;34m\u001b[0m\u001b[0m\n\u001b[0m\u001b[1;32m      2\u001b[0m \u001b[0msaga\u001b[0m\u001b[0;34m.\u001b[0m\u001b[0mdatabase\u001b[0m\u001b[0;34m[\u001b[0m\u001b[0;34m\"host_stats\"\u001b[0m\u001b[0;34m]\u001b[0m\u001b[0;34m.\u001b[0m\u001b[0mclear_cache\u001b[0m\u001b[0;34m(\u001b[0m\u001b[0;34m)\u001b[0m\u001b[0;34m\u001b[0m\u001b[0;34m\u001b[0m\u001b[0m\n",
      "\u001b[0;31mNameError\u001b[0m: name 'saga' is not defined"
     ]
    }
   ],
   "source": [
    "os.remove(saga.database[\"host_stats\"].local.path)\n",
    "saga.database[\"host_stats\"].clear_cache()"
   ]
  },
  {
   "cell_type": "code",
   "execution_count": null,
   "metadata": {},
   "outputs": [],
   "source": [
    "import SAGA\n",
    "print(SAGA.__version__)\n",
    "saga = SAGA.QuickStart(local_dir=\"/Users/ahamanowicz/Desktop/COS-SAGA/notebooks\")\n",
    "hosts = saga.host_catalog.load(include_stats=True)\n",
    "assert saga.good.count(hosts) == 134\n",
    "assert saga.paper3.count(hosts) == 100\n",
    "assert saga.paper3.filter(hosts, \"sats_total\").sum() == 351"
   ]
  },
  {
   "cell_type": "code",
   "execution_count": null,
   "metadata": {},
   "outputs": [],
   "source": [
    "saga.database[\"combined_base\"].remote.path = \"https://rutgers.box.com/shared/static/0ql9oqqhzu2wt3gwiwn84etzrejobsms.fits\""
   ]
  },
  {
   "cell_type": "code",
   "execution_count": null,
   "metadata": {
    "scrolled": false
   },
   "outputs": [],
   "source": [
    "paper3_hosts = saga.host_catalog.load(query=\"paper3\", include_stats=True)\n",
    "#base=saga.database[\"combined_base\"].download(overwrite=True)\n",
    "base = saga.object_catalog.load_combined_base_catalog()\n",
    "# base = saga.host_catalog.construct_host_query(\"paper3\").filter(base)"
   ]
  },
  {
   "cell_type": "code",
   "execution_count": null,
   "metadata": {},
   "outputs": [],
   "source": [
    "from SAGA import ObjectCuts as C\n",
    "hosts = saga.host_catalog.load(query=\"paper3\",include_stats=True)\n",
    "base = saga.object_catalog.load_combined_base_catalog()\n",
    "base = saga.host_catalog.construct_host_query(\"paper3\").filter(base)\n",
    "sats = C.is_sat.filter(base)"
   ]
  },
  {
   "cell_type": "code",
   "execution_count": null,
   "metadata": {},
   "outputs": [],
   "source": [
    "LP=range(1,11)\n",
    "qso_list=['TON1129','J0958+3224','J0959+3203','J1202-0129','J1202+0225','SBS1421+511','J1429+0321','J1431+0301','J1451+5914', 'J1700+2237']\n",
    "orig_name=['TON1129','FBQSJ095820.9+322402','SDSSJ095914.85+320357.2','2MASXJ12022678-0129155','SDSSJ120233.08+022559.7','SBS1421+511','SDSSJ142940.73+032125.8','SDSSJ143145.99+030143.8','2MASXJ14515156+5914001','UVQSJ170043.71+223700.2']\n",
    "host_haloid = [85746,85746,85746,140594,13927,144953,165082,165082,165707,147606]\n",
    "hostID=['nsa85746', 'nsa85746','nsa85746','nsa140594','nsa13927','nsa144953', 'nsa165082','nsa165153','nsa165707','nsa147606']\n",
    "z_qso=np.array([0.52611, 0.53060,0.56462,0.15069,0.27364,0.27622,0.25344,0.34055,0.29668,0.445132])\n",
    "host_helio_vel=[1457.0,1457.0,1457.0, 1461.8, 1967.7,2221. ,1657.4,1657.4,2148.21,2795.2 ]\n",
    "impact_param_host=[209.222285927, 13.4803426516, 157.119171001, 260.98587288, 235.973508037, 268.169740606,53.8712889489,244.117128625,155.099676124,271.80888]\n",
    "raqso=[149.0967254638672, 149.58726501464844, 149.81187438964844, 180.6114959716797,180.6378631591797, 215.80909729003906, 217.41976928710938, 217.94163513183594,222.96473693847656,255.182125]\n",
    "decqso=[32.60601806640625, 32.4006233215332, 32.06591033935547,-1.487576961517334,2.4332659244537354, 50.927024841308594, 3.3571879863739014, 3.028848886489868, 59.23335647583008, 22.616722222222222]\n",
    "redshift = np.round(np.array(host_helio_vel)/3.e5, 5)\n",
    "host_distance=[25.004747,25.004747,25.004747,23.120869, 0,34.035793,24.785791,24.785791, 33.376366,39.315384 ]\n",
    "\n",
    "sightlines_table=Table([qso_list, orig_name, host_haloid,host_helio_vel, redshift, impact_param_host, host_distance, raqso,decqso], names=(\"sightline\", \"QSO_name\", \"NAID\", \"host_helio_vel\", \"host_z\", \"b_host\", \"host distance\", \"RA QSO\", \"DEC QSO\"))\n",
    "sightlines_table.show_in_notebook()\n",
    "\n",
    "\n"
   ]
  },
  {
   "cell_type": "code",
   "execution_count": null,
   "metadata": {},
   "outputs": [],
   "source": []
  },
  {
   "cell_type": "code",
   "execution_count": 6,
   "metadata": {},
   "outputs": [
    {
     "name": "stdout",
     "output_type": "stream",
     "text": [
      " Lp   Species   Wavelength\n",
      "--- ----------- ----------\n",
      "  1    N I 1134    1134.66\n",
      "  2  Fe II 1144  1144.9379\n",
      "  3  Si II 1190   1190.203\n",
      "  4  S III 1190  1190.4158\n",
      "  5  Si II 1193  1193.2897\n",
      "  6    N I 1200    1200.66\n",
      "  7 Si III 1206     1206.5\n",
      "  8     HI 1215    1215.67\n",
      "  9     NV 1238   1238.821\n",
      " 10     NV 1242   1242.804\n",
      " 11   S II 1250   1250.578\n",
      " 12   S II 1253   1253.805\n",
      " 13   S II 1258   1259.518\n",
      " 14  Si II 1260  1260.4221\n",
      " 15     OI 1302  1302.1685\n",
      " 16  Si II 1304  1304.3702\n",
      " 17    CII 1334  1334.5323\n",
      " 18  Si IV 1393  1393.7602\n",
      " 19  Si IV 1402   1402.729\n",
      " 20  Si II 1526   1526.707\n"
     ]
    },
    {
     "ename": "OSError",
     "evalue": "/Users/ahamanowicz/Documents/GitHub/rbcodes/IGM/lines/lls.lst not found.",
     "output_type": "error",
     "traceback": [
      "\u001b[0;31m---------------------------------------------------------------------------\u001b[0m",
      "\u001b[0;31mOSError\u001b[0m                                   Traceback (most recent call last)",
      "\u001b[0;32m<ipython-input-6-42bef858d6db>\u001b[0m in \u001b[0;36m<module>\u001b[0;34m\u001b[0m\n\u001b[1;32m     14\u001b[0m \u001b[0;31m# line list from Rongmon\u001b[0m\u001b[0;34m\u001b[0m\u001b[0;34m\u001b[0m\u001b[0;34m\u001b[0m\u001b[0m\n\u001b[1;32m     15\u001b[0m \u001b[0mline_list_dir\u001b[0m\u001b[0;34m=\u001b[0m\u001b[0;34m'/Users/ahamanowicz/Documents/GitHub/rbcodes/IGM/lines/lls.lst'\u001b[0m\u001b[0;34m\u001b[0m\u001b[0;34m\u001b[0m\u001b[0m\n\u001b[0;32m---> 16\u001b[0;31m \u001b[0mline_list\u001b[0m\u001b[0;34m=\u001b[0m\u001b[0mnp\u001b[0m\u001b[0;34m.\u001b[0m\u001b[0mloadtxt\u001b[0m\u001b[0;34m(\u001b[0m\u001b[0mline_list_dir\u001b[0m\u001b[0;34m,\u001b[0m \u001b[0mskiprows\u001b[0m\u001b[0;34m=\u001b[0m\u001b[0;36m1\u001b[0m\u001b[0;34m,\u001b[0m \u001b[0mdtype\u001b[0m\u001b[0;34m=\u001b[0m\u001b[0;34m'str'\u001b[0m\u001b[0;34m)\u001b[0m\u001b[0;34m\u001b[0m\u001b[0;34m\u001b[0m\u001b[0m\n\u001b[0m",
      "\u001b[0;32m~/opt/anaconda3/envs/astro/lib/python3.8/site-packages/numpy/lib/npyio.py\u001b[0m in \u001b[0;36mloadtxt\u001b[0;34m(fname, dtype, comments, delimiter, converters, skiprows, usecols, unpack, ndmin, encoding, max_rows)\u001b[0m\n\u001b[1;32m    959\u001b[0m             \u001b[0mfname\u001b[0m \u001b[0;34m=\u001b[0m \u001b[0mos_fspath\u001b[0m\u001b[0;34m(\u001b[0m\u001b[0mfname\u001b[0m\u001b[0;34m)\u001b[0m\u001b[0;34m\u001b[0m\u001b[0;34m\u001b[0m\u001b[0m\n\u001b[1;32m    960\u001b[0m         \u001b[0;32mif\u001b[0m \u001b[0m_is_string_like\u001b[0m\u001b[0;34m(\u001b[0m\u001b[0mfname\u001b[0m\u001b[0;34m)\u001b[0m\u001b[0;34m:\u001b[0m\u001b[0;34m\u001b[0m\u001b[0;34m\u001b[0m\u001b[0m\n\u001b[0;32m--> 961\u001b[0;31m             \u001b[0mfh\u001b[0m \u001b[0;34m=\u001b[0m \u001b[0mnp\u001b[0m\u001b[0;34m.\u001b[0m\u001b[0mlib\u001b[0m\u001b[0;34m.\u001b[0m\u001b[0m_datasource\u001b[0m\u001b[0;34m.\u001b[0m\u001b[0mopen\u001b[0m\u001b[0;34m(\u001b[0m\u001b[0mfname\u001b[0m\u001b[0;34m,\u001b[0m \u001b[0;34m'rt'\u001b[0m\u001b[0;34m,\u001b[0m \u001b[0mencoding\u001b[0m\u001b[0;34m=\u001b[0m\u001b[0mencoding\u001b[0m\u001b[0;34m)\u001b[0m\u001b[0;34m\u001b[0m\u001b[0;34m\u001b[0m\u001b[0m\n\u001b[0m\u001b[1;32m    962\u001b[0m             \u001b[0mfencoding\u001b[0m \u001b[0;34m=\u001b[0m \u001b[0mgetattr\u001b[0m\u001b[0;34m(\u001b[0m\u001b[0mfh\u001b[0m\u001b[0;34m,\u001b[0m \u001b[0;34m'encoding'\u001b[0m\u001b[0;34m,\u001b[0m \u001b[0;34m'latin1'\u001b[0m\u001b[0;34m)\u001b[0m\u001b[0;34m\u001b[0m\u001b[0;34m\u001b[0m\u001b[0m\n\u001b[1;32m    963\u001b[0m             \u001b[0mfh\u001b[0m \u001b[0;34m=\u001b[0m \u001b[0miter\u001b[0m\u001b[0;34m(\u001b[0m\u001b[0mfh\u001b[0m\u001b[0;34m)\u001b[0m\u001b[0;34m\u001b[0m\u001b[0;34m\u001b[0m\u001b[0m\n",
      "\u001b[0;32m~/opt/anaconda3/envs/astro/lib/python3.8/site-packages/numpy/lib/_datasource.py\u001b[0m in \u001b[0;36mopen\u001b[0;34m(path, mode, destpath, encoding, newline)\u001b[0m\n\u001b[1;32m    193\u001b[0m \u001b[0;34m\u001b[0m\u001b[0m\n\u001b[1;32m    194\u001b[0m     \u001b[0mds\u001b[0m \u001b[0;34m=\u001b[0m \u001b[0mDataSource\u001b[0m\u001b[0;34m(\u001b[0m\u001b[0mdestpath\u001b[0m\u001b[0;34m)\u001b[0m\u001b[0;34m\u001b[0m\u001b[0;34m\u001b[0m\u001b[0m\n\u001b[0;32m--> 195\u001b[0;31m     \u001b[0;32mreturn\u001b[0m \u001b[0mds\u001b[0m\u001b[0;34m.\u001b[0m\u001b[0mopen\u001b[0m\u001b[0;34m(\u001b[0m\u001b[0mpath\u001b[0m\u001b[0;34m,\u001b[0m \u001b[0mmode\u001b[0m\u001b[0;34m,\u001b[0m \u001b[0mencoding\u001b[0m\u001b[0;34m=\u001b[0m\u001b[0mencoding\u001b[0m\u001b[0;34m,\u001b[0m \u001b[0mnewline\u001b[0m\u001b[0;34m=\u001b[0m\u001b[0mnewline\u001b[0m\u001b[0;34m)\u001b[0m\u001b[0;34m\u001b[0m\u001b[0;34m\u001b[0m\u001b[0m\n\u001b[0m\u001b[1;32m    196\u001b[0m \u001b[0;34m\u001b[0m\u001b[0m\n\u001b[1;32m    197\u001b[0m \u001b[0;34m\u001b[0m\u001b[0m\n",
      "\u001b[0;32m~/opt/anaconda3/envs/astro/lib/python3.8/site-packages/numpy/lib/_datasource.py\u001b[0m in \u001b[0;36mopen\u001b[0;34m(self, path, mode, encoding, newline)\u001b[0m\n\u001b[1;32m    533\u001b[0m                                       encoding=encoding, newline=newline)\n\u001b[1;32m    534\u001b[0m         \u001b[0;32melse\u001b[0m\u001b[0;34m:\u001b[0m\u001b[0;34m\u001b[0m\u001b[0;34m\u001b[0m\u001b[0m\n\u001b[0;32m--> 535\u001b[0;31m             \u001b[0;32mraise\u001b[0m \u001b[0mIOError\u001b[0m\u001b[0;34m(\u001b[0m\u001b[0;34m\"%s not found.\"\u001b[0m \u001b[0;34m%\u001b[0m \u001b[0mpath\u001b[0m\u001b[0;34m)\u001b[0m\u001b[0;34m\u001b[0m\u001b[0;34m\u001b[0m\u001b[0m\n\u001b[0m\u001b[1;32m    536\u001b[0m \u001b[0;34m\u001b[0m\u001b[0m\n\u001b[1;32m    537\u001b[0m \u001b[0;34m\u001b[0m\u001b[0m\n",
      "\u001b[0;31mOSError\u001b[0m: /Users/ahamanowicz/Documents/GitHub/rbcodes/IGM/lines/lls.lst not found."
     ]
    }
   ],
   "source": [
    "#Metal absorption lines + Ly alpha selection from Leehnrer+18 for the COS wavelength range\n",
    "\n",
    "lines = ['N I 1134','Fe II 1144','Si II 1190','S III 1190', 'Si II 1193','N I 1200','Si III 1206', 'HI 1215',  'NV 1238', 'NV 1242','S II 1250', 'S II 1253','S II 1258','Si II 1260',\n",
    "         'OI 1302',  'Si II 1304','CII 1334',    'Si IV 1393',\n",
    "         'Si IV 1402',\n",
    "         'Si II 1526']\n",
    "lines_wav =[1215.6700,1302.1685, 1334.5323,1200.66, 1134.66, 1238.8210,1242.8040, 1260.4221, 1193.2897, 1190.4158, 1526.7070, 1304.3702, 1206.5000, 1393.7602, 1402.729, 1144.9379, 1259.5180, 1253.8050, 1250.5780,1190.2030 ] \n",
    "lines_wav = sorted(lines_wav)\n",
    "#osc_strength=[2.70, 1.80, 2.23, 2.20,2.02,1.71, 1.67, 1.51, 1.22, 2.29, 1.98, 3.17, 2.84, 2.54, 2.31, 2.05, 3.29, 2.85, 2.55, 1.98, 1.79, 1.32, 1.14, 0.83, 1.45]\n",
    "lp=range(1,np.size(lines)+1)\n",
    "lines_table=Table([lp,lines,lines_wav], names=(\"Lp\",\"Species\", 'Wavelength'))\n",
    "lines_table.pprint_all()\n",
    "\n",
    "# line list from Rongmon\n",
    "line_list_dir='/Users/ahamanowicz/Documents/GitHub/rbcodes/IGM/lines/lls.lst'\n",
    "line_list=np.loadtxt(line_list_dir, skiprows=1, dtype='str')\n"
   ]
  },
  {
   "cell_type": "raw",
   "metadata": {},
   "source": [
    "# rebin the archival sightlines - use rb_specbin.py on J0959 HJ1423 J1429 and J1431 (outside) - complete"
   ]
  },
  {
   "cell_type": "markdown",
   "metadata": {},
   "source": [
    "## SAGA hosts and satellites information\n"
   ]
  },
  {
   "cell_type": "code",
   "execution_count": 7,
   "metadata": {},
   "outputs": [
    {
     "ename": "NameError",
     "evalue": "name 'hosts' is not defined",
     "output_type": "error",
     "traceback": [
      "\u001b[0;31m---------------------------------------------------------------------------\u001b[0m",
      "\u001b[0;31mNameError\u001b[0m                                 Traceback (most recent call last)",
      "\u001b[0;32m<ipython-input-7-2fee4a65e309>\u001b[0m in \u001b[0;36m<module>\u001b[0;34m\u001b[0m\n\u001b[1;32m      1\u001b[0m \u001b[0;31m## HOSTS\u001b[0m\u001b[0;34m\u001b[0m\u001b[0;34m\u001b[0m\u001b[0;34m\u001b[0m\u001b[0m\n\u001b[0;32m----> 2\u001b[0;31m \u001b[0mN\u001b[0m\u001b[0;34m=\u001b[0m\u001b[0mnp\u001b[0m\u001b[0;34m.\u001b[0m\u001b[0msize\u001b[0m\u001b[0;34m(\u001b[0m\u001b[0mhosts\u001b[0m\u001b[0;34m[\u001b[0m\u001b[0;34m'NSAID'\u001b[0m\u001b[0;34m]\u001b[0m\u001b[0;34m)\u001b[0m\u001b[0;34m\u001b[0m\u001b[0;34m\u001b[0m\u001b[0m\n\u001b[0m\u001b[1;32m      3\u001b[0m \u001b[0;34m\u001b[0m\u001b[0m\n\u001b[1;32m      4\u001b[0m \u001b[0mcos_saga_hosts\u001b[0m \u001b[0;34m=\u001b[0m \u001b[0mTable\u001b[0m\u001b[0;34m(\u001b[0m\u001b[0mnames\u001b[0m\u001b[0;34m=\u001b[0m\u001b[0;34m(\u001b[0m\u001b[0;34m'HOSTID'\u001b[0m\u001b[0;34m,\u001b[0m \u001b[0;34m'RA'\u001b[0m\u001b[0;34m,\u001b[0m \u001b[0;34m'DEC'\u001b[0m\u001b[0;34m,\u001b[0m \u001b[0;34m'V_HELIO'\u001b[0m\u001b[0;34m,\u001b[0m \u001b[0;34m'M_HALO'\u001b[0m\u001b[0;34m)\u001b[0m\u001b[0;34m,\u001b[0m \u001b[0mdtype\u001b[0m\u001b[0;34m=\u001b[0m\u001b[0;34m(\u001b[0m\u001b[0;34m'int'\u001b[0m\u001b[0;34m,\u001b[0m \u001b[0;34m'float'\u001b[0m\u001b[0;34m,\u001b[0m\u001b[0;34m'float'\u001b[0m\u001b[0;34m,\u001b[0m\u001b[0;34m'float'\u001b[0m\u001b[0;34m,\u001b[0m\u001b[0;34m'float'\u001b[0m\u001b[0;34m)\u001b[0m\u001b[0;34m)\u001b[0m\u001b[0;34m\u001b[0m\u001b[0;34m\u001b[0m\u001b[0m\n\u001b[1;32m      5\u001b[0m \u001b[0;34m\u001b[0m\u001b[0m\n",
      "\u001b[0;31mNameError\u001b[0m: name 'hosts' is not defined"
     ]
    }
   ],
   "source": [
    "## HOSTS\n",
    "N=np.size(hosts['NSAID'])\n",
    "\n",
    "cos_saga_hosts = Table(names=('HOSTID', 'RA', 'DEC', 'V_HELIO', 'M_HALO'), dtype=('int', 'float','float','float','float'))\n",
    "\n",
    "#print(hosts.colnames)\n",
    "for n in range(N):\n",
    "    for hostid in sightlines_table['NAID']:\n",
    "        if hosts['NSAID'][n] == hostid:\n",
    "            if hostid not in cos_saga_hosts['HOSTID']:\n",
    "            # print(hostid, hosts['RA'][n],hosts['DEC'][n], hosts['V_HELIO'][n], hosts['M_HALO'][n])\n",
    "                cos_saga_hosts.add_row([int(hostid), hosts['RA'][n],hosts['DEC'][n], hosts['V_HELIO'][n], hosts['M_HALO'][n]])\n",
    "print(cos_saga_hosts)\n",
    "\n"
   ]
  },
  {
   "cell_type": "markdown",
   "metadata": {},
   "source": [
    "Multiple sightlines hosts - 85746"
   ]
  },
  {
   "cell_type": "code",
   "execution_count": 8,
   "metadata": {},
   "outputs": [
    {
     "ename": "NameError",
     "evalue": "name 'sats' is not defined",
     "output_type": "error",
     "traceback": [
      "\u001b[0;31m---------------------------------------------------------------------------\u001b[0m",
      "\u001b[0;31mNameError\u001b[0m                                 Traceback (most recent call last)",
      "\u001b[0;32m<ipython-input-8-cea6870cb607>\u001b[0m in \u001b[0;36m<module>\u001b[0;34m\u001b[0m\n\u001b[1;32m      3\u001b[0m \u001b[0mcos_saga_satellites\u001b[0m \u001b[0;34m=\u001b[0m \u001b[0mTable\u001b[0m\u001b[0;34m(\u001b[0m\u001b[0mnames\u001b[0m\u001b[0;34m=\u001b[0m\u001b[0;34m(\u001b[0m\u001b[0;34m'HOSTID'\u001b[0m\u001b[0;34m,\u001b[0m \u001b[0;34m'SATELLITE_ID'\u001b[0m\u001b[0;34m,\u001b[0m\u001b[0;34m'RA'\u001b[0m\u001b[0;34m,\u001b[0m \u001b[0;34m'DEC'\u001b[0m\u001b[0;34m,\u001b[0m \u001b[0;34m'RHOST_KPC'\u001b[0m\u001b[0;34m,\u001b[0m \u001b[0;34m'log_sm'\u001b[0m\u001b[0;34m,\u001b[0m \u001b[0;34m'SPEC_Z'\u001b[0m\u001b[0;34m)\u001b[0m\u001b[0;34m,\u001b[0m \u001b[0mdtype\u001b[0m\u001b[0;34m=\u001b[0m\u001b[0;34m(\u001b[0m\u001b[0;34m'int'\u001b[0m\u001b[0;34m,\u001b[0m \u001b[0;34m'int'\u001b[0m\u001b[0;34m,\u001b[0m \u001b[0;34m'float'\u001b[0m\u001b[0;34m,\u001b[0m\u001b[0;34m'float'\u001b[0m\u001b[0;34m,\u001b[0m\u001b[0;34m'float'\u001b[0m\u001b[0;34m,\u001b[0m\u001b[0;34m'float'\u001b[0m\u001b[0;34m,\u001b[0m\u001b[0;34m'float'\u001b[0m\u001b[0;34m)\u001b[0m\u001b[0;34m)\u001b[0m\u001b[0;34m\u001b[0m\u001b[0;34m\u001b[0m\u001b[0m\n\u001b[1;32m      4\u001b[0m \u001b[0;34m\u001b[0m\u001b[0m\n\u001b[0;32m----> 5\u001b[0;31m \u001b[0mM\u001b[0m \u001b[0;34m=\u001b[0m \u001b[0mnp\u001b[0m\u001b[0;34m.\u001b[0m\u001b[0msize\u001b[0m\u001b[0;34m(\u001b[0m\u001b[0msats\u001b[0m\u001b[0;34m[\u001b[0m\u001b[0;34m'OBJID'\u001b[0m\u001b[0;34m]\u001b[0m\u001b[0;34m)\u001b[0m\u001b[0;34m\u001b[0m\u001b[0;34m\u001b[0m\u001b[0m\n\u001b[0m\u001b[1;32m      6\u001b[0m \u001b[0;32mfor\u001b[0m \u001b[0mn\u001b[0m \u001b[0;32min\u001b[0m \u001b[0mrange\u001b[0m\u001b[0;34m(\u001b[0m\u001b[0mM\u001b[0m\u001b[0;34m)\u001b[0m\u001b[0;34m:\u001b[0m\u001b[0;34m\u001b[0m\u001b[0;34m\u001b[0m\u001b[0m\n\u001b[1;32m      7\u001b[0m     \u001b[0;32mfor\u001b[0m \u001b[0mhostid\u001b[0m \u001b[0;32min\u001b[0m \u001b[0msightlines_table\u001b[0m\u001b[0;34m[\u001b[0m\u001b[0;34m'NAID'\u001b[0m\u001b[0;34m]\u001b[0m\u001b[0;34m:\u001b[0m\u001b[0;34m\u001b[0m\u001b[0;34m\u001b[0m\u001b[0m\n",
      "\u001b[0;31mNameError\u001b[0m: name 'sats' is not defined"
     ]
    }
   ],
   "source": [
    "## SATELLITES\n",
    "#print(sats.colnames)\n",
    "cos_saga_satellites = Table(names=('HOSTID', 'SATELLITE_ID','RA', 'DEC', 'RHOST_KPC', 'log_sm', 'SPEC_Z'), dtype=('int', 'int', 'float','float','float','float','float'))\n",
    "\n",
    "M = np.size(sats['OBJID'])\n",
    "for n in range(M):\n",
    "    for hostid in sightlines_table['NAID']:\n",
    "        if sats['HOST_NSAID'][n] == hostid:\n",
    "            if sats['OBJID'][n] not in cos_saga_satellites['SATELLITE_ID']:\n",
    "                #print(hostid, sats['OBJID'][n], sats['RA'][n], sats['DEC'][n], sats['RHOST_KPC'][n], sats['log_sm'][n], sats['SPEC_Z'][n])\n",
    "                cos_saga_satellites.add_row([hostid, sats['OBJID'][n], sats['RA'][n], sats['DEC'][n], sats['RHOST_KPC'][n], sats['log_sm'][n], sats['SPEC_Z'][n]])\n",
    "\n",
    "                \n",
    "             \n",
    "                \n",
    "                \n",
    "                \n",
    "cos_saga_satellites.show_in_notebook()\n"
   ]
  },
  {
   "cell_type": "code",
   "execution_count": null,
   "metadata": {},
   "outputs": [],
   "source": [
    "cos_saga_satellites.add_row([165082, 681656, 217.67292879868697, 3.425723527320057,137.9065,8.860233342091073, 0.0059271315 ])   \n",
    "cos_saga_satellites.add_row([165082, 87370, 217.23277401294135, 3.8515685760734075, 279.18707, 8.005020194466411,0.005619451])\n",
    "cos_saga_satellites.add_row([165082, 74043, 217.33157059631858, 2.7105423683853176, 229.23521 , 8.334861935794631, 0.006001042] )  \n",
    "cos_saga_satellites.add_row([165082, 1237654879127601248, 217.6812817843503, 3.345383258372323, 123.48099, 7.8975840449981245, 0.0050901882])\n",
    "cos_saga_satellites.add_row([165082, 631861, 217.86348991150788, 3.0091635379966744, 215.19458, 9.63013231925916, 0.004853365])\n",
    "cos_saga_satellites.add_row([165082, 87294, 217.9707567106337, 3.3800403176706824, 246.88214, 7.383959234075788, 0.0051894514])\n",
    "cos_saga_satellites.add_row([165082, 87358, 217.5077014008536, 3.77290518411652, 236.57875,8.94070299945183, 0.0058014514])\n",
    "cos_saga_satellites.add_row([165082, 681515, 217.26621891520384, 3.1489905554887674, 75.15012,   8.948841647210525, 0.0061711045]  )                 \n",
    "cos_saga_satellites.add_row([165082, 87290, 217.81893353616692, 3.2567384880858876, 173.30058, 8.521095878865554,  0.005128451] )                          \n",
    "cos_saga_satellites.add_row([165082, 87352, 217.41257161258602, 3.266285795439988, 14.491487,9.78914648463536, 0.005505524])\n",
    "cos_saga_satellites.add_row([165082, 1237654879127535715, 217.5043704367497, 3.2208507301408034, 37.550877, 8.739737561710125, 0.0061642644])\n",
    "cos_saga_satellites.add_row([165082, 87346, 217.70061004360554, 3.796388769547217, 272.6854, 7.503755991290589, 0.005596543]   )                         \n",
    "                                              \n",
    "                             "
   ]
  },
  {
   "cell_type": "code",
   "execution_count": 9,
   "metadata": {},
   "outputs": [
    {
     "data": {
      "text/html": [
       "<i>Table length=0</i>\n",
       "<table id=\"table140191762869504-9560\" class=\"table-striped table-bordered table-condensed\">\n",
       "<thead><tr><th>idx</th><th>HOSTID</th><th>SATELLITE_ID</th><th>RA</th><th>DEC</th></tr></thead>\n",
       "</table><style>table.dataTable {clear: both; width: auto !important; margin: 0 !important;}\n",
       ".dataTables_info, .dataTables_length, .dataTables_filter, .dataTables_paginate{\n",
       "display: inline-block; margin-right: 1em; }\n",
       ".paginate_button { margin-right: 5px; }\n",
       "</style>\n",
       "<script>\n",
       "\n",
       "var astropy_sort_num = function(a, b) {\n",
       "    var a_num = parseFloat(a);\n",
       "    var b_num = parseFloat(b);\n",
       "\n",
       "    if (isNaN(a_num) && isNaN(b_num))\n",
       "        return ((a < b) ? -1 : ((a > b) ? 1 : 0));\n",
       "    else if (!isNaN(a_num) && !isNaN(b_num))\n",
       "        return ((a_num < b_num) ? -1 : ((a_num > b_num) ? 1 : 0));\n",
       "    else\n",
       "        return isNaN(a_num) ? -1 : 1;\n",
       "}\n",
       "\n",
       "require.config({paths: {\n",
       "    datatables: 'https://cdn.datatables.net/1.10.12/js/jquery.dataTables.min'\n",
       "}});\n",
       "require([\"datatables\"], function(){\n",
       "    console.log(\"$('#table140191762869504-9560').dataTable()\");\n",
       "    \n",
       "jQuery.extend( jQuery.fn.dataTableExt.oSort, {\n",
       "    \"optionalnum-asc\": astropy_sort_num,\n",
       "    \"optionalnum-desc\": function (a,b) { return -astropy_sort_num(a, b); }\n",
       "});\n",
       "\n",
       "    $('#table140191762869504-9560').dataTable({\n",
       "        order: [],\n",
       "        pageLength: 50,\n",
       "        lengthMenu: [[10, 25, 50, 100, 500, 1000, -1], [10, 25, 50, 100, 500, 1000, 'All']],\n",
       "        pagingType: \"full_numbers\",\n",
       "        columnDefs: [{targets: [0, 1, 2, 3, 4], type: \"optionalnum\"}]\n",
       "    });\n",
       "});\n",
       "</script>\n"
      ],
      "text/plain": [
       "<IPython.core.display.HTML object>"
      ]
     },
     "execution_count": 9,
     "metadata": {},
     "output_type": "execute_result"
    }
   ],
   "source": [
    "cos_saga_satellites['HOSTID','SATELLITE_ID', 'RA', 'DEC'].show_in_notebook()\n",
    "\n"
   ]
  },
  {
   "cell_type": "code",
   "execution_count": 10,
   "metadata": {},
   "outputs": [
    {
     "ename": "NameError",
     "evalue": "name 'cos_saga_hosts' is not defined",
     "output_type": "error",
     "traceback": [
      "\u001b[0;31m---------------------------------------------------------------------------\u001b[0m",
      "\u001b[0;31mNameError\u001b[0m                                 Traceback (most recent call last)",
      "\u001b[0;32m<ipython-input-10-7fe35fff785d>\u001b[0m in \u001b[0;36m<module>\u001b[0;34m\u001b[0m\n\u001b[0;32m----> 1\u001b[0;31m \u001b[0mcos_saga_hosts\u001b[0m\u001b[0;34m[\u001b[0m\u001b[0;34m'No SATELLITES'\u001b[0m\u001b[0;34m]\u001b[0m \u001b[0;34m=\u001b[0m \u001b[0;34m[\u001b[0m\u001b[0;36m0\u001b[0m\u001b[0;34m,\u001b[0m\u001b[0;34m-\u001b[0m\u001b[0;36m99\u001b[0m\u001b[0;34m,\u001b[0m\u001b[0;36m5\u001b[0m\u001b[0;34m,\u001b[0m\u001b[0;36m9\u001b[0m\u001b[0;34m,\u001b[0m\u001b[0;36m12\u001b[0m\u001b[0;34m,\u001b[0m\u001b[0;36m3\u001b[0m\u001b[0;34m,\u001b[0m\u001b[0;36m1\u001b[0m\u001b[0;34m]\u001b[0m\u001b[0;34m\u001b[0m\u001b[0;34m\u001b[0m\u001b[0m\n\u001b[0m\u001b[1;32m      2\u001b[0m \u001b[0mcos_saga_hosts\u001b[0m\u001b[0;34m.\u001b[0m\u001b[0mshow_in_notebook\u001b[0m\u001b[0;34m(\u001b[0m\u001b[0;34m)\u001b[0m\u001b[0;34m\u001b[0m\u001b[0;34m\u001b[0m\u001b[0m\n\u001b[1;32m      3\u001b[0m \u001b[0mprint\u001b[0m\u001b[0;34m(\u001b[0m\u001b[0mcos_saga_hosts\u001b[0m\u001b[0;34m)\u001b[0m\u001b[0;34m\u001b[0m\u001b[0;34m\u001b[0m\u001b[0m\n\u001b[1;32m      4\u001b[0m \u001b[0;34m\u001b[0m\u001b[0m\n",
      "\u001b[0;31mNameError\u001b[0m: name 'cos_saga_hosts' is not defined"
     ]
    }
   ],
   "source": [
    "cos_saga_hosts['No SATELLITES'] = [0,-99,5,9,12,3,1]\n",
    "cos_saga_hosts.show_in_notebook()\n",
    "print(cos_saga_hosts)\n",
    "\n"
   ]
  },
  {
   "cell_type": "code",
   "execution_count": 11,
   "metadata": {},
   "outputs": [
    {
     "ename": "ValueError",
     "evalue": "`bins` must be positive, when an integer",
     "output_type": "error",
     "traceback": [
      "\u001b[0;31m---------------------------------------------------------------------------\u001b[0m",
      "\u001b[0;31mValueError\u001b[0m                                Traceback (most recent call last)",
      "\u001b[0;32m<ipython-input-11-526d5a9f9f99>\u001b[0m in \u001b[0;36m<module>\u001b[0;34m\u001b[0m\n\u001b[1;32m      1\u001b[0m \u001b[0mfig\u001b[0m\u001b[0;34m=\u001b[0m\u001b[0mplt\u001b[0m\u001b[0;34m.\u001b[0m\u001b[0mfigure\u001b[0m\u001b[0;34m(\u001b[0m\u001b[0mfigsize\u001b[0m\u001b[0;34m=\u001b[0m\u001b[0;34m(\u001b[0m\u001b[0;36m7\u001b[0m\u001b[0;34m,\u001b[0m\u001b[0;36m7\u001b[0m\u001b[0;34m)\u001b[0m\u001b[0;34m)\u001b[0m\u001b[0;34m\u001b[0m\u001b[0;34m\u001b[0m\u001b[0m\n\u001b[1;32m      2\u001b[0m \u001b[0mbins\u001b[0m\u001b[0;34m=\u001b[0m\u001b[0mnp\u001b[0m\u001b[0;34m.\u001b[0m\u001b[0mceil\u001b[0m\u001b[0;34m(\u001b[0m\u001b[0mnp\u001b[0m\u001b[0;34m.\u001b[0m\u001b[0msqrt\u001b[0m\u001b[0;34m(\u001b[0m\u001b[0mnp\u001b[0m\u001b[0;34m.\u001b[0m\u001b[0msize\u001b[0m\u001b[0;34m(\u001b[0m\u001b[0mcos_saga_satellites\u001b[0m\u001b[0;34m[\u001b[0m\u001b[0;34m'log_sm'\u001b[0m\u001b[0;34m]\u001b[0m\u001b[0;34m)\u001b[0m\u001b[0;34m)\u001b[0m\u001b[0;34m)\u001b[0m\u001b[0;34m\u001b[0m\u001b[0;34m\u001b[0m\u001b[0m\n\u001b[0;32m----> 3\u001b[0;31m \u001b[0mplt\u001b[0m\u001b[0;34m.\u001b[0m\u001b[0mhist\u001b[0m\u001b[0;34m(\u001b[0m\u001b[0mcos_saga_satellites\u001b[0m\u001b[0;34m[\u001b[0m\u001b[0;34m'log_sm'\u001b[0m\u001b[0;34m]\u001b[0m \u001b[0;34m,\u001b[0m\u001b[0mcolor\u001b[0m\u001b[0;34m=\u001b[0m\u001b[0;34m'navy'\u001b[0m\u001b[0;34m,\u001b[0m \u001b[0mlw\u001b[0m\u001b[0;34m=\u001b[0m\u001b[0;36m4\u001b[0m\u001b[0;34m,\u001b[0m \u001b[0mbins\u001b[0m\u001b[0;34m=\u001b[0m\u001b[0mint\u001b[0m\u001b[0;34m(\u001b[0m\u001b[0mbins\u001b[0m\u001b[0;34m)\u001b[0m\u001b[0;34m,\u001b[0m \u001b[0mhisttype\u001b[0m\u001b[0;34m=\u001b[0m\u001b[0;34m'step'\u001b[0m\u001b[0;34m,\u001b[0m \u001b[0mhatch\u001b[0m\u001b[0;34m=\u001b[0m\u001b[0;34m'///'\u001b[0m\u001b[0;34m)\u001b[0m\u001b[0;34m\u001b[0m\u001b[0;34m\u001b[0m\u001b[0m\n\u001b[0m\u001b[1;32m      4\u001b[0m \u001b[0mplt\u001b[0m\u001b[0;34m.\u001b[0m\u001b[0mxlabel\u001b[0m\u001b[0;34m(\u001b[0m\u001b[0;34mr\"Satellite log(M$_*$)\"\u001b[0m\u001b[0;34m)\u001b[0m\u001b[0;34m\u001b[0m\u001b[0;34m\u001b[0m\u001b[0m\n\u001b[1;32m      5\u001b[0m \u001b[0mplt\u001b[0m\u001b[0;34m.\u001b[0m\u001b[0mylabel\u001b[0m\u001b[0;34m(\u001b[0m\u001b[0;34mr\"N$_{counts}$\"\u001b[0m\u001b[0;34m)\u001b[0m\u001b[0;34m\u001b[0m\u001b[0;34m\u001b[0m\u001b[0m\n",
      "\u001b[0;32m~/opt/anaconda3/envs/astro/lib/python3.8/site-packages/matplotlib/pyplot.py\u001b[0m in \u001b[0;36mhist\u001b[0;34m(x, bins, range, density, weights, cumulative, bottom, histtype, align, orientation, rwidth, log, color, label, stacked, data, **kwargs)\u001b[0m\n\u001b[1;32m   2683\u001b[0m         \u001b[0morientation\u001b[0m\u001b[0;34m=\u001b[0m\u001b[0;34m'vertical'\u001b[0m\u001b[0;34m,\u001b[0m \u001b[0mrwidth\u001b[0m\u001b[0;34m=\u001b[0m\u001b[0;32mNone\u001b[0m\u001b[0;34m,\u001b[0m \u001b[0mlog\u001b[0m\u001b[0;34m=\u001b[0m\u001b[0;32mFalse\u001b[0m\u001b[0;34m,\u001b[0m \u001b[0mcolor\u001b[0m\u001b[0;34m=\u001b[0m\u001b[0;32mNone\u001b[0m\u001b[0;34m,\u001b[0m\u001b[0;34m\u001b[0m\u001b[0;34m\u001b[0m\u001b[0m\n\u001b[1;32m   2684\u001b[0m         label=None, stacked=False, *, data=None, **kwargs):\n\u001b[0;32m-> 2685\u001b[0;31m     return gca().hist(\n\u001b[0m\u001b[1;32m   2686\u001b[0m         \u001b[0mx\u001b[0m\u001b[0;34m,\u001b[0m \u001b[0mbins\u001b[0m\u001b[0;34m=\u001b[0m\u001b[0mbins\u001b[0m\u001b[0;34m,\u001b[0m \u001b[0mrange\u001b[0m\u001b[0;34m=\u001b[0m\u001b[0mrange\u001b[0m\u001b[0;34m,\u001b[0m \u001b[0mdensity\u001b[0m\u001b[0;34m=\u001b[0m\u001b[0mdensity\u001b[0m\u001b[0;34m,\u001b[0m \u001b[0mweights\u001b[0m\u001b[0;34m=\u001b[0m\u001b[0mweights\u001b[0m\u001b[0;34m,\u001b[0m\u001b[0;34m\u001b[0m\u001b[0;34m\u001b[0m\u001b[0m\n\u001b[1;32m   2687\u001b[0m         \u001b[0mcumulative\u001b[0m\u001b[0;34m=\u001b[0m\u001b[0mcumulative\u001b[0m\u001b[0;34m,\u001b[0m \u001b[0mbottom\u001b[0m\u001b[0;34m=\u001b[0m\u001b[0mbottom\u001b[0m\u001b[0;34m,\u001b[0m \u001b[0mhisttype\u001b[0m\u001b[0;34m=\u001b[0m\u001b[0mhisttype\u001b[0m\u001b[0;34m,\u001b[0m\u001b[0;34m\u001b[0m\u001b[0;34m\u001b[0m\u001b[0m\n",
      "\u001b[0;32m~/opt/anaconda3/envs/astro/lib/python3.8/site-packages/matplotlib/__init__.py\u001b[0m in \u001b[0;36minner\u001b[0;34m(ax, data, *args, **kwargs)\u001b[0m\n\u001b[1;32m   1445\u001b[0m     \u001b[0;32mdef\u001b[0m \u001b[0minner\u001b[0m\u001b[0;34m(\u001b[0m\u001b[0max\u001b[0m\u001b[0;34m,\u001b[0m \u001b[0;34m*\u001b[0m\u001b[0margs\u001b[0m\u001b[0;34m,\u001b[0m \u001b[0mdata\u001b[0m\u001b[0;34m=\u001b[0m\u001b[0;32mNone\u001b[0m\u001b[0;34m,\u001b[0m \u001b[0;34m**\u001b[0m\u001b[0mkwargs\u001b[0m\u001b[0;34m)\u001b[0m\u001b[0;34m:\u001b[0m\u001b[0;34m\u001b[0m\u001b[0;34m\u001b[0m\u001b[0m\n\u001b[1;32m   1446\u001b[0m         \u001b[0;32mif\u001b[0m \u001b[0mdata\u001b[0m \u001b[0;32mis\u001b[0m \u001b[0;32mNone\u001b[0m\u001b[0;34m:\u001b[0m\u001b[0;34m\u001b[0m\u001b[0;34m\u001b[0m\u001b[0m\n\u001b[0;32m-> 1447\u001b[0;31m             \u001b[0;32mreturn\u001b[0m \u001b[0mfunc\u001b[0m\u001b[0;34m(\u001b[0m\u001b[0max\u001b[0m\u001b[0;34m,\u001b[0m \u001b[0;34m*\u001b[0m\u001b[0mmap\u001b[0m\u001b[0;34m(\u001b[0m\u001b[0msanitize_sequence\u001b[0m\u001b[0;34m,\u001b[0m \u001b[0margs\u001b[0m\u001b[0;34m)\u001b[0m\u001b[0;34m,\u001b[0m \u001b[0;34m**\u001b[0m\u001b[0mkwargs\u001b[0m\u001b[0;34m)\u001b[0m\u001b[0;34m\u001b[0m\u001b[0;34m\u001b[0m\u001b[0m\n\u001b[0m\u001b[1;32m   1448\u001b[0m \u001b[0;34m\u001b[0m\u001b[0m\n\u001b[1;32m   1449\u001b[0m         \u001b[0mbound\u001b[0m \u001b[0;34m=\u001b[0m \u001b[0mnew_sig\u001b[0m\u001b[0;34m.\u001b[0m\u001b[0mbind\u001b[0m\u001b[0;34m(\u001b[0m\u001b[0max\u001b[0m\u001b[0;34m,\u001b[0m \u001b[0;34m*\u001b[0m\u001b[0margs\u001b[0m\u001b[0;34m,\u001b[0m \u001b[0;34m**\u001b[0m\u001b[0mkwargs\u001b[0m\u001b[0;34m)\u001b[0m\u001b[0;34m\u001b[0m\u001b[0;34m\u001b[0m\u001b[0m\n",
      "\u001b[0;32m~/opt/anaconda3/envs/astro/lib/python3.8/site-packages/matplotlib/axes/_axes.py\u001b[0m in \u001b[0;36mhist\u001b[0;34m(self, x, bins, range, density, weights, cumulative, bottom, histtype, align, orientation, rwidth, log, color, label, stacked, **kwargs)\u001b[0m\n\u001b[1;32m   6649\u001b[0m             \u001b[0;31m# this will automatically overwrite bins,\u001b[0m\u001b[0;34m\u001b[0m\u001b[0;34m\u001b[0m\u001b[0;34m\u001b[0m\u001b[0m\n\u001b[1;32m   6650\u001b[0m             \u001b[0;31m# so that each histogram uses the same bins\u001b[0m\u001b[0;34m\u001b[0m\u001b[0;34m\u001b[0m\u001b[0;34m\u001b[0m\u001b[0m\n\u001b[0;32m-> 6651\u001b[0;31m             \u001b[0mm\u001b[0m\u001b[0;34m,\u001b[0m \u001b[0mbins\u001b[0m \u001b[0;34m=\u001b[0m \u001b[0mnp\u001b[0m\u001b[0;34m.\u001b[0m\u001b[0mhistogram\u001b[0m\u001b[0;34m(\u001b[0m\u001b[0mx\u001b[0m\u001b[0;34m[\u001b[0m\u001b[0mi\u001b[0m\u001b[0;34m]\u001b[0m\u001b[0;34m,\u001b[0m \u001b[0mbins\u001b[0m\u001b[0;34m,\u001b[0m \u001b[0mweights\u001b[0m\u001b[0;34m=\u001b[0m\u001b[0mw\u001b[0m\u001b[0;34m[\u001b[0m\u001b[0mi\u001b[0m\u001b[0;34m]\u001b[0m\u001b[0;34m,\u001b[0m \u001b[0;34m**\u001b[0m\u001b[0mhist_kwargs\u001b[0m\u001b[0;34m)\u001b[0m\u001b[0;34m\u001b[0m\u001b[0;34m\u001b[0m\u001b[0m\n\u001b[0m\u001b[1;32m   6652\u001b[0m             \u001b[0mtops\u001b[0m\u001b[0;34m.\u001b[0m\u001b[0mappend\u001b[0m\u001b[0;34m(\u001b[0m\u001b[0mm\u001b[0m\u001b[0;34m)\u001b[0m\u001b[0;34m\u001b[0m\u001b[0;34m\u001b[0m\u001b[0m\n\u001b[1;32m   6653\u001b[0m         \u001b[0mtops\u001b[0m \u001b[0;34m=\u001b[0m \u001b[0mnp\u001b[0m\u001b[0;34m.\u001b[0m\u001b[0marray\u001b[0m\u001b[0;34m(\u001b[0m\u001b[0mtops\u001b[0m\u001b[0;34m,\u001b[0m \u001b[0mfloat\u001b[0m\u001b[0;34m)\u001b[0m  \u001b[0;31m# causes problems later if it's an int\u001b[0m\u001b[0;34m\u001b[0m\u001b[0;34m\u001b[0m\u001b[0m\n",
      "\u001b[0;32m<__array_function__ internals>\u001b[0m in \u001b[0;36mhistogram\u001b[0;34m(*args, **kwargs)\u001b[0m\n",
      "\u001b[0;32m~/opt/anaconda3/envs/astro/lib/python3.8/site-packages/numpy/lib/histograms.py\u001b[0m in \u001b[0;36mhistogram\u001b[0;34m(a, bins, range, normed, weights, density)\u001b[0m\n\u001b[1;32m    790\u001b[0m     \u001b[0ma\u001b[0m\u001b[0;34m,\u001b[0m \u001b[0mweights\u001b[0m \u001b[0;34m=\u001b[0m \u001b[0m_ravel_and_check_weights\u001b[0m\u001b[0;34m(\u001b[0m\u001b[0ma\u001b[0m\u001b[0;34m,\u001b[0m \u001b[0mweights\u001b[0m\u001b[0;34m)\u001b[0m\u001b[0;34m\u001b[0m\u001b[0;34m\u001b[0m\u001b[0m\n\u001b[1;32m    791\u001b[0m \u001b[0;34m\u001b[0m\u001b[0m\n\u001b[0;32m--> 792\u001b[0;31m     \u001b[0mbin_edges\u001b[0m\u001b[0;34m,\u001b[0m \u001b[0muniform_bins\u001b[0m \u001b[0;34m=\u001b[0m \u001b[0m_get_bin_edges\u001b[0m\u001b[0;34m(\u001b[0m\u001b[0ma\u001b[0m\u001b[0;34m,\u001b[0m \u001b[0mbins\u001b[0m\u001b[0;34m,\u001b[0m \u001b[0mrange\u001b[0m\u001b[0;34m,\u001b[0m \u001b[0mweights\u001b[0m\u001b[0;34m)\u001b[0m\u001b[0;34m\u001b[0m\u001b[0;34m\u001b[0m\u001b[0m\n\u001b[0m\u001b[1;32m    793\u001b[0m \u001b[0;34m\u001b[0m\u001b[0m\n\u001b[1;32m    794\u001b[0m     \u001b[0;31m# Histogram is an integer or a float array depending on the weights.\u001b[0m\u001b[0;34m\u001b[0m\u001b[0;34m\u001b[0m\u001b[0;34m\u001b[0m\u001b[0m\n",
      "\u001b[0;32m~/opt/anaconda3/envs/astro/lib/python3.8/site-packages/numpy/lib/histograms.py\u001b[0m in \u001b[0;36m_get_bin_edges\u001b[0;34m(a, bins, range, weights)\u001b[0m\n\u001b[1;32m    422\u001b[0m                 '`bins` must be an integer, a string, or an array') from e\n\u001b[1;32m    423\u001b[0m         \u001b[0;32mif\u001b[0m \u001b[0mn_equal_bins\u001b[0m \u001b[0;34m<\u001b[0m \u001b[0;36m1\u001b[0m\u001b[0;34m:\u001b[0m\u001b[0;34m\u001b[0m\u001b[0;34m\u001b[0m\u001b[0m\n\u001b[0;32m--> 424\u001b[0;31m             \u001b[0;32mraise\u001b[0m \u001b[0mValueError\u001b[0m\u001b[0;34m(\u001b[0m\u001b[0;34m'`bins` must be positive, when an integer'\u001b[0m\u001b[0;34m)\u001b[0m\u001b[0;34m\u001b[0m\u001b[0;34m\u001b[0m\u001b[0m\n\u001b[0m\u001b[1;32m    425\u001b[0m \u001b[0;34m\u001b[0m\u001b[0m\n\u001b[1;32m    426\u001b[0m         \u001b[0mfirst_edge\u001b[0m\u001b[0;34m,\u001b[0m \u001b[0mlast_edge\u001b[0m \u001b[0;34m=\u001b[0m \u001b[0m_get_outer_edges\u001b[0m\u001b[0;34m(\u001b[0m\u001b[0ma\u001b[0m\u001b[0;34m,\u001b[0m \u001b[0mrange\u001b[0m\u001b[0;34m)\u001b[0m\u001b[0;34m\u001b[0m\u001b[0;34m\u001b[0m\u001b[0m\n",
      "\u001b[0;31mValueError\u001b[0m: `bins` must be positive, when an integer"
     ]
    },
    {
     "data": {
      "image/png": "[encoded data removed]",
      "text/plain": [
       "<Figure size 504x504 with 1 Axes>"
      ]
     },
     "metadata": {
      "needs_background": "light"
     },
     "output_type": "display_data"
    }
   ],
   "source": [
    "fig=plt.figure(figsize=(7,7))\n",
    "bins=np.ceil(np.sqrt(np.size(cos_saga_satellites['log_sm'])))\n",
    "plt.hist(cos_saga_satellites['log_sm'] ,color='navy', lw=4, bins=int(bins), histtype='step', hatch='///')\n",
    "plt.xlabel(r\"Satellite log(M$_*$)\")\n",
    "plt.ylabel(r\"N$_{counts}$\")\n",
    "fig.savefig(\"satellite-stellar-mass.png\")"
   ]
  },
  {
   "cell_type": "code",
   "execution_count": null,
   "metadata": {},
   "outputs": [],
   "source": [
    "fig2=plt.figure(figsize=(7,7))\n",
    "bins_s=np.ceil(np.sqrt(np.size(cos_saga_satellites['RHOST_KPC'])))\n",
    "bins_h=np.ceil(np.sqrt(np.size(sightlines_table['b_host'])))\n",
    "plt.hist(cos_saga_satellites['RHOST_KPC'], bins=int(bins_s), color='navy', histtype='step', lw=5, hatch='//',label='satellites')\n",
    "plt.hist(sightlines_table['b_host'], bins=int(bins_h), color=red, histtype='step', lw=5, hatch='//', label='hosts')\n",
    "plt.xlabel(\"Impact parameter from QSO [kpc]\")\n",
    "plt.ylabel(r\"N$_{counts}$\")\n",
    "plt.legend(loc=2, fontsize=16)\n",
    "fig2.savefig(\"impact-param.png\")"
   ]
  },
  {
   "cell_type": "markdown",
   "metadata": {},
   "source": [
    "## new QSO \n"
   ]
  },
  {
   "cell_type": "code",
   "execution_count": 12,
   "metadata": {},
   "outputs": [
    {
     "ename": "FileNotFoundError",
     "evalue": "[Errno 2] No such file or directory: 'new-QSO/observed-sept.txt'",
     "output_type": "error",
     "traceback": [
      "\u001b[0;31m---------------------------------------------------------------------------\u001b[0m",
      "\u001b[0;31mFileNotFoundError\u001b[0m                         Traceback (most recent call last)",
      "\u001b[0;32m<ipython-input-12-9ba890037c4c>\u001b[0m in \u001b[0;36m<module>\u001b[0;34m\u001b[0m\n\u001b[1;32m      1\u001b[0m \u001b[0;32mfrom\u001b[0m \u001b[0mastropy\u001b[0m\u001b[0;34m.\u001b[0m\u001b[0mio\u001b[0m \u001b[0;32mimport\u001b[0m \u001b[0mascii\u001b[0m\u001b[0;34m\u001b[0m\u001b[0;34m\u001b[0m\u001b[0m\n\u001b[0;32m----> 2\u001b[0;31m \u001b[0mdata\u001b[0m \u001b[0;34m=\u001b[0m \u001b[0mascii\u001b[0m\u001b[0;34m.\u001b[0m\u001b[0mread\u001b[0m\u001b[0;34m(\u001b[0m\u001b[0;34m\"new-QSO/observed-sept.txt\"\u001b[0m\u001b[0;34m)\u001b[0m\u001b[0;34m\u001b[0m\u001b[0;34m\u001b[0m\u001b[0m\n\u001b[0m\u001b[1;32m      3\u001b[0m \u001b[0mnewqso\u001b[0m \u001b[0;34m=\u001b[0m \u001b[0mTable\u001b[0m\u001b[0;34m(\u001b[0m\u001b[0mdata\u001b[0m\u001b[0;34m)\u001b[0m\u001b[0;34m\u001b[0m\u001b[0;34m\u001b[0m\u001b[0m\n",
      "\u001b[0;32m~/opt/anaconda3/envs/astro/lib/python3.8/site-packages/astropy/io/ascii/ui.py\u001b[0m in \u001b[0;36mread\u001b[0;34m(table, guess, **kwargs)\u001b[0m\n\u001b[1;32m    285\u001b[0m         \u001b[0;31m# through below to the non-guess way so that any problems result in a\u001b[0m\u001b[0;34m\u001b[0m\u001b[0;34m\u001b[0m\u001b[0;34m\u001b[0m\u001b[0m\n\u001b[1;32m    286\u001b[0m         \u001b[0;31m# more useful traceback.\u001b[0m\u001b[0;34m\u001b[0m\u001b[0;34m\u001b[0m\u001b[0;34m\u001b[0m\u001b[0m\n\u001b[0;32m--> 287\u001b[0;31m         \u001b[0mdat\u001b[0m \u001b[0;34m=\u001b[0m \u001b[0m_guess\u001b[0m\u001b[0;34m(\u001b[0m\u001b[0mtable\u001b[0m\u001b[0;34m,\u001b[0m \u001b[0mnew_kwargs\u001b[0m\u001b[0;34m,\u001b[0m \u001b[0mformat\u001b[0m\u001b[0;34m,\u001b[0m \u001b[0mfast_reader\u001b[0m\u001b[0;34m)\u001b[0m\u001b[0;34m\u001b[0m\u001b[0;34m\u001b[0m\u001b[0m\n\u001b[0m\u001b[1;32m    288\u001b[0m         \u001b[0;32mif\u001b[0m \u001b[0mdat\u001b[0m \u001b[0;32mis\u001b[0m \u001b[0;32mNone\u001b[0m\u001b[0;34m:\u001b[0m\u001b[0;34m\u001b[0m\u001b[0;34m\u001b[0m\u001b[0m\n\u001b[1;32m    289\u001b[0m             \u001b[0mguess\u001b[0m \u001b[0;34m=\u001b[0m \u001b[0;32mFalse\u001b[0m\u001b[0;34m\u001b[0m\u001b[0;34m\u001b[0m\u001b[0m\n",
      "\u001b[0;32m~/opt/anaconda3/envs/astro/lib/python3.8/site-packages/astropy/io/ascii/ui.py\u001b[0m in \u001b[0;36m_guess\u001b[0;34m(table, read_kwargs, format, fast_reader)\u001b[0m\n\u001b[1;32m    445\u001b[0m \u001b[0;34m\u001b[0m\u001b[0m\n\u001b[1;32m    446\u001b[0m             \u001b[0mreader\u001b[0m\u001b[0;34m.\u001b[0m\u001b[0mguessing\u001b[0m \u001b[0;34m=\u001b[0m \u001b[0;32mTrue\u001b[0m\u001b[0;34m\u001b[0m\u001b[0;34m\u001b[0m\u001b[0m\n\u001b[0;32m--> 447\u001b[0;31m             \u001b[0mdat\u001b[0m \u001b[0;34m=\u001b[0m \u001b[0mreader\u001b[0m\u001b[0;34m.\u001b[0m\u001b[0mread\u001b[0m\u001b[0;34m(\u001b[0m\u001b[0mtable\u001b[0m\u001b[0;34m)\u001b[0m\u001b[0;34m\u001b[0m\u001b[0;34m\u001b[0m\u001b[0m\n\u001b[0m\u001b[1;32m    448\u001b[0m             _read_trace.append({'kwargs': copy.deepcopy(guess_kwargs),\n\u001b[1;32m    449\u001b[0m                                 \u001b[0;34m'Reader'\u001b[0m\u001b[0;34m:\u001b[0m \u001b[0mreader\u001b[0m\u001b[0;34m.\u001b[0m\u001b[0m__class__\u001b[0m\u001b[0;34m,\u001b[0m\u001b[0;34m\u001b[0m\u001b[0;34m\u001b[0m\u001b[0m\n",
      "\u001b[0;32m~/opt/anaconda3/envs/astro/lib/python3.8/site-packages/astropy/io/ascii/core.py\u001b[0m in \u001b[0;36mread\u001b[0;34m(self, table)\u001b[0m\n\u001b[1;32m   1163\u001b[0m \u001b[0;34m\u001b[0m\u001b[0m\n\u001b[1;32m   1164\u001b[0m         \u001b[0;31m# Get a list of the lines (rows) in the table\u001b[0m\u001b[0;34m\u001b[0m\u001b[0;34m\u001b[0m\u001b[0;34m\u001b[0m\u001b[0m\n\u001b[0;32m-> 1165\u001b[0;31m         \u001b[0mself\u001b[0m\u001b[0;34m.\u001b[0m\u001b[0mlines\u001b[0m \u001b[0;34m=\u001b[0m \u001b[0mself\u001b[0m\u001b[0;34m.\u001b[0m\u001b[0minputter\u001b[0m\u001b[0;34m.\u001b[0m\u001b[0mget_lines\u001b[0m\u001b[0;34m(\u001b[0m\u001b[0mtable\u001b[0m\u001b[0;34m)\u001b[0m\u001b[0;34m\u001b[0m\u001b[0;34m\u001b[0m\u001b[0m\n\u001b[0m\u001b[1;32m   1166\u001b[0m \u001b[0;34m\u001b[0m\u001b[0m\n\u001b[1;32m   1167\u001b[0m         \u001b[0;31m# Set self.data.data_lines to a slice of lines contain the data rows\u001b[0m\u001b[0;34m\u001b[0m\u001b[0;34m\u001b[0m\u001b[0;34m\u001b[0m\u001b[0m\n",
      "\u001b[0;32m~/opt/anaconda3/envs/astro/lib/python3.8/site-packages/astropy/io/ascii/core.py\u001b[0m in \u001b[0;36mget_lines\u001b[0;34m(self, table)\u001b[0m\n\u001b[1;32m    302\u001b[0m             if (hasattr(table, 'read')\n\u001b[1;32m    303\u001b[0m                     or ('\\n' not in table + '' and '\\r' not in table + '')):\n\u001b[0;32m--> 304\u001b[0;31m                 with get_readable_fileobj(table,\n\u001b[0m\u001b[1;32m    305\u001b[0m                                           encoding=self.encoding) as fileobj:\n\u001b[1;32m    306\u001b[0m                     \u001b[0mtable\u001b[0m \u001b[0;34m=\u001b[0m \u001b[0mfileobj\u001b[0m\u001b[0;34m.\u001b[0m\u001b[0mread\u001b[0m\u001b[0;34m(\u001b[0m\u001b[0;34m)\u001b[0m\u001b[0;34m\u001b[0m\u001b[0;34m\u001b[0m\u001b[0m\n",
      "\u001b[0;32m~/opt/anaconda3/envs/astro/lib/python3.8/contextlib.py\u001b[0m in \u001b[0;36m__enter__\u001b[0;34m(self)\u001b[0m\n\u001b[1;32m    111\u001b[0m         \u001b[0;32mdel\u001b[0m \u001b[0mself\u001b[0m\u001b[0;34m.\u001b[0m\u001b[0margs\u001b[0m\u001b[0;34m,\u001b[0m \u001b[0mself\u001b[0m\u001b[0;34m.\u001b[0m\u001b[0mkwds\u001b[0m\u001b[0;34m,\u001b[0m \u001b[0mself\u001b[0m\u001b[0;34m.\u001b[0m\u001b[0mfunc\u001b[0m\u001b[0;34m\u001b[0m\u001b[0;34m\u001b[0m\u001b[0m\n\u001b[1;32m    112\u001b[0m         \u001b[0;32mtry\u001b[0m\u001b[0;34m:\u001b[0m\u001b[0;34m\u001b[0m\u001b[0;34m\u001b[0m\u001b[0m\n\u001b[0;32m--> 113\u001b[0;31m             \u001b[0;32mreturn\u001b[0m \u001b[0mnext\u001b[0m\u001b[0;34m(\u001b[0m\u001b[0mself\u001b[0m\u001b[0;34m.\u001b[0m\u001b[0mgen\u001b[0m\u001b[0;34m)\u001b[0m\u001b[0;34m\u001b[0m\u001b[0;34m\u001b[0m\u001b[0m\n\u001b[0m\u001b[1;32m    114\u001b[0m         \u001b[0;32mexcept\u001b[0m \u001b[0mStopIteration\u001b[0m\u001b[0;34m:\u001b[0m\u001b[0;34m\u001b[0m\u001b[0;34m\u001b[0m\u001b[0m\n\u001b[1;32m    115\u001b[0m             \u001b[0;32mraise\u001b[0m \u001b[0mRuntimeError\u001b[0m\u001b[0;34m(\u001b[0m\u001b[0;34m\"generator didn't yield\"\u001b[0m\u001b[0;34m)\u001b[0m \u001b[0;32mfrom\u001b[0m \u001b[0;32mNone\u001b[0m\u001b[0;34m\u001b[0m\u001b[0;34m\u001b[0m\u001b[0m\n",
      "\u001b[0;32m~/opt/anaconda3/envs/astro/lib/python3.8/site-packages/astropy/utils/data.py\u001b[0m in \u001b[0;36mget_readable_fileobj\u001b[0;34m(name_or_obj, encoding, cache, show_progress, remote_timeout, sources, http_headers)\u001b[0m\n\u001b[1;32m    235\u001b[0m                 \u001b[0mtimeout\u001b[0m\u001b[0;34m=\u001b[0m\u001b[0mremote_timeout\u001b[0m\u001b[0;34m,\u001b[0m \u001b[0msources\u001b[0m\u001b[0;34m=\u001b[0m\u001b[0msources\u001b[0m\u001b[0;34m,\u001b[0m\u001b[0;34m\u001b[0m\u001b[0;34m\u001b[0m\u001b[0m\n\u001b[1;32m    236\u001b[0m                 http_headers=http_headers)\n\u001b[0;32m--> 237\u001b[0;31m         \u001b[0mfileobj\u001b[0m \u001b[0;34m=\u001b[0m \u001b[0mio\u001b[0m\u001b[0;34m.\u001b[0m\u001b[0mFileIO\u001b[0m\u001b[0;34m(\u001b[0m\u001b[0mname_or_obj\u001b[0m\u001b[0;34m,\u001b[0m \u001b[0;34m'r'\u001b[0m\u001b[0;34m)\u001b[0m\u001b[0;34m\u001b[0m\u001b[0;34m\u001b[0m\u001b[0m\n\u001b[0m\u001b[1;32m    238\u001b[0m         \u001b[0;32mif\u001b[0m \u001b[0mis_url\u001b[0m \u001b[0;32mand\u001b[0m \u001b[0;32mnot\u001b[0m \u001b[0mcache\u001b[0m\u001b[0;34m:\u001b[0m\u001b[0;34m\u001b[0m\u001b[0;34m\u001b[0m\u001b[0m\n\u001b[1;32m    239\u001b[0m             \u001b[0mdelete_fds\u001b[0m\u001b[0;34m.\u001b[0m\u001b[0mappend\u001b[0m\u001b[0;34m(\u001b[0m\u001b[0mfileobj\u001b[0m\u001b[0;34m)\u001b[0m\u001b[0;34m\u001b[0m\u001b[0;34m\u001b[0m\u001b[0m\n",
      "\u001b[0;31mFileNotFoundError\u001b[0m: [Errno 2] No such file or directory: 'new-QSO/observed-sept.txt'"
     ]
    }
   ],
   "source": [
    "from astropy.io import ascii\n",
    "data = ascii.read(\"new-QSO/observed-sept.txt\") \n",
    "newqso = Table(data)"
   ]
  },
  {
   "cell_type": "code",
   "execution_count": null,
   "metadata": {},
   "outputs": [],
   "source": []
  },
  {
   "cell_type": "code",
   "execution_count": 13,
   "metadata": {},
   "outputs": [
    {
     "ename": "NameError",
     "evalue": "name 'newqso' is not defined",
     "output_type": "error",
     "traceback": [
      "\u001b[0;31m---------------------------------------------------------------------------\u001b[0m",
      "\u001b[0;31mNameError\u001b[0m                                 Traceback (most recent call last)",
      "\u001b[0;32m<ipython-input-13-268c07878166>\u001b[0m in \u001b[0;36m<module>\u001b[0;34m\u001b[0m\n\u001b[0;32m----> 1\u001b[0;31m \u001b[0mnewqso\u001b[0m\u001b[0;34m.\u001b[0m\u001b[0mshow_in_notebook\u001b[0m\u001b[0;34m(\u001b[0m\u001b[0;34m)\u001b[0m\u001b[0;34m\u001b[0m\u001b[0;34m\u001b[0m\u001b[0m\n\u001b[0m",
      "\u001b[0;31mNameError\u001b[0m: name 'newqso' is not defined"
     ]
    }
   ],
   "source": [
    "newqso.show_in_notebook()"
   ]
  },
  {
   "cell_type": "code",
   "execution_count": 14,
   "metadata": {},
   "outputs": [],
   "source": [
    "from astropy.cosmology import Planck15 as cosmo"
   ]
  },
  {
   "cell_type": "code",
   "execution_count": 15,
   "metadata": {},
   "outputs": [
    {
     "data": {
      "text/plain": [
       "473.40569119056397"
      ]
     },
     "execution_count": 15,
     "metadata": {},
     "output_type": "execute_result"
    }
   ],
   "source": [
    "a=cosmo.kpc_proper_per_arcmin(3) \n",
    "a.value"
   ]
  },
  {
   "cell_type": "code",
   "execution_count": 16,
   "metadata": {},
   "outputs": [
    {
     "ename": "NameError",
     "evalue": "name 'newqso' is not defined",
     "output_type": "error",
     "traceback": [
      "\u001b[0;31m---------------------------------------------------------------------------\u001b[0m",
      "\u001b[0;31mNameError\u001b[0m                                 Traceback (most recent call last)",
      "\u001b[0;32m<ipython-input-16-3fbf5487ca62>\u001b[0m in \u001b[0;36m<module>\u001b[0;34m\u001b[0m\n\u001b[0;32m----> 1\u001b[0;31m \u001b[0mangsep\u001b[0m \u001b[0;34m=\u001b[0m \u001b[0mnp\u001b[0m\u001b[0;34m.\u001b[0m\u001b[0mzeros\u001b[0m\u001b[0;34m(\u001b[0m\u001b[0mnp\u001b[0m\u001b[0;34m.\u001b[0m\u001b[0msize\u001b[0m\u001b[0;34m(\u001b[0m\u001b[0mnewqso\u001b[0m\u001b[0;34m[\u001b[0m\u001b[0;34m'name'\u001b[0m\u001b[0;34m]\u001b[0m\u001b[0;34m)\u001b[0m\u001b[0;34m)\u001b[0m\u001b[0;34m\u001b[0m\u001b[0;34m\u001b[0m\u001b[0m\n\u001b[0m\u001b[1;32m      2\u001b[0m \u001b[0mbkpc\u001b[0m \u001b[0;34m=\u001b[0m \u001b[0mnp\u001b[0m\u001b[0;34m.\u001b[0m\u001b[0mzeros\u001b[0m\u001b[0;34m(\u001b[0m\u001b[0mnp\u001b[0m\u001b[0;34m.\u001b[0m\u001b[0msize\u001b[0m\u001b[0;34m(\u001b[0m\u001b[0mnewqso\u001b[0m\u001b[0;34m[\u001b[0m\u001b[0;34m'name'\u001b[0m\u001b[0;34m]\u001b[0m\u001b[0;34m)\u001b[0m\u001b[0;34m)\u001b[0m\u001b[0;34m\u001b[0m\u001b[0;34m\u001b[0m\u001b[0m\n\u001b[1;32m      3\u001b[0m \u001b[0mpscale\u001b[0m\u001b[0;34m=\u001b[0m\u001b[0;34m(\u001b[0m\u001b[0;34m[\u001b[0m\u001b[0;36m3.309\u001b[0m\u001b[0;34m,\u001b[0m \u001b[0;36m3.139\u001b[0m\u001b[0;34m,\u001b[0m \u001b[0;36m3.591\u001b[0m\u001b[0;34m,\u001b[0m\u001b[0;34m]\u001b[0m\u001b[0;34m)\u001b[0m \u001b[0;31m#kpc/\"\u001b[0m\u001b[0;34m\u001b[0m\u001b[0;34m\u001b[0m\u001b[0m\n\u001b[1;32m      4\u001b[0m \u001b[0;32mfor\u001b[0m \u001b[0mi\u001b[0m \u001b[0;32min\u001b[0m \u001b[0mrange\u001b[0m\u001b[0;34m(\u001b[0m\u001b[0mnp\u001b[0m\u001b[0;34m.\u001b[0m\u001b[0msize\u001b[0m\u001b[0;34m(\u001b[0m\u001b[0mnewqso\u001b[0m\u001b[0;34m[\u001b[0m\u001b[0;34m'name'\u001b[0m\u001b[0;34m]\u001b[0m\u001b[0;34m)\u001b[0m\u001b[0;34m)\u001b[0m\u001b[0;34m:\u001b[0m\u001b[0;34m\u001b[0m\u001b[0;34m\u001b[0m\u001b[0m\n\u001b[1;32m      5\u001b[0m     \u001b[0;31m#print(newqso['SAGA-host'][i])\u001b[0m\u001b[0;34m\u001b[0m\u001b[0;34m\u001b[0m\u001b[0;34m\u001b[0m\u001b[0m\n",
      "\u001b[0;31mNameError\u001b[0m: name 'newqso' is not defined"
     ]
    }
   ],
   "source": [
    "angsep = np.zeros(np.size(newqso['name']))\n",
    "bkpc = np.zeros(np.size(newqso['name']))\n",
    "pscale=([3.309, 3.139, 3.591,]) #kpc/\"\n",
    "for i in range(np.size(newqso['name'])):\n",
    "    #print(newqso['SAGA-host'][i])\n",
    "    n = newqso['SAGA-host'][i]\n",
    "    j = np.where(hosts['HOSTID'] == n)[0][0]\n",
    "    coo = SkyCoord(hosts['RA'][j]*u.deg, hosts['DEC'][j]*u.deg)\n",
    "    co_qso = SkyCoord(newqso['RA'][i]*u.deg,newqso['DEC'][i]*u.deg )\n",
    "    sep=co_qso.separation(coo)\n",
    "    z = hosts['Z_COSMO'][j]\n",
    "    print(z)\n",
    "    theta=cosmo.kpc_proper_per_arcmin(z)\n",
    "    print(sep.arcmin, sep.arcmin*theta.value, z, cosmo.kpc_proper_per_arcmin(z))\n",
    "    angsep[i] = sep.arcmin\n",
    "    bkpc[i] = sep.arcmin*theta.value"
   ]
  },
  {
   "cell_type": "code",
   "execution_count": 17,
   "metadata": {},
   "outputs": [
    {
     "ename": "NameError",
     "evalue": "name 'newqso' is not defined",
     "output_type": "error",
     "traceback": [
      "\u001b[0;31m---------------------------------------------------------------------------\u001b[0m",
      "\u001b[0;31mNameError\u001b[0m                                 Traceback (most recent call last)",
      "\u001b[0;32m<ipython-input-17-b02f4289a90f>\u001b[0m in \u001b[0;36m<module>\u001b[0;34m\u001b[0m\n\u001b[0;32m----> 1\u001b[0;31m \u001b[0mnewqso\u001b[0m\u001b[0;34m.\u001b[0m\u001b[0madd_columns\u001b[0m\u001b[0;34m(\u001b[0m\u001b[0;34m(\u001b[0m\u001b[0mangsep\u001b[0m\u001b[0;34m,\u001b[0m\u001b[0mbkpc\u001b[0m\u001b[0;34m)\u001b[0m\u001b[0;34m,\u001b[0m \u001b[0mnames\u001b[0m\u001b[0;34m=\u001b[0m\u001b[0;34m(\u001b[0m\u001b[0;34m\"r_ang_arcmin\"\u001b[0m\u001b[0;34m,\u001b[0m \u001b[0;34m\"b_kpc\"\u001b[0m\u001b[0;34m)\u001b[0m \u001b[0;34m)\u001b[0m\u001b[0;34m\u001b[0m\u001b[0;34m\u001b[0m\u001b[0m\n\u001b[0m",
      "\u001b[0;31mNameError\u001b[0m: name 'newqso' is not defined"
     ]
    }
   ],
   "source": [
    "newqso.add_columns((angsep,bkpc), names=(\"r_ang_arcmin\", \"b_kpc\") )"
   ]
  },
  {
   "cell_type": "code",
   "execution_count": 18,
   "metadata": {},
   "outputs": [
    {
     "ename": "NameError",
     "evalue": "name 'newqso' is not defined",
     "output_type": "error",
     "traceback": [
      "\u001b[0;31m---------------------------------------------------------------------------\u001b[0m",
      "\u001b[0;31mNameError\u001b[0m                                 Traceback (most recent call last)",
      "\u001b[0;32m<ipython-input-18-268c07878166>\u001b[0m in \u001b[0;36m<module>\u001b[0;34m\u001b[0m\n\u001b[0;32m----> 1\u001b[0;31m \u001b[0mnewqso\u001b[0m\u001b[0;34m.\u001b[0m\u001b[0mshow_in_notebook\u001b[0m\u001b[0;34m(\u001b[0m\u001b[0;34m)\u001b[0m\u001b[0;34m\u001b[0m\u001b[0;34m\u001b[0m\u001b[0m\n\u001b[0m",
      "\u001b[0;31mNameError\u001b[0m: name 'newqso' is not defined"
     ]
    }
   ],
   "source": [
    "newqso.show_in_notebook()"
   ]
  },
  {
   "cell_type": "code",
   "execution_count": 19,
   "metadata": {},
   "outputs": [
    {
     "ename": "NameError",
     "evalue": "name 'newqso' is not defined",
     "output_type": "error",
     "traceback": [
      "\u001b[0;31m---------------------------------------------------------------------------\u001b[0m",
      "\u001b[0;31mNameError\u001b[0m                                 Traceback (most recent call last)",
      "\u001b[0;32m<ipython-input-19-e4577b71bb07>\u001b[0m in \u001b[0;36m<module>\u001b[0;34m\u001b[0m\n\u001b[1;32m      1\u001b[0m \u001b[0mplt\u001b[0m\u001b[0;34m.\u001b[0m\u001b[0mfigure\u001b[0m\u001b[0;34m(\u001b[0m\u001b[0mfigsize\u001b[0m\u001b[0;34m=\u001b[0m\u001b[0;34m(\u001b[0m\u001b[0;36m6\u001b[0m\u001b[0;34m,\u001b[0m\u001b[0;36m6\u001b[0m\u001b[0;34m)\u001b[0m\u001b[0;34m)\u001b[0m\u001b[0;34m\u001b[0m\u001b[0;34m\u001b[0m\u001b[0m\n\u001b[0;32m----> 2\u001b[0;31m \u001b[0mplt\u001b[0m\u001b[0;34m.\u001b[0m\u001b[0mhist\u001b[0m\u001b[0;34m(\u001b[0m\u001b[0mnewqso\u001b[0m\u001b[0;34m[\u001b[0m\u001b[0;34m'b_kpc'\u001b[0m\u001b[0;34m]\u001b[0m\u001b[0;34m,\u001b[0m  \u001b[0mcolor\u001b[0m\u001b[0;34m=\u001b[0m\u001b[0mred\u001b[0m\u001b[0;34m,\u001b[0m \u001b[0mhisttype\u001b[0m\u001b[0;34m=\u001b[0m\u001b[0;34m'step'\u001b[0m\u001b[0;34m,\u001b[0m \u001b[0mlw\u001b[0m\u001b[0;34m=\u001b[0m\u001b[0;36m5\u001b[0m\u001b[0;34m,\u001b[0m \u001b[0mhatch\u001b[0m\u001b[0;34m=\u001b[0m\u001b[0;34m'//'\u001b[0m\u001b[0;34m,\u001b[0m \u001b[0mlabel\u001b[0m\u001b[0;34m=\u001b[0m\u001b[0;34m'hosts'\u001b[0m\u001b[0;34m)\u001b[0m\u001b[0;34m\u001b[0m\u001b[0;34m\u001b[0m\u001b[0m\n\u001b[0m\u001b[1;32m      3\u001b[0m \u001b[0mplt\u001b[0m\u001b[0;34m.\u001b[0m\u001b[0mxlabel\u001b[0m\u001b[0;34m(\u001b[0m\u001b[0;34m\"Impact parameter from QSO [kpc]\"\u001b[0m\u001b[0;34m)\u001b[0m\u001b[0;34m\u001b[0m\u001b[0;34m\u001b[0m\u001b[0m\n\u001b[1;32m      4\u001b[0m \u001b[0mplt\u001b[0m\u001b[0;34m.\u001b[0m\u001b[0mylabel\u001b[0m\u001b[0;34m(\u001b[0m\u001b[0;34mr\"N$_{counts}$\"\u001b[0m\u001b[0;34m)\u001b[0m\u001b[0;34m\u001b[0m\u001b[0;34m\u001b[0m\u001b[0m\n\u001b[1;32m      5\u001b[0m \u001b[0mplt\u001b[0m\u001b[0;34m.\u001b[0m\u001b[0mlegend\u001b[0m\u001b[0;34m(\u001b[0m\u001b[0mloc\u001b[0m\u001b[0;34m=\u001b[0m\u001b[0;36m2\u001b[0m\u001b[0;34m,\u001b[0m \u001b[0mfontsize\u001b[0m\u001b[0;34m=\u001b[0m\u001b[0;36m16\u001b[0m\u001b[0;34m)\u001b[0m\u001b[0;34m\u001b[0m\u001b[0;34m\u001b[0m\u001b[0m\n",
      "\u001b[0;31mNameError\u001b[0m: name 'newqso' is not defined"
     ]
    },
    {
     "data": {
      "text/plain": [
       "<Figure size 432x432 with 0 Axes>"
      ]
     },
     "metadata": {},
     "output_type": "display_data"
    }
   ],
   "source": [
    "plt.figure(figsize=(6,6))\n",
    "plt.hist(newqso['b_kpc'],  color=red, histtype='step', lw=5, hatch='//', label='hosts')\n",
    "plt.xlabel(\"Impact parameter from QSO [kpc]\")\n",
    "plt.ylabel(r\"N$_{counts}$\")\n",
    "plt.legend(loc=2, fontsize=16)"
   ]
  },
  {
   "cell_type": "code",
   "execution_count": 20,
   "metadata": {},
   "outputs": [
    {
     "ename": "NameError",
     "evalue": "name 'newqso' is not defined",
     "output_type": "error",
     "traceback": [
      "\u001b[0;31m---------------------------------------------------------------------------\u001b[0m",
      "\u001b[0;31mNameError\u001b[0m                                 Traceback (most recent call last)",
      "\u001b[0;32m<ipython-input-20-b01f9c67bc59>\u001b[0m in \u001b[0;36m<module>\u001b[0;34m\u001b[0m\n\u001b[1;32m      2\u001b[0m \u001b[0mbkpc\u001b[0m \u001b[0;34m=\u001b[0m \u001b[0mnp\u001b[0m\u001b[0;34m.\u001b[0m\u001b[0marray\u001b[0m\u001b[0;34m(\u001b[0m\u001b[0;34m[\u001b[0m\u001b[0;36m0.\u001b[0m\u001b[0;34m]\u001b[0m\u001b[0;34m)\u001b[0m\u001b[0;34m\u001b[0m\u001b[0;34m\u001b[0m\u001b[0m\n\u001b[1;32m      3\u001b[0m \u001b[0;34m\u001b[0m\u001b[0m\n\u001b[0;32m----> 4\u001b[0;31m \u001b[0;32mfor\u001b[0m \u001b[0mi\u001b[0m \u001b[0;32min\u001b[0m \u001b[0mrange\u001b[0m\u001b[0;34m(\u001b[0m\u001b[0mnp\u001b[0m\u001b[0;34m.\u001b[0m\u001b[0msize\u001b[0m\u001b[0;34m(\u001b[0m\u001b[0mnewqso\u001b[0m\u001b[0;34m[\u001b[0m\u001b[0;34m'name'\u001b[0m\u001b[0;34m]\u001b[0m\u001b[0;34m)\u001b[0m\u001b[0;34m)\u001b[0m\u001b[0;34m:\u001b[0m\u001b[0;34m\u001b[0m\u001b[0;34m\u001b[0m\u001b[0m\n\u001b[0m\u001b[1;32m      5\u001b[0m     \u001b[0;31m#print(newqso['SAGA-host'][i])\u001b[0m\u001b[0;34m\u001b[0m\u001b[0;34m\u001b[0m\u001b[0;34m\u001b[0m\u001b[0m\n\u001b[1;32m      6\u001b[0m     \u001b[0mn\u001b[0m \u001b[0;34m=\u001b[0m \u001b[0mnewqso\u001b[0m\u001b[0;34m[\u001b[0m\u001b[0;34m'SAGA-host'\u001b[0m\u001b[0;34m]\u001b[0m\u001b[0;34m[\u001b[0m\u001b[0mi\u001b[0m\u001b[0;34m]\u001b[0m\u001b[0;34m\u001b[0m\u001b[0;34m\u001b[0m\u001b[0m\n",
      "\u001b[0;31mNameError\u001b[0m: name 'newqso' is not defined"
     ]
    }
   ],
   "source": [
    "angsep = np.array([0.])\n",
    "bkpc = np.array([0.])\n",
    "\n",
    "for i in range(np.size(newqso['name'])):\n",
    "    #print(newqso['SAGA-host'][i])\n",
    "    n = newqso['SAGA-host'][i]\n",
    "    J = np.where(sats['HOSTID'] == n)[0]\n",
    "    print(i, J, n )\n",
    "    for j in J:\n",
    "        coo = SkyCoord(sats['RA'][j]*u.deg, sats['DEC'][j]*u.deg)\n",
    "        co_qso = SkyCoord(newqso['RA'][i]*u.deg,newqso['DEC'][i]*u.deg )\n",
    "        sep=co_qso.separation(coo)\n",
    "        z = sats['HOST_ZCOSMO'][j]\n",
    "        print(angsep)\n",
    "        theta=cosmo.kpc_proper_per_arcmin(z)\n",
    "        print(sep.arcmin)\n",
    "        #print(sep.arcmin, sep.arcmin*theta.value, z, cosmo.kpc_proper_per_arcmin(z))\n",
    "        angsep = np.concatenate((angsep,sep.arcmin))\n",
    "        bkpc= np.concatenate(bkpc,sep.arcmin*theta.value)\n",
    "print(bkpc)"
   ]
  },
  {
   "cell_type": "markdown",
   "metadata": {},
   "source": [
    "Hosts with satellites:\n",
    " - 85746 host 1 satellite\n",
    " - 13927 host ?? \n",
    "- 140594 host ??\n",
    "- 144953 host 5 satellites\n",
    "- 147606 host 9 satellites\n",
    "- 165082 host ???\n",
    "\n",
    "- 165707 host 3 satelites\n"
   ]
  },
  {
   "cell_type": "markdown",
   "metadata": {},
   "source": [
    "## Absorber identification\n"
   ]
  },
  {
   "cell_type": "raw",
   "metadata": {},
   "source": [
    "#### notes #####\n",
    "cd /Users/ahamanowicz/Dropbox/COS-SAGA/Targets/\n",
    "\n",
    "cd target-name/Data\n",
    "\n",
    "work on target-name_nbin3_coadd.fits\n",
    "    \n",
    "line id: lt_xspec\n",
    "\n",
    "usage: lt_xspec fits-file.fits\n",
    "\n",
    "mark all absorbers - rb_plot_spec.py\n",
    "\n",
    "usage:\n",
    "\n",
    "import matplotlib\n",
    "matplotlib.use('TkAgg')\n",
    "from linetools.spectra.xspectrum1d import XSpectrum1D  \n",
    "from GUIs import rb_plot_spec as r\n",
    "sp=XSpectrum1D.from_file('PG0832+251_nbin3_coadd.fits') \n",
    "r.rb_plot_spec(sp.wavelength.value,sp.flux.value,sp.sig.value) \n",
    "    \n",
    "(done outside becasue of GUI)\n",
    "\n",
    "in Dropbox folder Codes: line_id_launch.py filepat+filename -> will launch the rb_plot_spec.py\n",
    "\n",
    "Shift+s - smoothing\n",
    "cotrl+K - mark lines\n",
    "#### id notes #####\n",
    "\n",
    "First mark: MW z=0, QSO redshift and SAGA host redshift\n",
    "\n",
    "Round I - based on HI 1215 Round II - hI 2015 ROund II - OVI 1031/1037 CII 977\n",
    "\n"
   ]
  },
  {
   "cell_type": "code",
   "execution_count": 21,
   "metadata": {},
   "outputs": [],
   "source": [
    "directory='/Users/ahamanowicz/Dropbox/COS-SAGA/Targets/'"
   ]
  },
  {
   "cell_type": "markdown",
   "metadata": {},
   "source": [
    "## Line measurements"
   ]
  },
  {
   "cell_type": "code",
   "execution_count": 22,
   "metadata": {},
   "outputs": [],
   "source": [
    "\n",
    "hdul=fits.open(\"/Users/ahamanowicz/Desktop/COS-SAGA/cos-saga-I/85748/fos.fits.gz\")\n",
    "data=hdul[1].data"
   ]
  },
  {
   "cell_type": "code",
   "execution_count": 23,
   "metadata": {},
   "outputs": [
    {
     "data": {
      "text/plain": [
       "(-1e-15, 6e-15)"
      ]
     },
     "execution_count": 23,
     "metadata": {},
     "output_type": "execute_result"
    },
    {
     "data": {
      "image/png": "[encoded data removed]",
      "text/plain": [
       "<Figure size 864x432 with 1 Axes>"
      ]
     },
     "metadata": {
      "needs_background": "light"
     },
     "output_type": "display_data"
    }
   ],
   "source": [
    "plt.figure(figsize=(12,6))\n",
    "plt.plot(data['WAVELENGTH'], data['FLUX'])\n",
    "plt.xlim([2200,3000])\n",
    "plt.ylim([-1e-15,6e-15])"
   ]
  },
  {
   "cell_type": "code",
   "execution_count": 24,
   "metadata": {},
   "outputs": [
    {
     "ename": "NameError",
     "evalue": "name 'sightlines_table' is not defined",
     "output_type": "error",
     "traceback": [
      "\u001b[0;31m---------------------------------------------------------------------------\u001b[0m",
      "\u001b[0;31mNameError\u001b[0m                                 Traceback (most recent call last)",
      "\u001b[0;32m<ipython-input-24-e8e41b31a253>\u001b[0m in \u001b[0;36m<module>\u001b[0;34m\u001b[0m\n\u001b[1;32m     25\u001b[0m \u001b[0;31m#host coords\u001b[0m\u001b[0;34m\u001b[0m\u001b[0;34m\u001b[0m\u001b[0;34m\u001b[0m\u001b[0m\n\u001b[1;32m     26\u001b[0m \u001b[0mhostid\u001b[0m\u001b[0;34m=\u001b[0m\u001b[0;36m85746\u001b[0m\u001b[0;34m\u001b[0m\u001b[0;34m\u001b[0m\u001b[0m\n\u001b[0;32m---> 27\u001b[0;31m \u001b[0mvhost\u001b[0m\u001b[0;34m=\u001b[0m\u001b[0msightlines_table\u001b[0m\u001b[0;34m[\u001b[0m\u001b[0;34m'host_helio_vel'\u001b[0m\u001b[0;34m]\u001b[0m\u001b[0;34m[\u001b[0m\u001b[0;36m0\u001b[0m\u001b[0;34m]\u001b[0m\u001b[0;34m\u001b[0m\u001b[0;34m\u001b[0m\u001b[0m\n\u001b[0m\u001b[1;32m     28\u001b[0m \u001b[0mhost_dist\u001b[0m\u001b[0;34m=\u001b[0m\u001b[0msightlines_table\u001b[0m\u001b[0;34m[\u001b[0m\u001b[0;34m'host distance'\u001b[0m\u001b[0;34m]\u001b[0m\u001b[0;34m[\u001b[0m\u001b[0;36m0\u001b[0m\u001b[0;34m]\u001b[0m\u001b[0;34m\u001b[0m\u001b[0;34m\u001b[0m\u001b[0m\n\u001b[1;32m     29\u001b[0m \u001b[0mb_host\u001b[0m\u001b[0;34m=\u001b[0m\u001b[0;34m[\u001b[0m\u001b[0msightlines_table\u001b[0m\u001b[0;34m[\u001b[0m\u001b[0;34m'b_host'\u001b[0m\u001b[0;34m]\u001b[0m\u001b[0;34m[\u001b[0m\u001b[0;36m0\u001b[0m\u001b[0;34m]\u001b[0m\u001b[0;34m,\u001b[0m\u001b[0msightlines_table\u001b[0m\u001b[0;34m[\u001b[0m\u001b[0;34m'b_host'\u001b[0m\u001b[0;34m]\u001b[0m\u001b[0;34m[\u001b[0m\u001b[0;36m1\u001b[0m\u001b[0;34m]\u001b[0m\u001b[0;34m,\u001b[0m\u001b[0msightlines_table\u001b[0m\u001b[0;34m[\u001b[0m\u001b[0;34m'b_host'\u001b[0m\u001b[0;34m]\u001b[0m\u001b[0;34m[\u001b[0m\u001b[0;36m2\u001b[0m\u001b[0;34m]\u001b[0m\u001b[0;34m]\u001b[0m\u001b[0;34m\u001b[0m\u001b[0;34m\u001b[0m\u001b[0m\n",
      "\u001b[0;31mNameError\u001b[0m: name 'sightlines_table' is not defined"
     ]
    },
    {
     "data": {
      "image/png": "[encoded data removed]",
      "text/plain": [
       "<Figure size 1080x576 with 4 Axes>"
      ]
     },
     "metadata": {
      "needs_background": "light"
     },
     "output_type": "display_data"
    }
   ],
   "source": [
    "fig = plt.figure(figsize=(15,8))\n",
    "\n",
    "#ax0 = plt.subplot2grid((3,8), (0, 0), colspan=3, rowspan=1)\n",
    "ax1 = plt.subplot2grid((3,5), (0, 0), colspan=2, rowspan=2)\n",
    "ax2 = plt.subplot2grid((3, 5), (0, 2), colspan=3,rowspan=1)\n",
    "ax3 = plt.subplot2grid((3, 5), (1, 2), colspan=3,rowspan=1)\n",
    "ax4 = plt.subplot2grid((3, 5), (2, 2), colspan=3,rowspan=1)\n",
    "# ax5 = plt.subplot2grid((3, 8), (0, 6), colspan=2,rowspan=1)\n",
    "# ax6 = plt.subplot2grid((3, 8), (1, 6), colspan=2,rowspan=1)\n",
    "# ax7 = plt.subplot2grid((3, 8), (2, 6), colspan=2,rowspan=1)\n",
    "\n",
    "velc='#a2798f'\n",
    "for ax in [ax1,ax2,ax3]:\n",
    "    ax.tick_params(axis='both', which='major', direction='in', length=8, width=3, bottom=True,top=True,\n",
    "                  left=True, right=True, reset=True)\n",
    "    ax.tick_params(axis='both', which='minor', direction='in', length=4, width=3, bottom=True,top=True,\n",
    "                  left=True, right=True, reset=True)\n",
    "### skymap\n",
    "ax1.set_xlim([-1,1])\n",
    "ax1.set_ylim([-1,1])\n",
    "ax1.set_xticks([-1,-0.5,0,0.5])\n",
    "ax1.set_xlabel(r\"$\\Delta$ RA [deg]\")\n",
    "ax1.set_ylabel(r\"$\\Delta$ Dec [deg]\")\n",
    "\n",
    "#host coords\n",
    "hostid=85746\n",
    "vhost=sightlines_table['host_helio_vel'][0]\n",
    "host_dist=sightlines_table['host distance'][0]\n",
    "b_host=[sightlines_table['b_host'][0],sightlines_table['b_host'][1],sightlines_table['b_host'][2]]\n",
    "cos_saga_hosts.add_index('HOSTID')\n",
    "\n",
    "m = cos_saga_hosts.loc_indices[hostid]\n",
    "rahost,dechost=cos_saga_hosts['RA'][m], cos_saga_hosts['DEC'][m]\n",
    "\n",
    "ax1.scatter(0,0,c='#992959', marker='s', s=150, label='host')\n",
    "ellipse=(1.86/60*10,0.67/60.*10,105 ) #host orientation\n",
    "ells=Ellipse(xy=(0,0), width=ellipse[0], height=ellipse[1], angle=ellipse[2]-90, ec='#992959', fc='None')\n",
    "ax1.add_artist(ells)\n",
    "#sightlines\n",
    "draq1,ddecq1 = rahost-sightlines_table['RA QSO'][0], dechost-sightlines_table['DEC QSO'][0]\n",
    "draq2,ddecq2 = rahost-sightlines_table['RA QSO'][1], dechost-sightlines_table['DEC QSO'][1]\n",
    "draq3,ddecq3 = rahost-sightlines_table['RA QSO'][2], dechost-sightlines_table['DEC QSO'][2]\n",
    "\n",
    "ax1.scatter([draq1,draq2,draq3],[ddecq1,ddecq2,ddecq3],c='k', marker='*', s=200)\n",
    "ax1.plot(-20,-20,c='k', marker='*', ms=20, label='QSO',ls='None' )\n",
    "\n",
    "\n",
    "#satelites\n",
    "cos_saga_satellites.add_index('HOSTID')\n",
    "sat_n = cos_saga_satellites.loc_indices[hostid]\n",
    "\n",
    "Dras,DDecs,DVs,Bs, Bh=[],[],[],[], []\n",
    "\n",
    "if np.size(sat_n)>1.:\n",
    "\n",
    "    for n in sat_n:\n",
    "        if cos_saga_satellites['HOSTID'][n] == hostid:\n",
    "            dras,ddecs = rahost-cos_saga_satellites['RA'][n],dechost-cos_saga_satellites['DEC'][n]\n",
    "            Dras,DDecs=np.append(Dras,dras),np.append(DDecs,ddecs)\n",
    "\n",
    "else:\n",
    "    dras,ddecs = rahost-cos_saga_satellites['RA'][sat_n],dechost-cos_saga_satellites['DEC'][sat_n]\n",
    "    Dras,DDecs=np.append(Dras,dras),np.append(DDecs,ddecs)\n",
    "\n",
    "\n",
    "ax1.scatter(Dras,DDecs,c='#ffb250', marker='o', s=150, label='satellite')\n",
    "\n",
    "ax1.legend(fontsize=12)\n",
    "\n",
    "#spectra & impact param\n",
    "for s,i,ax in zip(sightlines_table['sightline'][:3], range(3), [ax2,ax3,ax4]): # axi in, [ax5,ax6,ax7]):\n",
    "\n",
    "    qso_coord = SkyCoord(sightlines_table['RA QSO'][i]*u.deg,sightlines_table['DEC QSO'][i]*u.deg, distance=host_dist*u.Mpc)\n",
    "    DVs,Bs, Bh=[],[],[]\n",
    " \n",
    "    dvs = (cos_saga_satellites['SPEC_Z'][sat_n]*cnst.c - (vhost)*u.km/u.s).to(u.km/u.s)\n",
    "    DVs=np.append(DVs,dvs.value)\n",
    "\n",
    "    #impact parameter to the qso\n",
    "    sat_coord = SkyCoord(cos_saga_satellites['RA'][sat_n]*u.deg,cos_saga_satellites['DEC'][sat_n]*u.deg,distance=host_dist*u.Mpc)\n",
    "    sep = qso_coord.separation_3d(sat_coord)\n",
    "    sep=sep.to(u.kpc)\n",
    "    bs=sep.value#cos_saga_satellites['RHOST_KPC'][n] \n",
    "    Bh = cos_saga_satellites['RHOST_KPC'][sat_n] \n",
    "    Bs = np.append(Bs,bs)\n",
    "      \n",
    "    #axi.scatter(Bs,DVs,c='#ffb250', marker='o', s=100)\n",
    "    #ax4.scatter(Bh,DVs,c='#ffb250', marker='o', s=150) \n",
    "    \n",
    "    #axi.scatter(b_host[i],0,c='#992959', marker='s', s=100)\n",
    "    print(s)\n",
    "    sline = pickle.load(open(\"../\"+s+'_1215.67.p', 'rb'))\n",
    "    v=sline.velo\n",
    "    f=sline.fnorm\n",
    "    e = sline.enorm -0.6\n",
    "    ew_er = round(sline.W_e,2)\n",
    "    N = round(np.log10(sline.logN),2)\n",
    "    print(N)\n",
    "    ew = round(sline.W,2)\n",
    "    ax.annotate('W$_{r}$ = '+ str(ew)+' $\\pm$ '+str(ew_er), (0.1,0.8), xycoords='axes fraction', fontsize=15)\n",
    "    ax.set_xlim([-600,600])\n",
    "    #axi.set_ylim([-600,600])\n",
    "    ax.set_ylim([-.6,2.1])\n",
    "    #axi.set_xlim([-10,350])\n",
    "    #axi.axhline(0, ls='--', c='gray')\n",
    "    ax.axvline(0, ls='--',c='#992959')\n",
    "    ax.axhline(1.0, ls='--', c='gray')\n",
    "    ax.step(v,f, 'k')\n",
    "    ax.step(v,e, 'r')\n",
    "\n",
    "    if np.size(DVs) > 1:\n",
    "        for dvs in DVs:\n",
    "\n",
    "            ax.plot([dvs]*2, [1.2,1.5], color='#ffb250', lw=2)\n",
    "            print(dvs)\n",
    "    #other absorbers\n",
    "    else:\n",
    "        ax.plot([DVs[0]]*2, [1.2,1.5], color='#ffb250', lw=3)\n",
    "        print(DVs[0])\n",
    "\n",
    "#ax7.set_xlabel(\"QSO Impact Parameter [kpc]\", fontsize=18)\n",
    "\n",
    "ax4.set_xlabel(\"Velocity [km/s]\", fontsize=18)\n",
    "#ax4.set_xlabel(\"HOST Impact Parameter [kpc]\", fontsize=15)\n",
    "\n",
    "\n",
    "\n",
    "#     ax.set_yticks([0.0, 1.0, 2.0])\n",
    "# # axs[0].set_xticks(np.arange(-600,600, 50) , minor=True)\n",
    "\n",
    "# ax2.set_xticks([])\n",
    "# ax5.set_xticks([])\n",
    "# ax6.set_xticks([])\n",
    "# for ax in [ax5,ax6,ax7]:\n",
    "#     ax.yaxis.tick_right()\n",
    "#     ax.yaxis.set_label_position(\"right\")\n",
    "    \n",
    "# ax6.set_ylabel(\"$\\Delta$ v [km/s]\", fontsize=18, rotation=-90)\n",
    "\n",
    "ax1.annotate('HOST ID: '+str(hostid), xy=(0.1,0.9), xycoords='axes fraction')\n",
    "fig.savefig(\"85746-3sightlines.png\")"
   ]
  },
  {
   "cell_type": "code",
   "execution_count": null,
   "metadata": {},
   "outputs": [],
   "source": []
  },
  {
   "cell_type": "code",
   "execution_count": null,
   "metadata": {},
   "outputs": [],
   "source": [
    "#proposal version\n",
    "fig = plt.figure(figsize=(15,8))\n",
    "\n",
    "#ax0 = plt.subplot2grid((3,8), (0, 0), colspan=3, rowspan=1)\n",
    "ax1 = plt.subplot2grid((3,5), (0, 0), colspan=2, rowspan=2)\n",
    "ax2 = plt.subplot2grid((3, 5), (0, 2), colspan=3,rowspan=1)\n",
    "ax3 = plt.subplot2grid((3, 5), (1, 2), colspan=3,rowspan=1)\n",
    "ax4 = plt.subplot2grid((3, 5), (2, 2), colspan=3,rowspan=1)\n",
    "# ax5 = plt.subplot2grid((3, 8), (0, 6), colspan=2,rowspan=1)\n",
    "# ax6 = plt.subplot2grid((3, 8), (1, 6), colspan=2,rowspan=1)\n",
    "# ax7 = plt.subplot2grid((3, 8), (2, 6), colspan=2,rowspan=1)\n",
    "\n",
    "velc='#a2798f'\n",
    "for ax in [ax2,ax3]:\n",
    "    ax.tick_params(axis='both', which='major', direction='in', length=8, width=3, bottom=True,top=True,\n",
    "                  left=True, right=True, reset=True)\n",
    "    ax.tick_params(axis='both', which='minor', direction='in', length=4, width=3, bottom=True,top=True,\n",
    "                  left=True, right=True, reset=True)\n",
    "### skymap\n",
    "ax1.set_xlim([-1,1])\n",
    "ax1.set_ylim([-1,1])\n",
    "ax1.set_xticks([])\n",
    "ax1.set_yticks([])\n",
    "# ax1.set_xticks([-1,-0.5,0,0.5])\n",
    "ax1.set_xlabel(r\" RA \")\n",
    "ax1.set_ylabel(r\" Dec \")\n",
    "#host coords\n",
    "hostid=85746\n",
    "vhost=sightlines_table['host velocity (helio)'][0]\n",
    "host_dist=sightlines_table['Host distance [Mpc]'][0]\n",
    "b_host=[sightlines_table['impact parameter [kpc]'][0],sightlines_table['impact parameter [kpc]'][1],sightlines_table['impact parameter [kpc]'][2]]\n",
    "cos_saga_hosts.add_index('HOSTID')\n",
    "\n",
    "m = cos_saga_hosts.loc_indices[hostid]\n",
    "rahost,dechost=cos_saga_hosts['RA'][m], cos_saga_hosts['DEC'][m]\n",
    "\n",
    "ax1.scatter(0,0,c='#992959', marker='s', s=150, label='host')\n",
    "# ellipse=(1.86/60*10,0.67/60.*10,105 ) #host orientation\n",
    "# ells=Ellipse(xy=(0,0), width=ellipse[0], height=ellipse[1], angle=ellipse[2]-90, ec='#992959', fc='None')\n",
    "# ax1.add_artist(ells)\n",
    "#sightlines\n",
    "draq1,ddecq1 = rahost-sightlines_table['RA QSO'][0], dechost-sightlines_table['DEC QSO'][0]\n",
    "draq2,ddecq2 = rahost-sightlines_table['RA QSO'][1], dechost-sightlines_table['DEC QSO'][1]\n",
    "draq3,ddecq3 = rahost-sightlines_table['RA QSO'][2], dechost-sightlines_table['DEC QSO'][2]\n",
    "\n",
    "ax1.scatter([draq1,draq2,draq3],[ddecq1,ddecq2,ddecq3],c='k', marker='*', s=200)\n",
    "ax1.plot(-20,-20,c='k', marker='*', ms=20, label='QSO',ls='None' )\n",
    "\n",
    "\n",
    "#satelites\n",
    "cos_saga_satellites.add_index('HOSTID')\n",
    "sat_n = cos_saga_satellites.loc_indices[hostid]\n",
    "\n",
    "Dras,DDecs,DVs,Bs, Bh=[],[],[],[], []\n",
    "\n",
    "if np.size(sat_n)>1.:\n",
    "\n",
    "    for n in sat_n:\n",
    "        if cos_saga_satellites['HOSTID'][n] == hostid:\n",
    "            dras,ddecs = rahost-cos_saga_satellites['RA'][n],dechost-cos_saga_satellites['DEC'][n]\n",
    "            Dras,DDecs=np.append(Dras,dras),np.append(DDecs,ddecs)\n",
    "\n",
    "else:\n",
    "    dras,ddecs = rahost-cos_saga_satellites['RA'][sat_n],dechost-cos_saga_satellites['DEC'][sat_n]\n",
    "    Dras,DDecs=np.append(Dras,dras),np.append(DDecs,ddecs)\n",
    "\n",
    "\n",
    "ax1.scatter(Dras,DDecs,c='#ffb250', marker='o', s=150, label='satellite')\n",
    "\n",
    "ax1.legend(fontsize=12)\n",
    "\n",
    "#spectra & impact param\n",
    "for s,i,ax in zip(sightlines_table['QSO'][:3], range(3), [ax2,ax3,ax4]): # axi in, [ax5,ax6,ax7]):\n",
    "\n",
    "    qso_coord = SkyCoord(sightlines_table['RA QSO'][i]*u.deg,sightlines_table['DEC QSO'][i]*u.deg, distance=host_dist*u.Mpc)\n",
    "    DVs,Bs, Bh=[],[],[]\n",
    " \n",
    "    dvs = (cos_saga_satellites['SPEC_Z'][sat_n]*cnst.c - (vhost)*u.km/u.s).to(u.km/u.s)\n",
    "    DVs=np.append(DVs,dvs.value)\n",
    "\n",
    "    #impact parameter to the qso\n",
    "    sat_coord = SkyCoord(cos_saga_satellites['RA'][sat_n]*u.deg,cos_saga_satellites['DEC'][sat_n]*u.deg,distance=host_dist*u.Mpc)\n",
    "    sep = qso_coord.separation_3d(sat_coord)\n",
    "    sep=sep.to(u.kpc)\n",
    "    bs=sep.value#cos_saga_satellites['RHOST_KPC'][n] \n",
    "    Bh = cos_saga_satellites['RHOST_KPC'][sat_n] \n",
    "    Bs = np.append(Bs,bs)\n",
    "      \n",
    "    #axi.scatter(Bs,DVs,c='#ffb250', marker='o', s=100)\n",
    "    #ax4.scatter(Bh,DVs,c='#ffb250', marker='o', s=150) \n",
    "    \n",
    "    #axi.scatter(b_host[i],0,c='#992959', marker='s', s=100)\n",
    "    print(s)\n",
    "    sline = pickle.load(open(s+'_1215.67.p', 'rb'))\n",
    "    v=sline.velo\n",
    "    f=sline.fnorm\n",
    "    e = sline.enorm -0.6\n",
    "    ew_er = round(sline.W_e,2)\n",
    "    #N = round(np.log10(sline.logN),2)\n",
    "    ew = round(sline.W,2)\n",
    "    #ax.annotate('W$_{r}$ = '+ str(ew)+' $\\pm$ '+str(ew_er), (0.1,0.8), xycoords='axes fraction', fontsize=15)\n",
    "    ax.set_xlim([-600,600])\n",
    "    #axi.set_ylim([-600,600])\n",
    "    ax.set_ylim([-.6,2.1])\n",
    "    #axi.set_xlim([-10,350])\n",
    "    #axi.axhline(0, ls='--', c='gray')\n",
    "#     ax.axvline(0, ls='--',c='#992959')\n",
    "#     ax.axhline(1.0, ls='--', c='gray')\n",
    "    ax.step(v,f, 'k')\n",
    "    #ax.step(v,e, 'r')\n",
    "\n",
    "    if np.size(DVs) > 1:\n",
    "        for dvs in DVs:\n",
    "            print(dvs)\n",
    "            ax.plot([dvs]*2, [1.2,1.5], color='#ffb250', lw=2)\n",
    "    #other absorbers\n",
    "    else:\n",
    "        ax.plot([DVs[0]]*2, [1.2,1.5], color='#ffb250', lw=3)\n",
    "        print(DVs[0])\n",
    "#ax7.set_xlabel(\"QSO Impact Parameter [kpc]\", fontsize=18)\n",
    "\n",
    "ax4.set_xlabel(\"Velocity [km/s]\", fontsize=18)\n",
    "#ax4.set_xlabel(\"HOST Impact Parameter [kpc]\", fontsize=15)\n",
    "\n",
    "\n",
    "\n",
    "#     ax.set_yticks([0.0, 1.0, 2.0])\n",
    "# # axs[0].set_xticks(np.arange(-600,600, 50) , minor=True)\n",
    "\n",
    "# ax2.set_xticks([])\n",
    "# ax5.set_xticks([])\n",
    "# ax6.set_xticks([])\n",
    "# for ax in [ax5,ax6,ax7]:\n",
    "#     ax.yaxis.tick_right()\n",
    "#     ax.yaxis.set_label_position(\"right\")\n",
    "    \n",
    "# ax6.set_ylabel(\"$\\Delta$ v [km/s]\", fontsize=18, rotation=-90)\n",
    "\n",
    "#ax1.annotate('HOST ID: '+str(hostid), xy=(0.1,0.9), xycoords='axes fraction')\n",
    "fig.savefig(\"85746-3sightlines.png\")"
   ]
  },
  {
   "cell_type": "code",
   "execution_count": 25,
   "metadata": {},
   "outputs": [
    {
     "ename": "NameError",
     "evalue": "name 'sightlines_table' is not defined",
     "output_type": "error",
     "traceback": [
      "\u001b[0;31m---------------------------------------------------------------------------\u001b[0m",
      "\u001b[0;31mNameError\u001b[0m                                 Traceback (most recent call last)",
      "\u001b[0;32m<ipython-input-25-d9a9bc86afa2>\u001b[0m in \u001b[0;36m<module>\u001b[0;34m\u001b[0m\n\u001b[1;32m     25\u001b[0m \u001b[0mhostid\u001b[0m\u001b[0;34m=\u001b[0m\u001b[0;36m147606\u001b[0m\u001b[0;34m\u001b[0m\u001b[0;34m\u001b[0m\u001b[0m\n\u001b[1;32m     26\u001b[0m \u001b[0mJ\u001b[0m\u001b[0;34m=\u001b[0m\u001b[0;36m9\u001b[0m\u001b[0;34m\u001b[0m\u001b[0;34m\u001b[0m\u001b[0m\n\u001b[0;32m---> 27\u001b[0;31m \u001b[0mvhost\u001b[0m\u001b[0;34m=\u001b[0m\u001b[0msightlines_table\u001b[0m\u001b[0;34m[\u001b[0m\u001b[0;34m'host velocity (helio)'\u001b[0m\u001b[0;34m]\u001b[0m\u001b[0;34m[\u001b[0m\u001b[0mJ\u001b[0m\u001b[0;34m]\u001b[0m\u001b[0;34m\u001b[0m\u001b[0;34m\u001b[0m\u001b[0m\n\u001b[0m\u001b[1;32m     28\u001b[0m \u001b[0mhost_dist\u001b[0m\u001b[0;34m=\u001b[0m\u001b[0msightlines_table\u001b[0m\u001b[0;34m[\u001b[0m\u001b[0;34m'Host distance [Mpc]'\u001b[0m\u001b[0;34m]\u001b[0m\u001b[0;34m[\u001b[0m\u001b[0mJ\u001b[0m\u001b[0;34m]\u001b[0m\u001b[0;34m\u001b[0m\u001b[0;34m\u001b[0m\u001b[0m\n\u001b[1;32m     29\u001b[0m \u001b[0mb_host\u001b[0m\u001b[0;34m=\u001b[0m\u001b[0;34m[\u001b[0m\u001b[0msightlines_table\u001b[0m\u001b[0;34m[\u001b[0m\u001b[0;34m'impact parameter [kpc]'\u001b[0m\u001b[0;34m]\u001b[0m\u001b[0;34m[\u001b[0m\u001b[0mJ\u001b[0m\u001b[0;34m]\u001b[0m\u001b[0;34m]\u001b[0m\u001b[0;34m\u001b[0m\u001b[0;34m\u001b[0m\u001b[0m\n",
      "\u001b[0;31mNameError\u001b[0m: name 'sightlines_table' is not defined"
     ]
    },
    {
     "data": {
      "image/png": "[encoded data removed]",
      "text/plain": [
       "<Figure size 1080x432 with 2 Axes>"
      ]
     },
     "metadata": {
      "needs_background": "light"
     },
     "output_type": "display_data"
    }
   ],
   "source": [
    "#proposal\n",
    "fig = plt.figure(figsize=(15,6))\n",
    "\n",
    "ax1 = plt.subplot2grid((2,5), (0, 0), colspan=2, rowspan=2)\n",
    "ax2 = plt.subplot2grid((2,5), (1, 2), colspan=3,rowspan=1)\n",
    "#ax3 = plt.subplot2grid((2, 5), (1, 2), colspan=3,rowspan=1)\n",
    "# ax4 = plt.subplot2grid((2, 6), (0, 4), colspan=2,rowspan=1)\n",
    "# ax5 = plt.subplot2grid((2, 6), (1, 4), colspan=2,rowspan=1)\n",
    "\n",
    "velc='#a2798f'\n",
    "for ax in [ax2]:\n",
    "    ax.tick_params(axis='both', which='major', direction='in', length=8, width=3, bottom=True,top=True,\n",
    "                  left=True, right=True, reset=True)\n",
    "    ax.tick_params(axis='both', which='minor', direction='in', length=4, width=3, bottom=True,top=True,\n",
    "                  left=True, right=True, reset=True)\n",
    "### skymap\n",
    "ax1.set_xlim([-1,1])\n",
    "ax1.set_ylim([-1,1])\n",
    "ax1.set_xticks([])\n",
    "ax1.set_yticks([])\n",
    "ax1.set_xlabel(r\" RA \")\n",
    "ax1.set_ylabel(r\" Dec \")\n",
    "\n",
    "#host coords\n",
    "hostid=147606\n",
    "J=9\n",
    "vhost=sightlines_table['host velocity (helio)'][J]\n",
    "host_dist=sightlines_table['Host distance [Mpc]'][J]\n",
    "b_host=[sightlines_table['impact parameter [kpc]'][J]]\n",
    "cos_saga_hosts.add_index('HOSTID')\n",
    "\n",
    "m = cos_saga_hosts.loc_indices[hostid]\n",
    "rahost,dechost=cos_saga_hosts['RA'][m], cos_saga_hosts['DEC'][m]\n",
    "\n",
    "ax1.scatter(0,0,c='#992959', marker='s', s=150, label='host')\n",
    "ellipse=[1.37/6.,0.77/6., 125]#host orientation\n",
    "ells=Ellipse(xy=(0,0), width=ellipse[0], height=ellipse[1], angle=ellipse[2]-90, ec='#992959', fc='None')\n",
    "#ax1.add_artist(ells)\n",
    "#sightlines\n",
    "draq1,ddecq1 = rahost-sightlines_table['RA QSO'][J], dechost-sightlines_table['DEC QSO'][J]\n",
    "\n",
    "ax1.scatter([draq1],[ddecq1],c='k', marker='*', s=200)\n",
    "ax1.plot(-20,-20,c='k', marker='*', ms=20, label='QSO',ls='None' )\n",
    "\n",
    "#satelites\n",
    "cos_saga_satellites.add_index('HOSTID')\n",
    "sat_n = cos_saga_satellites.loc_indices[hostid]\n",
    "\n",
    "Dras,DDecs,DVs,Bs, Bh=[],[],[],[], []\n",
    "\n",
    "for n in sat_n:\n",
    "    if cos_saga_satellites['HOSTID'][n] == hostid:\n",
    "        dras,ddecs = rahost-cos_saga_satellites['RA'][n],dechost-cos_saga_satellites['DEC'][n]\n",
    "        Dras,DDecs=np.append(Dras,dras),np.append(DDecs,ddecs)\n",
    "\n",
    "\n",
    "ax1.scatter(Dras,DDecs,c='#ffb250', marker='o', s=150, label='satellite')\n",
    "\n",
    "ax1.legend(fontsize=12)\n",
    "\n",
    "#spectra & impact param\n",
    "ax=ax2\n",
    "s = sightlines_table['QSO'][J]\n",
    "i=J\n",
    "\n",
    "qso_coord = SkyCoord(sightlines_table['RA QSO'][i]*u.deg,sightlines_table['DEC QSO'][i]*u.deg, distance=host_dist*u.Mpc)\n",
    "DVs,Bs, Bh=[],[],[]\n",
    "if np.size(sat_n)>1.:\n",
    "\n",
    "    for n in sat_n:\n",
    "        if cos_saga_satellites['HOSTID'][n] == hostid:\n",
    "            dvs = (cos_saga_satellites['SPEC_Z'][n]*cnst.c - (vhost)*u.km/u.s).to(u.km/u.s)\n",
    "\n",
    "            DVs=np.append(DVs,dvs.value)\n",
    "\n",
    "            #impact parameter to the qso\n",
    "            sat_coord = SkyCoord(cos_saga_satellites['RA'][n]*u.deg,cos_saga_satellites['DEC'][n]*u.deg,distance=host_dist*u.Mpc)\n",
    "            sep = qso_coord.separation_3d(sat_coord)\n",
    "            sep=sep.to(u.kpc)\n",
    "            bs=sep.value\n",
    "            #bs=cos_saga_satellites['RHOST_KPC'][n] \n",
    "            Bs = np.append(Bs,bs)\n",
    "            bh = cos_saga_satellites['RHOST_KPC'][n] \n",
    "            Bh = np.append(Bh,bh)\n",
    "\n",
    "\n",
    "\n",
    "#axi.scatter(Bs,DVs,c='#ffb250', marker='o', s=100)\n",
    "#ax4.scatter(Bh,DVs,c='#ffb250', marker='o', s=150) \n",
    "\n",
    "#axi.scatter(b_host[i-6],0,c='#992959', marker='s', s=100)\n",
    "print(s)\n",
    "sline = pickle.load(open(s+'_1215.67.p', 'rb'))\n",
    "v=sline.velo\n",
    "f=sline.fnorm\n",
    "e = sline.enorm -0.6\n",
    "#N = round(np.log10(sline.logN),2)\n",
    "ew = round(sline.W,2)\n",
    "ew_er = round(sline.W_e,2)\n",
    "\n",
    "#ax.annotate('W$_{r}$ = '+ str(ew) + ' $\\pm$ '+str(ew_er), (0.05,0.85), xycoords='axes fraction', fontsize=15)\n",
    "ax.set_xlim([-600,600])\n",
    "#axi.set_ylim([-600,600])\n",
    "ax.set_ylim([-.6,2.1])\n",
    "#axi.set_xlim([-10,350])\n",
    "#axi.axhline(0, ls='--', c='gray')\n",
    "ax.axvline(0, ls='--',c='#992959')\n",
    "ax.axhline(1.0, ls='--', c='gray')\n",
    "ax.step(v,f, 'k')\n",
    "#ax.step(v,e, 'r')\n",
    "if np.size(DVs) > 1:\n",
    "    for dvs in DVs:\n",
    "\n",
    "        ax.plot([dvs]*2, [1.2,1.5], color='#ffb250')\n",
    "        print(dvs)\n",
    "#other absorbers\n",
    "else:\n",
    "    ax.plot([DVs[0]]*2, [1.2,1.5], color='#ffb250')\n",
    "    print(DVs[0])\n",
    "\n",
    "#ax5.set_xlabel(\"QSO Impact Parameter [kpc]\", fontsize=18)\n",
    "ax2.set_xlabel(\"Velocity [km/s]\", fontsize=18)\n",
    "\n",
    "# for ax in [ax4,ax5]:\n",
    "#     ax.yaxis.tick_right()\n",
    "#     ax.yaxis.set_label_position(\"right\")\n",
    "    \n",
    "# ax4.set_ylabel(\"$\\Delta$ v [km/s]\", fontsize=18)\n",
    "ax1.plot([-0.8,0.0], [-.8,-.8], lw=3,color='k')\n",
    "ax1.annotate(\"300 kpc\", xy=(-0.6,-0.75))\n",
    "#ax1.annotate('HOST ID: '+str(hostid), xy=(0.1,0.9), xycoords='axes fraction')\n",
    "fig.savefig(str(hostid)+'1sightline.png')\n"
   ]
  },
  {
   "cell_type": "code",
   "execution_count": null,
   "metadata": {},
   "outputs": [],
   "source": [
    "fig = plt.figure(figsize=(18,6))\n",
    "\n",
    "ax1 = plt.subplot2grid((2,5), (0, 0), colspan=2, rowspan=2)\n",
    "ax2 = plt.subplot2grid((2,5), (0, 2), colspan=3,rowspan=1)\n",
    "ax3 = plt.subplot2grid((2, 5), (1, 2), colspan=3,rowspan=1)\n",
    "# ax4 = plt.subplot2grid((2, 6), (0, 4), colspan=2,rowspan=1)\n",
    "# ax5 = plt.subplot2grid((2, 6), (1, 4), colspan=2,rowspan=1)\n",
    "\n",
    "velc='#a2798f'\n",
    "for ax in [ax1,ax2,ax3]:\n",
    "    ax.tick_params(axis='both', which='major', direction='in', length=8, width=3, bottom=True,top=True,\n",
    "                  left=True, right=True, reset=True)\n",
    "    ax.tick_params(axis='both', which='minor', direction='in', length=4, width=3, bottom=True,top=True,\n",
    "                  left=True, right=True, reset=True)\n",
    "### skymap\n",
    "ax1.set_xlim([-1,1])\n",
    "ax1.set_ylim([-1,1])\n",
    "ax1.set_xticks([-1,-0.5,0,0.5])\n",
    "ax1.set_xlabel(r\"$\\Delta$ RA [deg]\")\n",
    "ax1.set_ylabel(r\"$\\Delta$ Dec [deg]\")\n",
    "\n",
    "#host coords\n",
    "hostid=165082\n",
    "J=6\n",
    "vhost=sightlines_table['host velocity (helio)'][J]\n",
    "host_dist=sightlines_table['Host distance [Mpc]'][J]\n",
    "b_host=[sightlines_table['impact parameter [kpc]'][J],sightlines_table['impact parameter [kpc]'][J+1]]\n",
    "cos_saga_hosts.add_index('HOSTID')\n",
    "\n",
    "m = cos_saga_hosts.loc_indices[hostid]\n",
    "rahost,dechost=cos_saga_hosts['RA'][m], cos_saga_hosts['DEC'][m]\n",
    "\n",
    "ax1.scatter(0,0,c='#992959', marker='s', s=150, label='host')\n",
    "ellipse=(1.41/6., 1.297/6., 145)#host orientation\n",
    "ells=Ellipse(xy=(0,0), width=ellipse[0], height=ellipse[1], angle=ellipse[2]-90, ec='#992959', fc='None')\n",
    "ax1.add_artist(ells)\n",
    "#sightlines\n",
    "draq1,ddecq1 = rahost-sightlines_table['RA QSO'][J], dechost-sightlines_table['DEC QSO'][J]\n",
    "draq2,ddecq2 = rahost-sightlines_table['RA QSO'][J+1], dechost-sightlines_table['DEC QSO'][J+1]\n",
    "\n",
    "ax1.scatter([draq1,draq2],[ddecq1,ddecq2],c='k', marker='*', s=200)\n",
    "ax1.plot(-20,-20,c='k', marker='*', ms=20, label='QSO',ls='None' )\n",
    "\n",
    "#satelites\n",
    "cos_saga_satellites.add_index('HOSTID')\n",
    "sat_n = cos_saga_satellites.loc_indices[hostid]\n",
    "\n",
    "Dras,DDecs,DVs,Bs, Bh=[],[],[],[], []\n",
    "\n",
    "for n in sat_n:\n",
    "    if cos_saga_satellites['HOSTID'][n] == hostid:\n",
    "        dras,ddecs = rahost-cos_saga_satellites['RA'][n],dechost-cos_saga_satellites['DEC'][n]\n",
    "        Dras,DDecs=np.append(Dras,dras),np.append(DDecs,ddecs)\n",
    "\n",
    "\n",
    "ax1.scatter(Dras,DDecs,c='#ffb250', marker='o', s=150, label='satellite')\n",
    "\n",
    "ax1.legend(fontsize=12)\n",
    "\n",
    "#spectra & impact param\n",
    "for s,i,ax in zip(sightlines_table['QSO'][6:8], range(6,9), [ax2,ax3]): #axi in, [ax4,ax5]):\n",
    "\n",
    "    qso_coord = SkyCoord(sightlines_table['RA QSO'][i]*u.deg,sightlines_table['DEC QSO'][i]*u.deg, distance=host_dist*u.Mpc)\n",
    "    DVs,Bs, Bh=[],[],[]\n",
    "    if np.size(sat_n)>1.:\n",
    "\n",
    "        for n in sat_n:\n",
    "            if cos_saga_satellites['HOSTID'][n] == hostid:\n",
    "                dvs = (cos_saga_satellites['SPEC_Z'][n]*cnst.c - (vhost)*u.km/u.s).to(u.km/u.s)\n",
    "\n",
    "                DVs=np.append(DVs,dvs.value)\n",
    "\n",
    "                #impact parameter to the qso\n",
    "                sat_coord = SkyCoord(cos_saga_satellites['RA'][n]*u.deg,cos_saga_satellites['DEC'][n]*u.deg,distance=host_dist*u.Mpc)\n",
    "                sep = qso_coord.separation_3d(sat_coord)\n",
    "                sep=sep.to(u.kpc)\n",
    "                bs=sep.value\n",
    "                #bs=cos_saga_satellites['RHOST_KPC'][n] \n",
    "                Bs = np.append(Bs,bs)\n",
    "                bh = cos_saga_satellites['RHOST_KPC'][n] \n",
    "                Bh = np.append(Bh,bh)\n",
    "\n",
    "\n",
    "    \n",
    "    #axi.scatter(Bs,DVs,c='#ffb250', marker='o', s=100)\n",
    "    #ax4.scatter(Bh,DVs,c='#ffb250', marker='o', s=150) \n",
    "    \n",
    "    #axi.scatter(b_host[i-6],0,c='#992959', marker='s', s=100)\n",
    "    print(s)\n",
    "    sline = pickle.load(open(s+'_1215.67.p', 'rb'))\n",
    "    v=sline.velo\n",
    "    f=sline.fnorm\n",
    "    e = sline.enorm -0.6\n",
    "    #N = round(np.log10(sline.logN),2)\n",
    "    N = round(np.log10(sline.logN),2)\n",
    "    print(N)\n",
    "    ew = round(sline.W,2)\n",
    "    ew_er = round(sline.W_e,2)\n",
    "\n",
    "    ax.annotate('W$_{r}$ = '+ str(ew) + ' $\\pm$ '+str(ew_er), (0.05,0.85), xycoords='axes fraction', fontsize=15)\n",
    "    ax.set_xlim([-600,600])\n",
    "    #axi.set_ylim([-600,600])\n",
    "    ax.set_ylim([-.6,2.1])\n",
    "    #axi.set_xlim([-10,350])\n",
    "    #axi.axhline(0, ls='--', c='gray')\n",
    "    ax.axvline(0, ls='--',c='#992959')\n",
    "    ax.axhline(1.0, ls='--', c='gray')\n",
    "    ax.step(v,f, 'k')\n",
    "    ax.step(v,e, 'r')\n",
    "    if np.size(DVs) > 1:\n",
    "        for dvs in DVs:\n",
    "            print(dvs)\n",
    "            ax.plot([dvs]*2, [1.2,1.5], color='#ffb250')\n",
    "    #other absorbers\n",
    "    else:\n",
    "        print(DVs[0])\n",
    "        ax.plot([DVs[0]]*2, [1.2,1.5], color='#ffb250')\n",
    "\n",
    "#ax5.set_xlabel(\"QSO Impact Parameter [kpc]\", fontsize=18)\n",
    "ax3.set_xlabel(\"Velocity [km/s]\", fontsize=18)\n",
    "\n",
    "# for ax in [ax4,ax5]:\n",
    "#     ax.yaxis.tick_right()\n",
    "#     ax.yaxis.set_label_position(\"right\")\n",
    "    \n",
    "# ax4.set_ylabel(\"$\\Delta$ v [km/s]\", fontsize=18)\n",
    "\n",
    "ax1.annotate('HOST ID: '+str(hostid), xy=(0.1,0.9), xycoords='axes fraction')\n",
    "\n",
    "fig.savefig(\"165082-2sightlines.png\")"
   ]
  },
  {
   "cell_type": "code",
   "execution_count": 63,
   "metadata": {},
   "outputs": [
    {
     "name": "stdout",
     "output_type": "stream",
     "text": [
      "J1451+5914\n",
      "14.22\n",
      "37.815072702476755\n",
      "60.04846492547263\n",
      "10.295660521777346\n"
     ]
    },
    {
     "data": {
      "image/png": "[encoded data removed]",
      "text/plain": [
       "<Figure size 1080x432 with 2 Axes>"
      ]
     },
     "metadata": {
      "needs_background": "light"
     },
     "output_type": "display_data"
    }
   ],
   "source": [
    "fig = plt.figure(figsize=(15,6))\n",
    "\n",
    "ax1 = plt.subplot2grid((2,5), (0, 0), colspan=2, rowspan=2)\n",
    "ax2 = plt.subplot2grid((2,5), (0, 2), colspan=3,rowspan=1)\n",
    "#ax3 = plt.subplot2grid((2, 5), (1, 2), colspan=3,rowspan=1)\n",
    "# ax4 = plt.subplot2grid((2, 6), (0, 4), colspan=2,rowspan=1)\n",
    "# ax5 = plt.subplot2grid((2, 6), (1, 4), colspan=2,rowspan=1)\n",
    "\n",
    "velc='#a2798f'\n",
    "for ax in [ax1,ax2]:\n",
    "    ax.tick_params(axis='both', which='major', direction='in', length=8, width=3, bottom=True,top=True,\n",
    "                  left=True, right=True, reset=True)\n",
    "    ax.tick_params(axis='both', which='minor', direction='in', length=4, width=3, bottom=True,top=True,\n",
    "                  left=True, right=True, reset=True)\n",
    "### skymap\n",
    "ax1.set_xlim([-1,1])\n",
    "ax1.set_ylim([-1,1])\n",
    "ax1.set_xticks([-1,-0.5,0,0.5])\n",
    "ax1.set_xlabel(r\"$\\Delta$ RA [deg]\")\n",
    "ax1.set_ylabel(r\"$\\Delta$ Dec [deg]\")\n",
    "\n",
    "#host coords\n",
    "hostid=165707\n",
    "J=8\n",
    "vhost=sightlines_table['host velocity (helio)'][J]\n",
    "host_dist=sightlines_table['Host distance [Mpc]'][J]\n",
    "b_host=[sightlines_table['impact parameter [kpc]'][J],sightlines_table['impact parameter [kpc]'][J+1]]\n",
    "cos_saga_hosts.add_index('HOSTID')\n",
    "\n",
    "m = cos_saga_hosts.loc_indices[hostid]\n",
    "rahost,dechost=cos_saga_hosts['RA'][m], cos_saga_hosts['DEC'][m]\n",
    "\n",
    "ax1.scatter(0,0,c='#992959', marker='s', s=150, label='host')\n",
    "ellipse=[0.85/3., 0.3/3., 145]#host orientation\n",
    "ells=Ellipse(xy=(0,0), width=ellipse[0], height=ellipse[1], angle=ellipse[2]-90, ec='#992959', fc='None')\n",
    "ax1.add_artist(ells)\n",
    "#sightlines\n",
    "draq1,ddecq1 = rahost-sightlines_table['RA QSO'][J], dechost-sightlines_table['DEC QSO'][J]\n",
    "draq2,ddecq2 = rahost-sightlines_table['RA QSO'][J+1], dechost-sightlines_table['DEC QSO'][J+1]\n",
    "\n",
    "ax1.scatter([draq1,draq2],[ddecq1,ddecq2],c='k', marker='*', s=200)\n",
    "ax1.plot(-20,-20,c='k', marker='*', ms=20, label='QSO',ls='None' )\n",
    "\n",
    "#satelites\n",
    "cos_saga_satellites.add_index('HOSTID')\n",
    "sat_n = cos_saga_satellites.loc_indices[hostid]\n",
    "\n",
    "Dras,DDecs,DVs,Bs, Bh=[],[],[],[], []\n",
    "\n",
    "for n in sat_n:\n",
    "    if cos_saga_satellites['HOSTID'][n] == hostid:\n",
    "        dras,ddecs = rahost-cos_saga_satellites['RA'][n],dechost-cos_saga_satellites['DEC'][n]\n",
    "        Dras,DDecs=np.append(Dras,dras),np.append(DDecs,ddecs)\n",
    "\n",
    "\n",
    "ax1.scatter(Dras,DDecs,c='#ffb250', marker='o', s=150, label='satellite')\n",
    "\n",
    "ax1.legend(fontsize=12)\n",
    "\n",
    "#spectra & impact param\n",
    "ax=ax2\n",
    "s = sightlines_table['QSO'][8]\n",
    "i=8\n",
    "\n",
    "qso_coord = SkyCoord(sightlines_table['RA QSO'][i]*u.deg,sightlines_table['DEC QSO'][i]*u.deg, distance=host_dist*u.Mpc)\n",
    "DVs,Bs, Bh=[],[],[]\n",
    "if np.size(sat_n)>1.:\n",
    "\n",
    "    for n in sat_n:\n",
    "        if cos_saga_satellites['HOSTID'][n] == hostid:\n",
    "            dvs = (cos_saga_satellites['SPEC_Z'][n]*cnst.c - (vhost)*u.km/u.s).to(u.km/u.s)\n",
    "\n",
    "            DVs=np.append(DVs,dvs.value)\n",
    "\n",
    "            #impact parameter to the qso\n",
    "            sat_coord = SkyCoord(cos_saga_satellites['RA'][n]*u.deg,cos_saga_satellites['DEC'][n]*u.deg,distance=host_dist*u.Mpc)\n",
    "            sep = qso_coord.separation_3d(sat_coord)\n",
    "            sep=sep.to(u.kpc)\n",
    "            bs=sep.value\n",
    "            #bs=cos_saga_satellites['RHOST_KPC'][n] \n",
    "            Bs = np.append(Bs,bs)\n",
    "            bh = cos_saga_satellites['RHOST_KPC'][n] \n",
    "            Bh = np.append(Bh,bh)\n",
    "\n",
    "\n",
    "\n",
    "#axi.scatter(Bs,DVs,c='#ffb250', marker='o', s=100)\n",
    "#ax4.scatter(Bh,DVs,c='#ffb250', marker='o', s=150) \n",
    "\n",
    "#axi.scatter(b_host[i-6],0,c='#992959', marker='s', s=100)\n",
    "print(s)\n",
    "sline = pickle.load(open(s+'_1215.67.p', 'rb'))\n",
    "v=sline.velo\n",
    "f=sline.fnorm\n",
    "e = sline.enorm -0.6\n",
    "N = round(np.log10(sline.logN),2)\n",
    "print(N)\n",
    "ew = round(sline.W,2)\n",
    "ew_er = round(sline.W_e,2)\n",
    "\n",
    "ax.annotate('W$_{r}$ = '+ str(ew) + ' $\\pm$ '+str(ew_er), (0.05,0.85), xycoords='axes fraction', fontsize=15)\n",
    "ax.set_xlim([-600,600])\n",
    "#axi.set_ylim([-600,600])\n",
    "ax.set_ylim([-.6,2.1])\n",
    "#axi.set_xlim([-10,350])\n",
    "#axi.axhline(0, ls='--', c='gray')\n",
    "ax.axvline(0, ls='--',c='#992959')\n",
    "ax.axhline(1.0, ls='--', c='gray')\n",
    "ax.step(v,f, 'k')\n",
    "ax.step(v,e, 'r')\n",
    "if np.size(DVs) > 1:\n",
    "    for dvs in DVs:\n",
    "        print(dvs)\n",
    "        ax.plot([dvs]*2, [1.2,1.5], color='#ffb250')\n",
    "#other absorbers\n",
    "else:\n",
    "    ax.plot([DVs[0]]*2, [1.2,1.5], color='#ffb250')\n",
    "    print(DVs[0])\n",
    "#ax5.set_xlabel(\"QSO Impact Parameter [kpc]\", fontsize=18)\n",
    "ax2.set_xlabel(\"Velocity [km/s]\", fontsize=18)\n",
    "\n",
    "# for ax in [ax4,ax5]:\n",
    "#     ax.yaxis.tick_right()\n",
    "#     ax.yaxis.set_label_position(\"right\")\n",
    "    \n",
    "# ax4.set_ylabel(\"$\\Delta$ v [km/s]\", fontsize=18)\n",
    "\n",
    "ax1.annotate('HOST ID: '+str(hostid), xy=(0.1,0.9), xycoords='axes fraction')\n",
    "fig.savefig(str(hostid)+'1sightline.png')\n"
   ]
  },
  {
   "cell_type": "code",
   "execution_count": 64,
   "metadata": {},
   "outputs": [
    {
     "name": "stdout",
     "output_type": "stream",
     "text": [
      "SBS1421+511\n",
      "13.85\n",
      "75.24162515848224\n",
      "169.37633614908344\n",
      "-65.96065073003247\n",
      "0.2934983735289425\n",
      "-180.18153955119755\n"
     ]
    },
    {
     "data": {
      "image/png": "[encoded data removed]",
      "text/plain": [
       "<Figure size 1080x432 with 2 Axes>"
      ]
     },
     "metadata": {
      "needs_background": "light"
     },
     "output_type": "display_data"
    }
   ],
   "source": [
    "fig = plt.figure(figsize=(15,6))\n",
    "\n",
    "ax1 = plt.subplot2grid((2,5), (0, 0), colspan=2, rowspan=2)\n",
    "ax2 = plt.subplot2grid((2,5), (0, 2), colspan=3,rowspan=1)\n",
    "#ax3 = plt.subplot2grid((2, 5), (1, 2), colspan=3,rowspan=1)\n",
    "# ax4 = plt.subplot2grid((2, 6), (0, 4), colspan=2,rowspan=1)\n",
    "# ax5 = plt.subplot2grid((2, 6), (1, 4), colspan=2,rowspan=1)\n",
    "\n",
    "velc='#a2798f'\n",
    "for ax in [ax1,ax2]:\n",
    "    ax.tick_params(axis='both', which='major', direction='in', length=8, width=3, bottom=True,top=True,\n",
    "                  left=True, right=True, reset=True)\n",
    "    ax.tick_params(axis='both', which='minor', direction='in', length=4, width=3, bottom=True,top=True,\n",
    "                  left=True, right=True, reset=True)\n",
    "### skymap\n",
    "ax1.set_xlim([-1,1])\n",
    "ax1.set_ylim([-1,1])\n",
    "ax1.set_xticks([-1,-0.5,0,0.5])\n",
    "ax1.set_xlabel(r\"$\\Delta$ RA [deg]\")\n",
    "ax1.set_ylabel(r\"$\\Delta$ Dec [deg]\")\n",
    "\n",
    "#host coords\n",
    "hostid=144953\n",
    "J=5\n",
    "vhost=sightlines_table['host velocity (helio)'][J]\n",
    "host_dist=sightlines_table['Host distance [Mpc]'][J]\n",
    "b_host=[sightlines_table['impact parameter [kpc]'][J],sightlines_table['impact parameter [kpc]'][J+1]]\n",
    "cos_saga_hosts.add_index('HOSTID')\n",
    "\n",
    "m = cos_saga_hosts.loc_indices[hostid]\n",
    "rahost,dechost=cos_saga_hosts['RA'][m], cos_saga_hosts['DEC'][m]\n",
    "\n",
    "ax1.scatter(0,0,c='#992959', marker='s', s=150, label='host')\n",
    "ellipse=[1.05/6., 0.65/6., 170]#host orientation\n",
    "ells=Ellipse(xy=(0,0), width=ellipse[0], height=ellipse[1], angle=ellipse[2]-90, ec='#992959', fc='None')\n",
    "ax1.add_artist(ells)\n",
    "#sightlines\n",
    "draq1,ddecq1 = rahost-sightlines_table['RA QSO'][J], dechost-sightlines_table['DEC QSO'][J]\n",
    "draq2,ddecq2 = rahost-sightlines_table['RA QSO'][J+1], dechost-sightlines_table['DEC QSO'][J+1]\n",
    "\n",
    "ax1.scatter([draq1,draq2],[ddecq1,ddecq2],c='k', marker='*', s=200)\n",
    "ax1.plot(-20,-20,c='k', marker='*', ms=20, label='QSO',ls='None' )\n",
    "\n",
    "#satelites\n",
    "cos_saga_satellites.add_index('HOSTID')\n",
    "sat_n = cos_saga_satellites.loc_indices[hostid]\n",
    "\n",
    "Dras,DDecs,DVs,Bs, Bh=[],[],[],[], []\n",
    "\n",
    "for n in sat_n:\n",
    "    if cos_saga_satellites['HOSTID'][n] == hostid:\n",
    "        dras,ddecs = rahost-cos_saga_satellites['RA'][n],dechost-cos_saga_satellites['DEC'][n]\n",
    "        Dras,DDecs=np.append(Dras,dras),np.append(DDecs,ddecs)\n",
    "\n",
    "\n",
    "ax1.scatter(Dras,DDecs,c='#ffb250', marker='o', s=150, label='satellite')\n",
    "\n",
    "ax1.legend(fontsize=12)\n",
    "\n",
    "#spectra & impact param\n",
    "ax=ax2\n",
    "s = sightlines_table['QSO'][J]\n",
    "i=J\n",
    "\n",
    "qso_coord = SkyCoord(sightlines_table['RA QSO'][i]*u.deg,sightlines_table['DEC QSO'][i]*u.deg, distance=host_dist*u.Mpc)\n",
    "DVs,Bs, Bh=[],[],[]\n",
    "if np.size(sat_n)>1.:\n",
    "\n",
    "    for n in sat_n:\n",
    "        if cos_saga_satellites['HOSTID'][n] == hostid:\n",
    "            dvs = (cos_saga_satellites['SPEC_Z'][n]*cnst.c - (vhost)*u.km/u.s).to(u.km/u.s)\n",
    "\n",
    "            DVs=np.append(DVs,dvs.value)\n",
    "\n",
    "            #impact parameter to the qso\n",
    "            sat_coord = SkyCoord(cos_saga_satellites['RA'][n]*u.deg,cos_saga_satellites['DEC'][n]*u.deg,distance=host_dist*u.Mpc)\n",
    "            sep = qso_coord.separation_3d(sat_coord)\n",
    "            sep=sep.to(u.kpc)\n",
    "            bs=sep.value\n",
    "            #bs=cos_saga_satellites['RHOST_KPC'][n] \n",
    "            Bs = np.append(Bs,bs)\n",
    "            bh = cos_saga_satellites['RHOST_KPC'][n] \n",
    "            Bh = np.append(Bh,bh)\n",
    "\n",
    "\n",
    "\n",
    "#axi.scatter(Bs,DVs,c='#ffb250', marker='o', s=100)\n",
    "#ax4.scatter(Bh,DVs,c='#ffb250', marker='o', s=150) \n",
    "\n",
    "#axi.scatter(b_host[i-6],0,c='#992959', marker='s', s=100)\n",
    "print(s)\n",
    "sline = pickle.load(open(s+'_1215.67.p', 'rb'))\n",
    "v=sline.velo\n",
    "f=sline.fnorm\n",
    "e = sline.enorm -0.6\n",
    "N = round(np.log10(sline.logN),2)\n",
    "print(N)\n",
    "ew = round(sline.W,2)\n",
    "ew_er = round(sline.W_e,2)\n",
    "\n",
    "ax.annotate('W$_{r}$ = '+ str(ew) + ' $\\pm$ '+str(ew_er), (0.05,0.85), xycoords='axes fraction', fontsize=15)\n",
    "ax.set_xlim([-600,600])\n",
    "#axi.set_ylim([-600,600])\n",
    "ax.set_ylim([-.6,2.1])\n",
    "#axi.set_xlim([-10,350])\n",
    "#axi.axhline(0, ls='--', c='gray')\n",
    "ax.axvline(0, ls='--',c='#992959')\n",
    "ax.axhline(1.0, ls='--', c='gray')\n",
    "ax.step(v,f, 'k')\n",
    "ax.step(v,e, 'r')\n",
    "if np.size(DVs) > 1:\n",
    "    for dvs in DVs:\n",
    "        print(dvs)\n",
    "        ax.plot([dvs]*2, [1.2,1.5], color='#ffb250')\n",
    "#other absorbers\n",
    "else:\n",
    "    ax.plot([DVs[0]]*2, [1.2,1.5], color='#ffb250')\n",
    "    print(DVs[0])\n",
    "#ax5.set_xlabel(\"QSO Impact Parameter [kpc]\", fontsize=18)\n",
    "ax2.set_xlabel(\"Velocity [km/s]\", fontsize=18)\n",
    "\n",
    "# for ax in [ax4,ax5]:\n",
    "#     ax.yaxis.tick_right()\n",
    "#     ax.yaxis.set_label_position(\"right\")\n",
    "    \n",
    "# ax4.set_ylabel(\"$\\Delta$ v [km/s]\", fontsize=18)\n",
    "\n",
    "ax1.annotate('HOST ID: '+str(hostid), xy=(0.1,0.9), xycoords='axes fraction')\n",
    "fig.savefig(str(hostid)+'1sightline.png')\n"
   ]
  },
  {
   "cell_type": "code",
   "execution_count": 97,
   "metadata": {},
   "outputs": [
    {
     "name": "stdout",
     "output_type": "stream",
     "text": [
      "J1700+2237\n",
      "14.13\n"
     ]
    },
    {
     "data": {
      "image/png": "[encoded data removed]",
      "text/plain": [
       "<Figure size 1080x432 with 2 Axes>"
      ]
     },
     "metadata": {
      "needs_background": "light"
     },
     "output_type": "display_data"
    }
   ],
   "source": [
    "fig = plt.figure(figsize=(15,6))\n",
    "\n",
    "ax1 = plt.subplot2grid((2,5), (0, 0), colspan=2, rowspan=2)\n",
    "ax2 = plt.subplot2grid((2,5), (0, 2), colspan=3,rowspan=1)\n",
    "#ax3 = plt.subplot2grid((2, 5), (1, 2), colspan=3,rowspan=1)\n",
    "# ax4 = plt.subplot2grid((2, 6), (0, 4), colspan=2,rowspan=1)\n",
    "# ax5 = plt.subplot2grid((2, 6), (1, 4), colspan=2,rowspan=1)\n",
    "\n",
    "velc='#a2798f'\n",
    "for ax in [ax1,ax2]:\n",
    "    ax.tick_params(axis='both', which='major', direction='in', length=8, width=3, bottom=True,top=True,\n",
    "                  left=True, right=True, reset=True)\n",
    "    ax.tick_params(axis='both', which='minor', direction='in', length=4, width=3, bottom=True,top=True,\n",
    "                  left=True, right=True, reset=True)\n",
    "### skymap\n",
    "ax1.set_xlim([-1,1])\n",
    "ax1.set_ylim([-1,1])\n",
    "ax1.set_xticks([-1,-0.5,0,0.5])\n",
    "ax1.set_xlabel(r\"$\\Delta$ RA [deg]\")\n",
    "ax1.set_ylabel(r\"$\\Delta$ Dec [deg]\")\n",
    "\n",
    "#host coords\n",
    "hostid=147606\n",
    "J=9\n",
    "vhost=sightlines_table['host velocity (helio)'][J]\n",
    "host_dist=sightlines_table['Host distance [Mpc]'][J]\n",
    "b_host=[sightlines_table['impact parameter [kpc]'][J]]\n",
    "cos_saga_hosts.add_index('HOSTID')\n",
    "\n",
    "m = cos_saga_hosts.loc_indices[hostid]\n",
    "rahost,dechost=cos_saga_hosts['RA'][m], cos_saga_hosts['DEC'][m]\n",
    "\n",
    "ax1.scatter(0,0,c='#992959', marker='s', s=150, label='host')\n",
    "ellipse=[1.37/6.,0.77/6., 125]#host orientation\n",
    "ells=Ellipse(xy=(0,0), width=ellipse[0], height=ellipse[1], angle=ellipse[2]-90, ec='#992959', fc='None')\n",
    "ax1.add_artist(ells)\n",
    "#sightlines\n",
    "draq1,ddecq1 = rahost-sightlines_table['RA QSO'][J], dechost-sightlines_table['DEC QSO'][J]\n",
    "\n",
    "\n",
    "ax1.scatter([draq1,draq2],[ddecq1,ddecq2],c='k', marker='*', s=200)\n",
    "ax1.plot(-20,-20,c='k', marker='*', ms=20, label='QSO',ls='None' )\n",
    "\n",
    "#satelites\n",
    "cos_saga_satellites.add_index('HOSTID')\n",
    "sat_n = cos_saga_satellites.loc_indices[hostid]\n",
    "\n",
    "Dras,DDecs,DVs,Bs, Bh=[],[],[],[], []\n",
    "\n",
    "for n in sat_n:\n",
    "    if cos_saga_satellites['HOSTID'][n] == hostid:\n",
    "        dras,ddecs = rahost-cos_saga_satellites['RA'][n],dechost-cos_saga_satellites['DEC'][n]\n",
    "        Dras,DDecs=np.append(Dras,dras),np.append(DDecs,ddecs)\n",
    "\n",
    "\n",
    "ax1.scatter(Dras,DDecs,c='#ffb250', marker='o', s=150, label='satellite')\n",
    "\n",
    "ax1.legend(fontsize=12)\n",
    "\n",
    "#spectra & impact param\n",
    "ax=ax2\n",
    "s = sightlines_table['QSO'][J]\n",
    "i=J\n",
    "\n",
    "qso_coord = SkyCoord(sightlines_table['RA QSO'][i]*u.deg,sightlines_table['DEC QSO'][i]*u.deg, distance=host_dist*u.Mpc)\n",
    "DVs,Bs, Bh=[],[],[]\n",
    "if np.size(sat_n)>1.:\n",
    "\n",
    "    for n in sat_n:\n",
    "        if cos_saga_satellites['HOSTID'][n] == hostid:\n",
    "            dvs = (cos_saga_satellites['SPEC_Z'][n]*cnst.c - (vhost)*u.km/u.s).to(u.km/u.s)\n",
    "\n",
    "            DVs=np.append(DVs,dvs.value)\n",
    "\n",
    "            #impact parameter to the qso\n",
    "            sat_coord = SkyCoord(cos_saga_satellites['RA'][n]*u.deg,cos_saga_satellites['DEC'][n]*u.deg,distance=host_dist*u.Mpc)\n",
    "            sep = qso_coord.separation_3d(sat_coord)\n",
    "            sep=sep.to(u.kpc)\n",
    "            bs=sep.value\n",
    "            #bs=cos_saga_satellites['RHOST_KPC'][n] \n",
    "            Bs = np.append(Bs,bs)\n",
    "            bh = cos_saga_satellites['RHOST_KPC'][n] \n",
    "            Bh = np.append(Bh,bh)\n",
    "\n",
    "\n",
    "\n",
    "#axi.scatter(Bs,DVs,c='#ffb250', marker='o', s=100)\n",
    "#ax4.scatter(Bh,DVs,c='#ffb250', marker='o', s=150) \n",
    "\n",
    "#axi.scatter(b_host[i-6],0,c='#992959', marker='s', s=100)\n",
    "print(s)\n",
    "sline = pickle.load(open(s+'_1215.67.p', 'rb'))\n",
    "v=sline.velo\n",
    "f=sline.fnorm\n",
    "e = sline.enorm -0.6\n",
    "N = round(np.log10(sline.logN),2)\n",
    "print(N)\n",
    "ew = round(sline.W,2)\n",
    "ew_er = round(sline.W_e,2)\n",
    "\n",
    "ax.annotate('W$_{r}$ = '+ str(ew) + ' $\\pm$ '+str(ew_er), (0.05,0.85), xycoords='axes fraction', fontsize=15)\n",
    "ax.set_xlim([-600,600])\n",
    "#axi.set_ylim([-600,600])\n",
    "ax.set_ylim([-.6,2.1])\n",
    "#axi.set_xlim([-10,350])\n",
    "#axi.axhline(0, ls='--', c='gray')\n",
    "ax.axvline(0, ls='--',c='#992959')\n",
    "ax.axhline(1.0, ls='--', c='gray')\n",
    "ax.step(v,f, 'k')\n",
    "ax.step(v,e, 'r')\n",
    "if np.size(DVs) > 1:\n",
    "    for dvs in DVs:\n",
    "\n",
    "        ax.plot([dvs]*2, [1.2,1.5], color='#ffb250')\n",
    "#other absorbers\n",
    "else:\n",
    "    ax.plot([DVs[0]]*2, [1.2,1.5], color='#ffb250')\n",
    "\n",
    "#ax5.set_xlabel(\"QSO Impact Parameter [kpc]\", fontsize=18)\n",
    "ax2.set_xlabel(\"Velocity [km/s]\", fontsize=18)\n",
    "\n",
    "# for ax in [ax4,ax5]:\n",
    "#     ax.yaxis.tick_right()\n",
    "#     ax.yaxis.set_label_position(\"right\")\n",
    "    \n",
    "# ax4.set_ylabel(\"$\\Delta$ v [km/s]\", fontsize=18)\n",
    "\n",
    "ax1.annotate('HOST ID: '+str(hostid), xy=(0.1,0.9), xycoords='axes fraction')\n",
    "fig.savefig(str(hostid)+'1sightline.png')\n"
   ]
  },
  {
   "cell_type": "markdown",
   "metadata": {},
   "source": [
    "## Classification of the absorption lines in the COS data"
   ]
  },
  {
   "cell_type": "markdown",
   "metadata": {},
   "source": [
    "### TON1129\t(J0956+3226) \n",
    "\n",
    "<b>QSO =  0.52611 </b> <br>\n",
    "<b> 85746 SAGA host = 0.00477 (center of the HI line) 0.0048377 - host z </b> <br>\n",
    "   -  HI 1215 glow line sits in the deep - MW HI abs?\n",
    "   - SAGA host z = 0.00483777 velocity shift on HI - center of the line on 0.00477\n",
    "        lines: HI 1215 - low NHI potentially multi component, NI 1206, Si IV 1402 in very broad damped feature\n",
    "   - broad \\lambda 1406 feature is consistent with DLA at 0.1574 and with HI 920-923 from the QSO and with Si IV from z    \n",
    "   1. MW 0.0\n",
    "   2. QSO 0.52611\n",
    "   3. SAGA 0.00477\n",
    "   4. DLA 0.1574 (?)\n",
    "   \n",
    " Other absorbers:  \n",
    " -  0.36427\n",
    "  - 0.22408\n",
    "  - 0.21488\n",
    "  - 0.01699\n",
    "   \n",
    "   \n",
    "  "
   ]
  },
  {
   "cell_type": "code",
   "execution_count": 24,
   "metadata": {},
   "outputs": [],
   "source": [
    "sightline='TON1129'\n",
    "ton1129_abs = np.array([0.0,0.52611,0.1574,0.36427, 0.22408, 0.21488, 0.01699])\n"
   ]
  },
  {
   "cell_type": "code",
   "execution_count": 25,
   "metadata": {
    "scrolled": true
   },
   "outputs": [],
   "source": [
    "# ton1129_abs = np.array([0.0,0.52611,0.1574,0.36427, 0.22408, 0.21488, 0.01699])\n",
    "# #plot_lines_vel_zoom(sightline='TON1129', vhost=sightlines_table['host velocity (helio)'][0], smoothing=5)\n",
    "# plot_lines_mark_abs(sightline='TON1129', vhost=sightlines_table['host velocity (helio)'][0], smoothing=5, absorbers=ton1129_abs,hostid=85746)\n"
   ]
  },
  {
   "cell_type": "code",
   "execution_count": 26,
   "metadata": {},
   "outputs": [],
   "source": [
    "# sightline='TON1129'\n",
    "# ton1129_abs = np.array([0.0,0.52611,0.1574,0.36427, 0.22408, 0.21488, 0.01699])\n",
    "# CosSaga.plot_b_vel(sightline=sightline, absorbers=ton1129_abs, maj_ax=True, ellipse=(1.86/60*10,0.67/60.*10,105 ))"
   ]
  },
  {
   "cell_type": "code",
   "execution_count": 27,
   "metadata": {},
   "outputs": [],
   "source": [
    "# sightline='TON1129'\n",
    "# ton1129_abs = np.array([0.0,0.52611,0.1574,0.36427, 0.22408, 0.21488, 0.01699])\n",
    "# plot_lines_stack(sightline=sightline, absorbers=ton1129_abs, fit_order=7)\n"
   ]
  },
  {
   "cell_type": "markdown",
   "metadata": {},
   "source": [
    "### J0958+3224\n",
    "\n",
    "<b> QSO z = 0.5306 </b> <br>\n",
    "<b> 85746 SAGA 0.0048377: </b> DLA/sub-DLA, Si IV doublet blended with QSO lines, NI 1200c blended with QSO and MW lines <br>\n",
    "\n",
    "  1. MW 0.0\n",
    "  2. QSO 0.5306\t\n",
    "  3. SAGA 0.0048377\n",
    "  \n",
    "  Other absorbers: <br>\n",
    "   - 0.37084\n",
    "   - 0.36244\n",
    "    - 0.35471 ?\n",
    "    - 0.13586\n",
    "   - 0.13080\n",
    "   - 0.07961 ? or 0.27948\n",
    "   - 0.26298 ?\n",
    "   - 0.23103 ?"
   ]
  },
  {
   "cell_type": "code",
   "execution_count": 28,
   "metadata": {},
   "outputs": [],
   "source": [
    "# sightline='J0958+3224'\n",
    "# j0958_abs = np.array([0.0,0.5306,0.37084,0.36244, 0.35471, 0.13586, 0.13080, 0.07961, 0.27948, 0.26298, 0.23103])\n",
    "# plot_cont_fit(sightline, fit_order=7)"
   ]
  },
  {
   "cell_type": "code",
   "execution_count": 29,
   "metadata": {
    "scrolled": true
   },
   "outputs": [],
   "source": [
    "# j0958_abs = np.array([0.0,0.5306,0.37084,0.36244, 0.35471, 0.13586, 0.13080, 0.07961, 0.27948, 0.26298, 0.23103])\n",
    "# #plot_lines_vel_zoom(sightline='TON1129', vhost=sightlines_table['host velocity (helio)'][0], smoothing=5)\n",
    "# plot_lines_mark_abs(sightline='J0958+3224', vhost=sightlines_table['host velocity (helio)'][1], smoothing=5, absorbers=j0958_abs,hostid=85746 )\n"
   ]
  },
  {
   "cell_type": "code",
   "execution_count": 30,
   "metadata": {
    "scrolled": false
   },
   "outputs": [],
   "source": [
    "# sightline='J0958+3224'\n",
    "# j0958_abs = np.array([0.0,0.5306,0.37084,0.36244, 0.35471, 0.13586, 0.13080, 0.07961, 0.27948, 0.26298, 0.23103])\n",
    "\n",
    "# plot_b_vel(sightline='J0958+3224', absorbers=j0958_abs, N=1, maj_ax=True, ellipse=(1.86/60*10,0.67/60.*10,105 ))\n",
    "                                                                               \n",
    "                                                                                      "
   ]
  },
  {
   "cell_type": "code",
   "execution_count": 31,
   "metadata": {},
   "outputs": [],
   "source": [
    "# sightline='J0958+3224'\n",
    "# j0958_abs = np.array([0.0,0.5306,0.37084,0.36244, 0.35471, 0.13586, 0.13080, 0.07961, 0.27948, 0.26298, 0.23103])\n",
    "\n",
    "# plot_lines_stack(sightline=sightline, absorbers=j0958_abs)\n"
   ]
  },
  {
   "cell_type": "markdown",
   "metadata": {},
   "source": [
    "### J0959+3203\n",
    "\n",
    "<b> QSO z = 0.56462 </b> <br>\n",
    "<b> 85746 SAGA z = 0.0048377 </b> :center of H line 0.00507, SiV not convincing <br>\n",
    "\n",
    "  1. MW 0.0\n",
    "  2. QSO 0.56462\n",
    "  3. SAGA 0.0048377 \n",
    "  \n",
    "  Other absorbers:\n",
    "   - 0.29919\n",
    "    - 0.32053 ?\n",
    "   - 0.25209\n",
    "    - 0.05500\n"
   ]
  },
  {
   "cell_type": "code",
   "execution_count": 32,
   "metadata": {},
   "outputs": [],
   "source": [
    "# sightline='J0959+3203'\n",
    "# j0959_abs = np.array([0.0,0.56462, 0.29919, 0.32053, 0.25209, 0.05500])\n",
    "# plot_cont_fit(sightline, fit_order=7)"
   ]
  },
  {
   "cell_type": "code",
   "execution_count": 33,
   "metadata": {
    "scrolled": true
   },
   "outputs": [],
   "source": [
    "# j0959_abs = np.array([0.0,0.56462, 0.29919, 0.32053, 0.25209, 0.05500])\n",
    "# #plot_lines_vel_zoom(sightline='TON1129', vhost=sightlines_table['host velocity (helio)'][0], smoothing=5)\n",
    "# plot_lines_mark_abs(sightline='J0959+3203', vhost=sightlines_table['host velocity (helio)'][2], smoothing=5, absorbers=j0959_abs, hostid=85746)"
   ]
  },
  {
   "cell_type": "code",
   "execution_count": 34,
   "metadata": {},
   "outputs": [],
   "source": [
    "# sightline='J0959+3203'\n",
    "# j0959_abs = np.array([0.0,0.56462, 0.29919, 0.32053, 0.25209, 0.05500])\n",
    "# plot_b_vel(sightline=sightline, absorbers=j0959_abs, N=2, maj_ax=True, ellipse=(1.86/60*10,0.67/60.*10,105 ))"
   ]
  },
  {
   "cell_type": "code",
   "execution_count": 35,
   "metadata": {},
   "outputs": [],
   "source": [
    "# sightline='J0959+3203'\n",
    "# j0959_abs = np.array([0.0,0.56462, 0.29919, 0.32053, 0.25209, 0.05500])\n",
    "# plot_lines_stack(sightline=sightline, absorbers=j0959_abs)"
   ]
  },
  {
   "cell_type": "markdown",
   "metadata": {},
   "source": [
    "### J1202-0129 ?\n",
    "<b> QSO z=0.15069 </b> strong intrinsic aborption from HI +emission <br>\n",
    "<b> 140594 SAGA 0.004883 </b>- velocity correciton for HI z = 0.00496, potentially very faint Si IV , HI low N <br>\n",
    "   \n",
    "   - low -z QSO I cannot identify most of the lines\n",
    "\n",
    " 1. MW 0.0\n",
    " 2. QSO 0.15069 \n",
    " 3. SAGA 0.0048833\n",
    " \n",
    " \n",
    " Other absorbers:\n",
    "- 0.12698 ?\n",
    "       "
   ]
  },
  {
   "cell_type": "code",
   "execution_count": 36,
   "metadata": {},
   "outputs": [
    {
     "ename": "NameError",
     "evalue": "name 'plot_cont_fit' is not defined",
     "output_type": "error",
     "traceback": [
      "\u001b[0;31m---------------------------------------------------------------------------\u001b[0m",
      "\u001b[0;31mNameError\u001b[0m                                 Traceback (most recent call last)",
      "\u001b[0;32m<ipython-input-36-57d5c1cc8862>\u001b[0m in \u001b[0;36m<module>\u001b[0;34m\u001b[0m\n\u001b[1;32m      1\u001b[0m \u001b[0msightline\u001b[0m\u001b[0;34m=\u001b[0m\u001b[0;34m'J1202-0129'\u001b[0m\u001b[0;34m\u001b[0m\u001b[0;34m\u001b[0m\u001b[0m\n\u001b[1;32m      2\u001b[0m \u001b[0mj1202_abs\u001b[0m \u001b[0;34m=\u001b[0m \u001b[0mnp\u001b[0m\u001b[0;34m.\u001b[0m\u001b[0marray\u001b[0m\u001b[0;34m(\u001b[0m\u001b[0;34m[\u001b[0m\u001b[0;36m0.0\u001b[0m\u001b[0;34m,\u001b[0m\u001b[0;36m0.15069\u001b[0m\u001b[0;34m,\u001b[0m \u001b[0;36m0.12698\u001b[0m\u001b[0;34m]\u001b[0m\u001b[0;34m)\u001b[0m\u001b[0;34m\u001b[0m\u001b[0;34m\u001b[0m\u001b[0m\n\u001b[0;32m----> 3\u001b[0;31m \u001b[0mplot_cont_fit\u001b[0m\u001b[0;34m(\u001b[0m\u001b[0msightline\u001b[0m\u001b[0;34m,\u001b[0m \u001b[0mfit_order\u001b[0m\u001b[0;34m=\u001b[0m\u001b[0;36m10\u001b[0m\u001b[0;34m)\u001b[0m\u001b[0;34m\u001b[0m\u001b[0;34m\u001b[0m\u001b[0m\n\u001b[0m",
      "\u001b[0;31mNameError\u001b[0m: name 'plot_cont_fit' is not defined"
     ]
    }
   ],
   "source": [
    "sightline='J1202-0129'\n",
    "j1202_abs = np.array([0.0,0.15069, 0.12698])\n",
    "plot_cont_fit(sightline, fit_order=10)"
   ]
  },
  {
   "cell_type": "code",
   "execution_count": null,
   "metadata": {
    "scrolled": true
   },
   "outputs": [],
   "source": [
    "# j1202_abs = np.array([0.0,0.15069, 0.12698])\n",
    "# #plot_lines_vel_zoom(sightline='TON1129', vhost=sightlines_table['host velocity (helio)'][0], smoothing=5)\n",
    "# plot_lines_mark_abs(sightline='J1202-0129', vhost=sightlines_table['host velocity (helio)'][3], smoothing=5, absorbers=j1202_abs, hostid=140594)"
   ]
  },
  {
   "cell_type": "code",
   "execution_count": null,
   "metadata": {},
   "outputs": [],
   "source": [
    "\n",
    "# plot_b_vel(sightline=sightline, absorbers=j1202_abs, maj_ax=True, ellipse=[2.18/6., 1.87/6., 40])\n"
   ]
  },
  {
   "cell_type": "code",
   "execution_count": null,
   "metadata": {},
   "outputs": [],
   "source": [
    "# plot_lines_stack(sightline=sightline, absorbers=j1202_abs)\n"
   ]
  },
  {
   "cell_type": "markdown",
   "metadata": {},
   "source": [
    "2 satellites"
   ]
  },
  {
   "cell_type": "markdown",
   "metadata": {},
   "source": [
    "### J1202+0225\n",
    "<b> QSO z = 0.27364 </b> <br>\n",
    "<b> 13927 SAGA z = 0.006537 </b> very faint HI: centered ont he HI z= 0.00662, a asymetric component redwise <br>\n",
    "   \n",
    " 1. MW 0.0 \n",
    " 2. QSO 0.27364\t\n",
    " 3. SAGA 0.006537\n",
    "    \n",
    " Other absorbers:\n",
    "  - 0.13945 ?\n",
    "  - 0.12705\n",
    "  - 0.02014\n",
    "  - 0.00417\n",
    "  "
   ]
  },
  {
   "cell_type": "markdown",
   "metadata": {},
   "source": [
    "no satellites"
   ]
  },
  {
   "cell_type": "code",
   "execution_count": null,
   "metadata": {},
   "outputs": [],
   "source": [
    "# sightline=\"J1202+0225\"\n",
    "# j120202_abs = np.array([0.0,0.27364, 0.13945, 0.12705, 0.02014,0.00417])\n",
    "# plot_cont_fit(sightline, fit_order=7)"
   ]
  },
  {
   "cell_type": "code",
   "execution_count": null,
   "metadata": {
    "scrolled": true
   },
   "outputs": [],
   "source": [
    "# j120202_abs = np.array([0.0,0.27364, 0.13945, 0.12705, 0.02014,0.00417])\n",
    "# #plot_lines_vel_zoom(sightline='TON1129', vhost=sightlines_table['host velocity (helio)'][0], smoothing=5)\n",
    "# sightline=\"J1202+0225\"\n",
    "# j120202_abs = np.array([0.0,0.27364, 0.13945, 0.12705, 0.02014,0.00417])plot_lines_mark_abs(sightline='J1202+0225', vhost=sightlines_table['host velocity (helio)'][4], smoothing=5, absorbers=j120202_abs, hostid=13927)"
   ]
  },
  {
   "cell_type": "code",
   "execution_count": null,
   "metadata": {
    "scrolled": true
   },
   "outputs": [],
   "source": [
    "# sightline=\"J1202+0225\"\n",
    "# j120202_abs = np.array([0.0,0.27364, 0.13945, 0.12705, 0.02014,0.00417])\n",
    "# plot_b_vel(sightline=sightline, absorbers=j120202_abs,maj_ax=True, ellipse=(1.05/6., 0.987/6., 170 ))"
   ]
  },
  {
   "cell_type": "code",
   "execution_count": null,
   "metadata": {},
   "outputs": [],
   "source": [
    "# plot_lines_stack(sightline=sightline, absorbers=j120202_abs)\n"
   ]
  },
  {
   "cell_type": "markdown",
   "metadata": {},
   "source": [
    "### J1423+5055 -  SBS1421+511\n",
    "<b> QSO z = 0.27622 </b> does this QSO has a in/out flow? all HI lines align bu a but shifted form centroid <br>\n",
    "<b> 144953 SAGA z = 0.00743 </b> very faint HI z= 0.00759 and potentially second component 0.00676 <br>\n",
    "\n",
    "1. MW 0.0\n",
    "2. QSO 0.27662\n",
    "3. SAGa 0.00743\n",
    "\n",
    "Other absorbers:\n",
    "- 0.17252\n",
    "- 0.13268\n",
    "- 0.06474\n"
   ]
  },
  {
   "cell_type": "code",
   "execution_count": null,
   "metadata": {},
   "outputs": [],
   "source": [
    "# sightline='SBS1421+511'\n",
    "# j1423_abs = np.array([0.0,0.27662, 0.17252, 0.13266, 0.06474])\n",
    "# plot_cont_fit(sightline, fit_order=10)"
   ]
  },
  {
   "cell_type": "code",
   "execution_count": null,
   "metadata": {
    "scrolled": true
   },
   "outputs": [],
   "source": [
    "\n",
    "# #plot_lines_vel_zoom(sightline='TON1129', vhost=sightlines_table['host velocity (helio)'][0], smoothing=5)\n",
    "# plot_lines_mark_abs(sightline='SBS1421+511', vhost=sightlines_table['host velocity (helio)'][5], smoothing=5, absorbers=j1423_abs, hostid=144953)\n"
   ]
  },
  {
   "cell_type": "code",
   "execution_count": null,
   "metadata": {},
   "outputs": [],
   "source": [
    "# sightline='SBS1421+511'\n",
    "# j1423_abs = np.array([0.0,0.27662, 0.17252, 0.13266, 0.06474])\n",
    "# plot_b_vel(sightline=sightline, absorbers=j1423_abs, maj_ax=True, ellipse=[1.05/6., 0.65/6., 170])"
   ]
  },
  {
   "cell_type": "code",
   "execution_count": null,
   "metadata": {},
   "outputs": [],
   "source": [
    "# plot_lines_stack(sightline=sightline, absorbers=j1423_abs)\n"
   ]
  },
  {
   "cell_type": "markdown",
   "metadata": {},
   "source": [
    "### J1429+0321\n",
    "\n",
    "<b> QSO z = 0.25344 </b> <br>\n",
    "<b> 165082 SAGA z = 0.00541 </b> <br>\n",
    "\n",
    "1. MW 0.0\n",
    "2. QSO 0.25344\t\n",
    "3. SAGA 0.00541\n",
    "\n",
    "Other absorbers:\n",
    "\n",
    "- 0.15505\n",
    "- 0.13825"
   ]
  },
  {
   "cell_type": "markdown",
   "metadata": {},
   "source": [
    "no satellites"
   ]
  },
  {
   "cell_type": "code",
   "execution_count": null,
   "metadata": {},
   "outputs": [],
   "source": [
    "# sightline='J1429+0321'\n",
    "# j1429_abs = np.array([0.0,0.25344, 0.15505, 0.13825])\n",
    "# plot_cont_fit(sightline, fit_order=7)"
   ]
  },
  {
   "cell_type": "code",
   "execution_count": null,
   "metadata": {
    "scrolled": true
   },
   "outputs": [],
   "source": [
    "# j1429_abs = np.array([0.0,0.25344, 0.15505, 0.13825])\n",
    "# #plot_lines_vel_zoom(sightline='TON1129', vhost=sightlines_table['host velocity (helio)'][0], smoothing=5)\n",
    "# plot_lines_mark_abs(sightline='J1429+0321', vhost=sightlines_table['host velocity (helio)'][6], smoothing=5, absorbers=j1429_abs, hostid=165082)\n"
   ]
  },
  {
   "cell_type": "code",
   "execution_count": null,
   "metadata": {},
   "outputs": [],
   "source": [
    "# sightline='J1429+0321'\n",
    "# j1429_abs = np.array([0.0,0.25344, 0.15505, 0.13825])\n",
    "# plot_b_vel(sightline=sightline, absorbers=j1429_abs, N=6, maj_ax=True, ellipse=(1.41/6., 1.297/6., 145))"
   ]
  },
  {
   "cell_type": "code",
   "execution_count": null,
   "metadata": {},
   "outputs": [],
   "source": [
    "# plot_lines_stack(sightline=sightline, absorbers=j1429_abs)\n"
   ]
  },
  {
   "cell_type": "markdown",
   "metadata": {},
   "source": [
    "### J1431+0301\n",
    "\n",
    "<b> QSO z = 0.34055</b> <br>\n",
    "<b>  165082 SAGA z = 0.00632797 </b> no HI <br>\n",
    "\n",
    "1. MW 0.0\n",
    "2. QSO 0.25344\n",
    "3. SAGA 0.0054067\n",
    "\n",
    "Other absorbers:\n",
    "- DLA at 0.00510 \n",
    "-  0.15320\n",
    "- 0.10339\n",
    "                       "
   ]
  },
  {
   "cell_type": "code",
   "execution_count": null,
   "metadata": {
    "scrolled": false
   },
   "outputs": [],
   "source": [
    "# sightline=\"J1431+0301\"\n",
    "# j1431_abs = np.array([0.0,0.25344, 0.00510, 0.15320, 0.10339])\n",
    "# #plot_lines_vel_zoom(sightline='TON1129', vhost=sightlines_table['host velocity (helio)'][0], smoothing=5)\n",
    "# plot_cont_fit(sightline, fit_order=0)"
   ]
  },
  {
   "cell_type": "code",
   "execution_count": null,
   "metadata": {},
   "outputs": [],
   "source": [
    "# plot_lines_mark_abs(sightline='J1431+0301', vhost=sightlines_table['host velocity (helio)'][7], smoothing=1, absorbers=j1431_abs, hostid=165082)\n"
   ]
  },
  {
   "cell_type": "code",
   "execution_count": null,
   "metadata": {
    "scrolled": false
   },
   "outputs": [],
   "source": [
    "# sightline=\"J1431+0301\"\n",
    "# j1431_abs = np.array([0.0,0.25344, 0.00510, 0.15320, 0.10339])\n",
    "# maj_ax=True\n",
    "# ellipse=(1.41/6., 1.297/6., 145)\n",
    "# sightlines_table.add_index('QSO')\n",
    "# k = sightlines_table.loc_indices[sightline]\n",
    "# vhost=sightlines_table['host velocity (helio)'][k]\n",
    "# zqso=sightlines_table['z QSO'][k]\n",
    "# hostid=sightlines_table['SAGA NSAID'][k]\n",
    "# host_dist=sightlines_table['Host distance [Mpc]'][k]\n",
    "# b_host=sightlines_table['impact parameter [kpc]'][k]\n",
    "\n",
    "# cos_saga_hosts.add_index('HOSTID')\n",
    "# m = cos_saga_hosts.loc_indices[hostid]\n",
    "# rahost,dechost=cos_saga_hosts['RA'][m], cos_saga_hosts['DEC'][m]\n",
    "# if cos_saga_hosts['No SATELLITES'][m] != 0:\n",
    "#     cos_saga_satellites.add_index('HOSTID')\n",
    "#     sat_n = cos_saga_satellites.loc_indices[hostid]\n",
    "\n",
    "# ## fid the id from satelites table\n",
    "\n",
    "\n",
    "# # For multi-sightline hosts, sightline no\n",
    "\n",
    "\n",
    "# # coords\n",
    "# qso_coord = SkyCoord(sightlines_table['RA QSO'][k]*u.deg, sightlines_table['DEC QSO'][k]*u.deg, distance=host_dist*u.Mpc)\n",
    "\n",
    "\n",
    "\n",
    "# #read the spectrum\n",
    "# file=directory+sightline+\"/Data/\"+sightline+\"_nbin3_coadd.fits\"\n",
    "# print(sightline)\n",
    "# hdul = fits.open(file)\n",
    "# #redshift\n",
    "# zhost=vhost/3.e5\n",
    "\n",
    "# wl = hdul['WAVELENGTH'].data\n",
    "# fx = hdul['FLUX'].data\n",
    "# fx_smooth = convolution.convolve(fx,convolution.Gaussian1DKernel(smoothing))\n",
    "# error=hdul['ERROR'].data\n",
    "\n",
    "# flux_cont =  fx_smooth#/out[0]\n",
    "# err_cont = error#/out[0]\n",
    "\n",
    "# # plot figure \n",
    "# velc='#a2798f'\n",
    "# fig=plt.figure(figsize=(22,6))\n",
    "# gs=fig.add_gridspec(2,7, wspace=0.3)\n",
    "\n",
    "# ax1=fig.add_subplot(gs[:2,:2])\n",
    "# ax2=fig.add_subplot(gs[:2,5:], )\n",
    "# ax3=fig.add_subplot(gs[:2,4], sharey=ax2)\n",
    "# ax4 = fig.add_subplot(gs[:2, 2:4])\n",
    "# ax1.set_xlim([-1,1])\n",
    "# ax1.set_ylim([-1,1])\n",
    "# ax1.set_xlabel(r\"$\\Delta$ RA [deg]\")\n",
    "# ax1.set_ylabel(r\"$\\Delta$ Dec [deg]\")\n",
    "\n",
    "# ax2.set_xlim([-10,350])\n",
    "# ax2.set_ylim([-500,500])\n",
    "\n",
    "# ax4.set_xlim([-10,350])\n",
    "# ax4.set_ylim([-500,500])\n",
    "\n",
    "# ax2.set_xlabel(\"QSO Impact Parameter [kpc]\")\n",
    "# ax2.set_ylabel(\"$\\Delta$ v [km/s]\")\n",
    "\n",
    "# ax4.set_xlabel(\"HOST Impact Parameter [kpc]\")\n",
    "\n",
    "# ax2.yaxis.tick_right()\n",
    "# ax2.yaxis.set_label_position(\"right\")\n",
    "# ax1.scatter(0,0,c='#992959', marker='s', s=150)\n",
    "# ax4.scatter(0,0,c='#992959', marker='s', s=150)\n",
    "# ax2.scatter(b_host,0,c='#992959', marker='s', s=150)\n",
    "# ax2.axhline(0, ls='--',c=velc)\n",
    "# ax3.axhline(0, ls='--',c=velc)\n",
    "# ax4.axhline(0, ls='--',c=velc)\n",
    "# ## choose the HI \n",
    "# line = 1215.6700\n",
    "# linename=\"HI 1215\"\n",
    "\n",
    "# vel = (wl0 - line)/line*3.e5\n",
    "# wmin,wmax=np.min(wl0[np.nonzero(wl0)]), np.max(wl0[np.nonzero(wl0)])\n",
    "\n",
    "# ax3.plot(convolution.convolve(flux_cont,convolution.Gaussian1DKernel(2)),vel,c='k', lw=2) #in host restframe\n",
    "# ax3.set_title(linename)\n",
    "\n",
    "# ax3.set_xlim(.5e-15,-1e-16) #TO DO make the zoom in local\n",
    "# ax3.axvline(1.0, ls='--', c='gray')\n",
    "\n",
    "# #plot satellites\n",
    "\n",
    "# Dras,DDecs,DVs,Bs, Bh=[],[],[],[], []\n",
    "# if cos_saga_hosts['No SATELLITES'][m] != 0:\n",
    "\n",
    "#     if np.size(sat_n)>1.:\n",
    "\n",
    "#         for n in sat_n:\n",
    "#             if cos_saga_satellites['HOSTID'][n] == hostid:\n",
    "#                 dras,ddecs = rahost-cos_saga_satellites['RA'][n],dechost-cos_saga_satellites['DEC'][n]\n",
    "#                 Dras,DDecs=np.append(Dras,dras),np.append(DDecs,ddecs)\n",
    "\n",
    "#                 dvs = (cos_saga_satellites['SPEC_Z'][n]*cnst.c - (vhost)*u.km/u.s).to(u.km/u.s)\n",
    "#                 ax2.axhline(dvs.value, ls='--',c=velc)\n",
    "#                 ax3.axhline(dvs.value, ls='--',c=velc)\n",
    "#                 ax4.axhline(dvs.value, ls='--',c=velc)\n",
    "#                 DVs=np.append(DVs,dvs.value)\n",
    "\n",
    "#                 #impact parameter to the qso\n",
    "#                 sat_coord = SkyCoord(cos_saga_satellites['RA'][n]*u.deg,cos_saga_satellites['DEC'][n]*u.deg,distance=host_dist*u.Mpc)\n",
    "#                 sep = qso_coord.separation_3d(sat_coord)\n",
    "#                 sep=sep.to(u.kpc)\n",
    "#                 bs=sep.value\n",
    "#                 #bs=cos_saga_satellites['RHOST_KPC'][n] \n",
    "#                 Bs = np.append(Bs,bs)\n",
    "#                 bh = cos_saga_satellites['RHOST_KPC'][n] \n",
    "#                 Bh = np.append(Bh,bh)\n",
    "#     else:\n",
    "#         dras,ddecs = rahost-cos_saga_satellites['RA'][sat_n],dechost-cos_saga_satellites['DEC'][sat_n]\n",
    "#         Dras,DDecs=np.append(Dras,dras),np.append(DDecs,ddecs)\n",
    "\n",
    "#         dvs = (cos_saga_satellites['SPEC_Z'][sat_n]*cnst.c - (vhost)*u.km/u.s).to(u.km/u.s)\n",
    "#         DVs=np.append(DVs,dvs.value)\n",
    "#         ax2.axhline(dvs.value, ls='--',c=velc)\n",
    "#         ax3.axhline(dvs.value, ls='--',c=velc)\n",
    "#         ax4.axhline(dvs.value, ls='--',c=velc)\n",
    "#         #impact parameter to the qso\n",
    "#         sat_coord = SkyCoord(cos_saga_satellites['RA'][sat_n]*u.deg,cos_saga_satellites['DEC'][sat_n]*u.deg,distance=host_dist*u.Mpc)\n",
    "#         sep = qso_coord.separation_3d(sat_coord)\n",
    "#         sep=sep.to(u.kpc)\n",
    "#         Bs=sep.value#cos_saga_satellites['RHOST_KPC'][n] \n",
    "#         Bh = cos_saga_satellites['RHOST_KPC'][sat_n] \n",
    "#        # Bs = np.append(Bs,bs)\n",
    "# print(Dras, DDecs)\n",
    "# ax1.scatter(Dras,DDecs,c='#ffb250', marker='o', s=150)     \n",
    "# ax2.scatter(Bs,DVs,c='#ffb250', marker='o', s=150)\n",
    "# ax4.scatter(Bh,DVs,c='#ffb250', marker='o', s=150)\n",
    "\n",
    "# for m in range(np.size(sightlines_table['SAGA NSAID'])):\n",
    "#     if sightlines_table['SAGA NSAID'][m]== hostid:\n",
    "#         draq,ddecq = rahost-sightlines_table['RA QSO'][m], dechost-sightlines_table['DEC QSO'][m]\n",
    "\n",
    "#         ax1.scatter(draq,ddecq,c='k', marker='*', s=200)\n",
    "#         print(m)\n",
    "#         if m ==N:\n",
    "#             ax1.scatter(draq,ddecq,c='r', marker='*', s=200)\n",
    "\n",
    "\n",
    "# line_list_dir='/Users/ahamanowicz/Documents/GitHub/rbcodes/IGM/lines/lls.lst'\n",
    "# line_list=np.loadtxt(line_list_dir, skiprows=1, dtype='str')\n",
    "\n",
    "# absorbers_line, abs_line_names=[],[]\n",
    "# wmin,wmax=np.min(wl0[np.nonzero(wl0)]), np.max(wl0[np.nonzero(wl0)])\n",
    "\n",
    "# for i in range(np.size(line_list.T[0])):\n",
    "#     line0 = float(line_list.T[0][i])\n",
    "\n",
    "#     for a in absorbers:\n",
    "\n",
    "#         line0 = line0*(1+a)/(1+zhost)\n",
    "#         if line0 <wmax and  line0> wmin:\n",
    "#             absorbers_line = np.append(absorbers_line,line0)\n",
    "\n",
    "\n",
    "# for a in absorbers_line:\n",
    "\n",
    "#     vel_abs = (a-line)/line*3e5\n",
    "\n",
    "#     ax3.axvline(vel_abs, color='gray', ls='--')\n",
    "\n",
    "\n",
    "# if maj_ax==True:\n",
    "\n",
    "\n",
    "#     ells=Ellipse(xy=(0,0), width=ellipse[0], height=ellipse[1], angle=ellipse[2]-90, ec='#992959', fc='None')\n",
    "#     ax1.add_artist(ells)\n",
    "\n",
    "\n",
    "\n",
    "\n",
    "# ax1.set_title(\"SAGA HOST \"+str(hostid))\n",
    "# ax2.set_title(\"SIGHTLINE \"+sightline)\n",
    "# fig.savefig(sightline+\"_b_vel.png\")"
   ]
  },
  {
   "cell_type": "code",
   "execution_count": null,
   "metadata": {},
   "outputs": [],
   "source": [
    "# sightline=\"J1431+0301\"\n",
    "# j1431_abs = np.array([0.0,0.25344, 0.00510, 0.15320, 0.10339])\n",
    "# plot_b_vel(sightline=sightline, absorbers=j1431_abs, N=7,  maj_ax=True, ellipse=(1.41/6., 1.297/6., 145))"
   ]
  },
  {
   "cell_type": "code",
   "execution_count": null,
   "metadata": {},
   "outputs": [],
   "source": [
    "# sightline=\"J1431+0301\"\n",
    "# j1431_abs = np.array([0.0,0.25344, 0.00510, 0.15320, 0.10339])\n",
    "# plot_lines_stack(sightline=sightline, absorbers=j1431_abs)\n"
   ]
  },
  {
   "cell_type": "markdown",
   "metadata": {},
   "source": [
    "### J1451+5914\n",
    "<b> QSO z = 0.29668\t</b> <br>\n",
    "<b> 165707 SAGA z =0.00714203 </b>  <br>\n",
    "\n",
    "\n",
    "1. MW 0.0 \n",
    "2. QSO 0.29668\n",
    "3. SAGA 0.00714203\n",
    "\n",
    "Other absorbers: \n",
    "\n",
    "- 0.29553\n",
    "- 0.18990 or 0.00397   "
   ]
  },
  {
   "cell_type": "code",
   "execution_count": null,
   "metadata": {},
   "outputs": [],
   "source": [
    "sightline='J1451+5914'\n",
    "j1451_abs = np.array([0.0,0.29668, 0.29553, 0.18990, 0.00397])"
   ]
  },
  {
   "cell_type": "code",
   "execution_count": null,
   "metadata": {},
   "outputs": [],
   "source": [
    "# j1451_abs = np.array([0.0,0.29668, 0.29553, 0.18990, 0.00397])\n",
    "# #plot_lines_vel_zoom(sightline='TON1129', vhost=sightlines_table['host velocity (helio)'][0], smoothing=5)\n",
    "# plot_lines_mark_abs(sightline='J1451+5914', vhost=sightlines_table['host velocity (helio)'][8], smoothing=5, absorbers=j1451_abs, hostid=165707)\n"
   ]
  },
  {
   "cell_type": "code",
   "execution_count": null,
   "metadata": {},
   "outputs": [],
   "source": [
    "# sightline='J1451+5914'\n",
    "# j1451_abs = np.array([0.0,0.29668, 0.29553, 0.18990, 0.00397])\n",
    "# plot_b_vel(sightline=sightline, absorbers=j1451_abs, maj_ax=True, ellipse=[0.85/3., 0.3/3., 145])"
   ]
  },
  {
   "cell_type": "code",
   "execution_count": null,
   "metadata": {},
   "outputs": [],
   "source": [
    "# plot_lines_stack(sightline=sightline, absorbers=j1451_abs)\n"
   ]
  },
  {
   "cell_type": "markdown",
   "metadata": {},
   "source": [
    "### J1700+2237\n",
    "<b> QSO z = 0.4451\t</b> <br>\n",
    "<b> 147606 SAGA z =0.0093 </b>  <br>\n",
    "\n",
    "\n",
    "1. MW 0.0 \n",
    "2. QSO 0.445132\n",
    "3. SAGA 0.0093\t\n",
    "\n",
    "Other absorbers: \n",
    "\n",
    "- 0.17251\n",
    "- 0.14077\n",
    "- 0.13469\n",
    "- 0.10866\n",
    "- 0.10711\n",
    "- 0.28430\n",
    "- 0.28289\n",
    "- 0.08080\n"
   ]
  },
  {
   "cell_type": "code",
   "execution_count": null,
   "metadata": {},
   "outputs": [],
   "source": [
    "sightline='J1700+2237'\n",
    "j1700_abs = np.array([0.0,0.445132, 0.17251, 0.14077, 0.13469, 0.10866, 0.10711, 0.28430, 0.28289, 0.08080])\n"
   ]
  },
  {
   "cell_type": "code",
   "execution_count": null,
   "metadata": {
    "scrolled": true
   },
   "outputs": [],
   "source": [
    "# #plot_lines_vel_zoom(sightline='TON1129', vhost=sightlines_table['host velocity (helio)'][0], smoothing=5)\n",
    "# plot_lines_mark_abs(sightline='J1700+2237', vhost=sightlines_table['host velocity (helio)'][9], smoothing=5, absorbers=j1700_abs, hostid=147606)\n"
   ]
  },
  {
   "cell_type": "code",
   "execution_count": null,
   "metadata": {},
   "outputs": [],
   "source": [
    "# sightline='J1700+2237'\n",
    "# j1700_abs = np.array([0.0,0.445132, 0.17251, 0.14077, 0.13469, 0.10866, 0.10711, 0.28430, 0.28289, 0.08080])\n",
    "\n",
    "# plot_b_vel(sightline=sightline, absorbers=j1700_abs, maj_ax=True, ellipse=([1.37/6.,0.77/6., 125] ))"
   ]
  },
  {
   "cell_type": "code",
   "execution_count": null,
   "metadata": {},
   "outputs": [],
   "source": [
    "# plot_lines_stack(sightline=sightline, absorbers=j1700_abs, )\n"
   ]
  },
  {
   "cell_type": "code",
   "execution_count": null,
   "metadata": {},
   "outputs": [],
   "source": []
  }
 ],
 "metadata": {
  "kernelspec": {
   "display_name": "Python 3",
   "language": "python",
   "name": "python3"
  },
  "language_info": {
   "codemirror_mode": {
    "name": "ipython",
    "version": 3
   },
   "file_extension": ".py",
   "mimetype": "text/x-python",
   "name": "python",
   "nbconvert_exporter": "python",
   "pygments_lexer": "ipython3",
   "version": "3.8.5"
  }
 },
 "nbformat": 4,
 "nbformat_minor": 4
}
