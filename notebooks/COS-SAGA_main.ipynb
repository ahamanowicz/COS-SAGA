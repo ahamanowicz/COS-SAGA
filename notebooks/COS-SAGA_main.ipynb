{
 "cells": [
  {
   "cell_type": "code",
   "execution_count": 1,
   "metadata": {},
   "outputs": [],
   "source": [
    "import numpy as np\n",
    "from astropy import units as u\n",
    "from astropy import constants as cnst\n",
    "from astropy.coordinates import *\n",
    "from astropy import table\n",
    "from astropy.visualization import hist as ahist\n",
    "from astropy.io import fits\n",
    "from astropy import convolution\n",
    "import os\n",
    "from astropy.table import QTable, Table\n",
    "from astropy import units as u\n",
    "from astropy.coordinates import SkyCoord\n",
    "#import spectro as spec\n",
    "#from IGM import rb_iter_contfit as r\n",
    "from astropy.cosmology import Planck13 as cosmo\n",
    "from matplotlib.patches import Ellipse\n",
    "\n",
    "import pickle\n",
    "#import CosSaga as cs"
   ]
  },
  {
   "cell_type": "code",
   "execution_count": 2,
   "metadata": {},
   "outputs": [],
   "source": [
    "%matplotlib inline\n",
    "from matplotlib import pyplot as plt\n",
    "from matplotlib import rcParams, rc\n",
    "from matplotlib.ticker import MaxNLocator\n",
    "\n",
    "rc ('xtick',labelsize=13)\n",
    "rc ('ytick',labelsize=13)\n",
    "rc('font',family='serif', size=18)\n",
    "rcParams['axes.linewidth'] = 1.5\n",
    "rcParams['image.interpolation'] = 'none'\n",
    "rcParams['figure.figsize'] = (24, 36)\n"
   ]
  },
  {
   "cell_type": "code",
   "execution_count": 3,
   "metadata": {},
   "outputs": [],
   "source": [
    "red='#c9002f'"
   ]
  },
  {
   "cell_type": "code",
   "execution_count": 11,
   "metadata": {},
   "outputs": [],
   "source": [
    "os.remove(saga.database[\"host_stats\"].local.path)\n",
    "saga.database[\"host_stats\"].clear_cache()"
   ]
  },
  {
   "cell_type": "code",
   "execution_count": 12,
   "metadata": {},
   "outputs": [
    {
     "name": "stdout",
     "output_type": "stream",
     "text": [
      "0.49.10\n",
      "SAGA `shared_dir` set to /Users/ahamanowicz/Desktop/COS-SAGA/notebooks\n",
      "SAGA `local_dir`  set to /Users/ahamanowicz/Desktop/COS-SAGA/notebooks\n"
     ]
    },
    {
     "name": "stderr",
     "output_type": "stream",
     "text": [
      "WARNING:root:Cannot find local file; attempt to download from remote...\n"
     ]
    }
   ],
   "source": [
    "import SAGA\n",
    "print(SAGA.__version__)\n",
    "saga = SAGA.QuickStart(local_dir=\"/Users/ahamanowicz/Desktop/COS-SAGA/notebooks\")\n",
    "hosts = saga.host_catalog.load(include_stats=True)\n",
    "assert saga.good.count(hosts) == 134\n",
    "assert saga.paper3.count(hosts) == 100\n",
    "assert saga.paper3.filter(hosts, \"sats_total\").sum() == 351"
   ]
  },
  {
   "cell_type": "code",
   "execution_count": 15,
   "metadata": {},
   "outputs": [],
   "source": [
    "saga.database[\"combined_base\"].remote.path = \"https://rutgers.box.com/shared/static/0ql9oqqhzu2wt3gwiwn84etzrejobsms.fits\""
   ]
  },
  {
   "cell_type": "code",
   "execution_count": 16,
   "metadata": {
    "scrolled": false
   },
   "outputs": [
    {
     "name": "stderr",
     "output_type": "stream",
     "text": [
      "WARNING:root:Cannot find local file; attempt to download from remote...\n"
     ]
    }
   ],
   "source": [
    "paper3_hosts = saga.host_catalog.load(query=\"paper3\", include_stats=True)\n",
    "#base=saga.database[\"combined_base\"].download(overwrite=True)\n",
    "base = saga.object_catalog.load_combined_base_catalog()\n",
    "# base = saga.host_catalog.construct_host_query(\"paper3\").filter(base)"
   ]
  },
  {
   "cell_type": "code",
   "execution_count": 17,
   "metadata": {},
   "outputs": [],
   "source": [
    "from SAGA import ObjectCuts as C\n",
    "hosts = saga.host_catalog.load(query=\"paper3\",include_stats=True)\n",
    "base = saga.object_catalog.load_combined_base_catalog()\n",
    "base = saga.host_catalog.construct_host_query(\"paper3\").filter(base)\n",
    "sats = C.is_sat.filter(base)"
   ]
  },
  {
   "cell_type": "code",
   "execution_count": 39,
   "metadata": {},
   "outputs": [
    {
     "data": {
      "text/html": [
       "<i>Table length=10</i>\n",
       "<table id=\"table140545854455472-392333\" class=\"table-striped table-bordered table-condensed\">\n",
       "<thead><tr><th>idx</th><th>sightline</th><th>QSO_name</th><th>NAID</th><th>host_helio_vel</th><th>host_z</th><th>b_host</th><th>host distance</th><th>RA QSO</th><th>DEC QSO</th></tr></thead>\n",
       "<tr><td>0</td><td>TON1129</td><td>TON1129</td><td>85746</td><td>1457.0</td><td>0.00486</td><td>209.222285927</td><td>25.004747</td><td>149.0967254638672</td><td>32.60601806640625</td></tr>\n",
       "<tr><td>1</td><td>J0958+3224</td><td>FBQSJ095820.9+322402</td><td>85746</td><td>1457.0</td><td>0.00486</td><td>13.4803426516</td><td>25.004747</td><td>149.58726501464844</td><td>32.4006233215332</td></tr>\n",
       "<tr><td>2</td><td>J0959+3203</td><td>SDSSJ095914.85+320357.2</td><td>85746</td><td>1457.0</td><td>0.00486</td><td>157.119171001</td><td>25.004747</td><td>149.81187438964844</td><td>32.06591033935547</td></tr>\n",
       "<tr><td>3</td><td>J1202-0129</td><td>2MASXJ12022678-0129155</td><td>140594</td><td>1461.8</td><td>0.00487</td><td>260.98587288</td><td>23.120869</td><td>180.6114959716797</td><td>-1.487576961517334</td></tr>\n",
       "<tr><td>4</td><td>J1202+0225</td><td>SDSSJ120233.08+022559.7</td><td>13927</td><td>1967.7</td><td>0.00656</td><td>235.973508037</td><td>0.0</td><td>180.6378631591797</td><td>2.4332659244537354</td></tr>\n",
       "<tr><td>5</td><td>SBS1421+511</td><td>SBS1421+511</td><td>144953</td><td>2221.0</td><td>0.0074</td><td>268.169740606</td><td>34.035793</td><td>215.80909729003906</td><td>50.927024841308594</td></tr>\n",
       "<tr><td>6</td><td>J1429+0321</td><td>SDSSJ142940.73+032125.8</td><td>165082</td><td>1657.4</td><td>0.00552</td><td>53.8712889489</td><td>24.785791</td><td>217.41976928710938</td><td>3.3571879863739014</td></tr>\n",
       "<tr><td>7</td><td>J1431+0301</td><td>SDSSJ143145.99+030143.8</td><td>165082</td><td>1657.4</td><td>0.00552</td><td>244.117128625</td><td>24.785791</td><td>217.94163513183594</td><td>3.028848886489868</td></tr>\n",
       "<tr><td>8</td><td>J1451+5914</td><td>2MASXJ14515156+5914001</td><td>165707</td><td>2148.21</td><td>0.00716</td><td>155.099676124</td><td>33.376366</td><td>222.96473693847656</td><td>59.23335647583008</td></tr>\n",
       "<tr><td>9</td><td>J1700+2237</td><td>UVQSJ170043.71+223700.2</td><td>147606</td><td>2795.2</td><td>0.00932</td><td>271.80888</td><td>39.315384</td><td>255.182125</td><td>22.616722222222222</td></tr>\n",
       "</table><style>table.dataTable {clear: both; width: auto !important; margin: 0 !important;}\n",
       ".dataTables_info, .dataTables_length, .dataTables_filter, .dataTables_paginate{\n",
       "display: inline-block; margin-right: 1em; }\n",
       ".paginate_button { margin-right: 5px; }\n",
       "</style>\n",
       "<script>\n",
       "\n",
       "var astropy_sort_num = function(a, b) {\n",
       "    var a_num = parseFloat(a);\n",
       "    var b_num = parseFloat(b);\n",
       "\n",
       "    if (isNaN(a_num) && isNaN(b_num))\n",
       "        return ((a < b) ? -1 : ((a > b) ? 1 : 0));\n",
       "    else if (!isNaN(a_num) && !isNaN(b_num))\n",
       "        return ((a_num < b_num) ? -1 : ((a_num > b_num) ? 1 : 0));\n",
       "    else\n",
       "        return isNaN(a_num) ? -1 : 1;\n",
       "}\n",
       "\n",
       "require.config({paths: {\n",
       "    datatables: 'https://cdn.datatables.net/1.10.12/js/jquery.dataTables.min'\n",
       "}});\n",
       "require([\"datatables\"], function(){\n",
       "    console.log(\"$('#table140545854455472-392333').dataTable()\");\n",
       "    \n",
       "jQuery.extend( jQuery.fn.dataTableExt.oSort, {\n",
       "    \"optionalnum-asc\": astropy_sort_num,\n",
       "    \"optionalnum-desc\": function (a,b) { return -astropy_sort_num(a, b); }\n",
       "});\n",
       "\n",
       "    $('#table140545854455472-392333').dataTable({\n",
       "        order: [],\n",
       "        pageLength: 50,\n",
       "        lengthMenu: [[10, 25, 50, 100, 500, 1000, -1], [10, 25, 50, 100, 500, 1000, 'All']],\n",
       "        pagingType: \"full_numbers\",\n",
       "        columnDefs: [{targets: [0, 3, 4, 5, 6, 7, 8, 9], type: \"optionalnum\"}]\n",
       "    });\n",
       "});\n",
       "</script>\n"
      ],
      "text/plain": [
       "<IPython.core.display.HTML object>"
      ]
     },
     "execution_count": 39,
     "metadata": {},
     "output_type": "execute_result"
    }
   ],
   "source": [
    "LP=range(1,11)\n",
    "qso_list=['TON1129','J0958+3224','J0959+3203','J1202-0129','J1202+0225','SBS1421+511','J1429+0321','J1431+0301','J1451+5914', 'J1700+2237']\n",
    "orig_name=['TON1129','FBQSJ095820.9+322402','SDSSJ095914.85+320357.2','2MASXJ12022678-0129155','SDSSJ120233.08+022559.7','SBS1421+511','SDSSJ142940.73+032125.8','SDSSJ143145.99+030143.8','2MASXJ14515156+5914001','UVQSJ170043.71+223700.2']\n",
    "host_haloid = [85746,85746,85746,140594,13927,144953,165082,165082,165707,147606]\n",
    "hostID=['nsa85746', 'nsa85746','nsa85746','nsa140594','nsa13927','nsa144953', 'nsa165082','nsa165153','nsa165707','nsa147606']\n",
    "z_qso=np.array([0.52611, 0.53060,0.56462,0.15069,0.27364,0.27622,0.25344,0.34055,0.29668,0.445132])\n",
    "host_helio_vel=[1457.0,1457.0,1457.0, 1461.8, 1967.7,2221. ,1657.4,1657.4,2148.21,2795.2 ]\n",
    "impact_param_host=[209.222285927, 13.4803426516, 157.119171001, 260.98587288, 235.973508037, 268.169740606,53.8712889489,244.117128625,155.099676124,271.80888]\n",
    "raqso=[149.0967254638672, 149.58726501464844, 149.81187438964844, 180.6114959716797,180.6378631591797, 215.80909729003906, 217.41976928710938, 217.94163513183594,222.96473693847656,255.182125]\n",
    "decqso=[32.60601806640625, 32.4006233215332, 32.06591033935547,-1.487576961517334,2.4332659244537354, 50.927024841308594, 3.3571879863739014, 3.028848886489868, 59.23335647583008, 22.616722222222222]\n",
    "redshift = np.round(np.array(host_helio_vel)/3.e5, 5)\n",
    "host_distance=[25.004747,25.004747,25.004747,23.120869, 0,34.035793,24.785791,24.785791, 33.376366,39.315384 ]\n",
    "\n",
    "sightlines_table=Table([qso_list, orig_name, host_haloid,host_helio_vel, redshift, impact_param_host, host_distance, raqso,decqso], names=(\"sightline\", \"QSO_name\", \"NAID\", \"host_helio_vel\", \"host_z\", \"b_host\", \"host distance\", \"RA QSO\", \"DEC QSO\"))\n",
    "sightlines_table.show_in_notebook()\n",
    "\n",
    "\n"
   ]
  },
  {
   "cell_type": "code",
   "execution_count": null,
   "metadata": {},
   "outputs": [],
   "source": []
  },
  {
   "cell_type": "code",
   "execution_count": 19,
   "metadata": {},
   "outputs": [
    {
     "name": "stdout",
     "output_type": "stream",
     "text": [
      " Lp   Species   Wavelength\n",
      "--- ----------- ----------\n",
      "  1    N I 1134    1134.66\n",
      "  2  Fe II 1144  1144.9379\n",
      "  3  Si II 1190   1190.203\n",
      "  4  S III 1190  1190.4158\n",
      "  5  Si II 1193  1193.2897\n",
      "  6    N I 1200    1200.66\n",
      "  7 Si III 1206     1206.5\n",
      "  8     HI 1215    1215.67\n",
      "  9     NV 1238   1238.821\n",
      " 10     NV 1242   1242.804\n",
      " 11   S II 1250   1250.578\n",
      " 12   S II 1253   1253.805\n",
      " 13   S II 1258   1259.518\n",
      " 14  Si II 1260  1260.4221\n",
      " 15     OI 1302  1302.1685\n",
      " 16  Si II 1304  1304.3702\n",
      " 17    CII 1334  1334.5323\n",
      " 18  Si IV 1393  1393.7602\n",
      " 19  Si IV 1402   1402.729\n",
      " 20  Si II 1526   1526.707\n"
     ]
    },
    {
     "ename": "OSError",
     "evalue": "/Users/ahamanowicz/Documents/GitHub/rbcodes/IGM/lines/lls.lst not found.",
     "output_type": "error",
     "traceback": [
      "\u001b[0;31m---------------------------------------------------------------------------\u001b[0m",
      "\u001b[0;31mOSError\u001b[0m                                   Traceback (most recent call last)",
      "\u001b[0;32m<ipython-input-19-42bef858d6db>\u001b[0m in \u001b[0;36m<module>\u001b[0;34m\u001b[0m\n\u001b[1;32m     14\u001b[0m \u001b[0;31m# line list from Rongmon\u001b[0m\u001b[0;34m\u001b[0m\u001b[0;34m\u001b[0m\u001b[0;34m\u001b[0m\u001b[0m\n\u001b[1;32m     15\u001b[0m \u001b[0mline_list_dir\u001b[0m\u001b[0;34m=\u001b[0m\u001b[0;34m'/Users/ahamanowicz/Documents/GitHub/rbcodes/IGM/lines/lls.lst'\u001b[0m\u001b[0;34m\u001b[0m\u001b[0;34m\u001b[0m\u001b[0m\n\u001b[0;32m---> 16\u001b[0;31m \u001b[0mline_list\u001b[0m\u001b[0;34m=\u001b[0m\u001b[0mnp\u001b[0m\u001b[0;34m.\u001b[0m\u001b[0mloadtxt\u001b[0m\u001b[0;34m(\u001b[0m\u001b[0mline_list_dir\u001b[0m\u001b[0;34m,\u001b[0m \u001b[0mskiprows\u001b[0m\u001b[0;34m=\u001b[0m\u001b[0;36m1\u001b[0m\u001b[0;34m,\u001b[0m \u001b[0mdtype\u001b[0m\u001b[0;34m=\u001b[0m\u001b[0;34m'str'\u001b[0m\u001b[0;34m)\u001b[0m\u001b[0;34m\u001b[0m\u001b[0;34m\u001b[0m\u001b[0m\n\u001b[0m",
      "\u001b[0;32m~/opt/anaconda3/envs/astro/lib/python3.8/site-packages/numpy/lib/npyio.py\u001b[0m in \u001b[0;36mloadtxt\u001b[0;34m(fname, dtype, comments, delimiter, converters, skiprows, usecols, unpack, ndmin, encoding, max_rows)\u001b[0m\n\u001b[1;32m    959\u001b[0m             \u001b[0mfname\u001b[0m \u001b[0;34m=\u001b[0m \u001b[0mos_fspath\u001b[0m\u001b[0;34m(\u001b[0m\u001b[0mfname\u001b[0m\u001b[0;34m)\u001b[0m\u001b[0;34m\u001b[0m\u001b[0;34m\u001b[0m\u001b[0m\n\u001b[1;32m    960\u001b[0m         \u001b[0;32mif\u001b[0m \u001b[0m_is_string_like\u001b[0m\u001b[0;34m(\u001b[0m\u001b[0mfname\u001b[0m\u001b[0;34m)\u001b[0m\u001b[0;34m:\u001b[0m\u001b[0;34m\u001b[0m\u001b[0;34m\u001b[0m\u001b[0m\n\u001b[0;32m--> 961\u001b[0;31m             \u001b[0mfh\u001b[0m \u001b[0;34m=\u001b[0m \u001b[0mnp\u001b[0m\u001b[0;34m.\u001b[0m\u001b[0mlib\u001b[0m\u001b[0;34m.\u001b[0m\u001b[0m_datasource\u001b[0m\u001b[0;34m.\u001b[0m\u001b[0mopen\u001b[0m\u001b[0;34m(\u001b[0m\u001b[0mfname\u001b[0m\u001b[0;34m,\u001b[0m \u001b[0;34m'rt'\u001b[0m\u001b[0;34m,\u001b[0m \u001b[0mencoding\u001b[0m\u001b[0;34m=\u001b[0m\u001b[0mencoding\u001b[0m\u001b[0;34m)\u001b[0m\u001b[0;34m\u001b[0m\u001b[0;34m\u001b[0m\u001b[0m\n\u001b[0m\u001b[1;32m    962\u001b[0m             \u001b[0mfencoding\u001b[0m \u001b[0;34m=\u001b[0m \u001b[0mgetattr\u001b[0m\u001b[0;34m(\u001b[0m\u001b[0mfh\u001b[0m\u001b[0;34m,\u001b[0m \u001b[0;34m'encoding'\u001b[0m\u001b[0;34m,\u001b[0m \u001b[0;34m'latin1'\u001b[0m\u001b[0;34m)\u001b[0m\u001b[0;34m\u001b[0m\u001b[0;34m\u001b[0m\u001b[0m\n\u001b[1;32m    963\u001b[0m             \u001b[0mfh\u001b[0m \u001b[0;34m=\u001b[0m \u001b[0miter\u001b[0m\u001b[0;34m(\u001b[0m\u001b[0mfh\u001b[0m\u001b[0;34m)\u001b[0m\u001b[0;34m\u001b[0m\u001b[0;34m\u001b[0m\u001b[0m\n",
      "\u001b[0;32m~/opt/anaconda3/envs/astro/lib/python3.8/site-packages/numpy/lib/_datasource.py\u001b[0m in \u001b[0;36mopen\u001b[0;34m(path, mode, destpath, encoding, newline)\u001b[0m\n\u001b[1;32m    193\u001b[0m \u001b[0;34m\u001b[0m\u001b[0m\n\u001b[1;32m    194\u001b[0m     \u001b[0mds\u001b[0m \u001b[0;34m=\u001b[0m \u001b[0mDataSource\u001b[0m\u001b[0;34m(\u001b[0m\u001b[0mdestpath\u001b[0m\u001b[0;34m)\u001b[0m\u001b[0;34m\u001b[0m\u001b[0;34m\u001b[0m\u001b[0m\n\u001b[0;32m--> 195\u001b[0;31m     \u001b[0;32mreturn\u001b[0m \u001b[0mds\u001b[0m\u001b[0;34m.\u001b[0m\u001b[0mopen\u001b[0m\u001b[0;34m(\u001b[0m\u001b[0mpath\u001b[0m\u001b[0;34m,\u001b[0m \u001b[0mmode\u001b[0m\u001b[0;34m,\u001b[0m \u001b[0mencoding\u001b[0m\u001b[0;34m=\u001b[0m\u001b[0mencoding\u001b[0m\u001b[0;34m,\u001b[0m \u001b[0mnewline\u001b[0m\u001b[0;34m=\u001b[0m\u001b[0mnewline\u001b[0m\u001b[0;34m)\u001b[0m\u001b[0;34m\u001b[0m\u001b[0;34m\u001b[0m\u001b[0m\n\u001b[0m\u001b[1;32m    196\u001b[0m \u001b[0;34m\u001b[0m\u001b[0m\n\u001b[1;32m    197\u001b[0m \u001b[0;34m\u001b[0m\u001b[0m\n",
      "\u001b[0;32m~/opt/anaconda3/envs/astro/lib/python3.8/site-packages/numpy/lib/_datasource.py\u001b[0m in \u001b[0;36mopen\u001b[0;34m(self, path, mode, encoding, newline)\u001b[0m\n\u001b[1;32m    533\u001b[0m                                       encoding=encoding, newline=newline)\n\u001b[1;32m    534\u001b[0m         \u001b[0;32melse\u001b[0m\u001b[0;34m:\u001b[0m\u001b[0;34m\u001b[0m\u001b[0;34m\u001b[0m\u001b[0m\n\u001b[0;32m--> 535\u001b[0;31m             \u001b[0;32mraise\u001b[0m \u001b[0mIOError\u001b[0m\u001b[0;34m(\u001b[0m\u001b[0;34m\"%s not found.\"\u001b[0m \u001b[0;34m%\u001b[0m \u001b[0mpath\u001b[0m\u001b[0;34m)\u001b[0m\u001b[0;34m\u001b[0m\u001b[0;34m\u001b[0m\u001b[0m\n\u001b[0m\u001b[1;32m    536\u001b[0m \u001b[0;34m\u001b[0m\u001b[0m\n\u001b[1;32m    537\u001b[0m \u001b[0;34m\u001b[0m\u001b[0m\n",
      "\u001b[0;31mOSError\u001b[0m: /Users/ahamanowicz/Documents/GitHub/rbcodes/IGM/lines/lls.lst not found."
     ]
    }
   ],
   "source": [
    "#Metal absorption lines + Ly alpha selection from Leehnrer+18 for the COS wavelength range\n",
    "\n",
    "lines = ['N I 1134','Fe II 1144','Si II 1190','S III 1190', 'Si II 1193','N I 1200','Si III 1206', 'HI 1215',  'NV 1238', 'NV 1242','S II 1250', 'S II 1253','S II 1258','Si II 1260',\n",
    "         'OI 1302',  'Si II 1304','CII 1334',    'Si IV 1393',\n",
    "         'Si IV 1402',\n",
    "         'Si II 1526']\n",
    "lines_wav =[1215.6700,1302.1685, 1334.5323,1200.66, 1134.66, 1238.8210,1242.8040, 1260.4221, 1193.2897, 1190.4158, 1526.7070, 1304.3702, 1206.5000, 1393.7602, 1402.729, 1144.9379, 1259.5180, 1253.8050, 1250.5780,1190.2030 ] \n",
    "lines_wav = sorted(lines_wav)\n",
    "#osc_strength=[2.70, 1.80, 2.23, 2.20,2.02,1.71, 1.67, 1.51, 1.22, 2.29, 1.98, 3.17, 2.84, 2.54, 2.31, 2.05, 3.29, 2.85, 2.55, 1.98, 1.79, 1.32, 1.14, 0.83, 1.45]\n",
    "lp=range(1,np.size(lines)+1)\n",
    "lines_table=Table([lp,lines,lines_wav], names=(\"Lp\",\"Species\", 'Wavelength'))\n",
    "lines_table.pprint_all()\n",
    "\n",
    "# line list from Rongmon\n",
    "line_list_dir='/Users/ahamanowicz/Documents/GitHub/rbcodes/IGM/lines/lls.lst'\n",
    "line_list=np.loadtxt(line_list_dir, skiprows=1, dtype='str')\n"
   ]
  },
  {
   "cell_type": "raw",
   "metadata": {},
   "source": [
    "# rebin the archival sightlines - use rb_specbin.py on J0959 HJ1423 J1429 and J1431 (outside) - complete"
   ]
  },
  {
   "cell_type": "markdown",
   "metadata": {},
   "source": [
    "## SAGA hosts and satellites information\n"
   ]
  },
  {
   "cell_type": "code",
   "execution_count": 20,
   "metadata": {},
   "outputs": [
    {
     "name": "stdout",
     "output_type": "stream",
     "text": [
      "HOSTID      RA        DEC     V_HELIO    M_HALO  \n",
      "------ ----------- ---------- ------- -----------\n",
      " 13927  180.676083  1.9768187  1967.7 11.89814145\n",
      "144953  215.578497 50.5013706  2221.0 11.95814145\n",
      "147606 255.2096895 23.0110376  2795.2 12.30314145\n",
      "165707 222.8243715 58.9780613  2148.2 11.89114145\n",
      " 85746 149.5878735 32.3698905  1457.0 11.82314145\n"
     ]
    }
   ],
   "source": [
    "## HOSTS\n",
    "N=np.size(hosts['NSAID'])\n",
    "\n",
    "cos_saga_hosts = Table(names=('HOSTID', 'RA', 'DEC', 'V_HELIO', 'M_HALO'), dtype=('int', 'float','float','float','float'))\n",
    "\n",
    "#print(hosts.colnames)\n",
    "for n in range(N):\n",
    "    for hostid in sightlines_table['NAID']:\n",
    "        if hosts['NSAID'][n] == hostid:\n",
    "            if hostid not in cos_saga_hosts['HOSTID']:\n",
    "            # print(hostid, hosts['RA'][n],hosts['DEC'][n], hosts['V_HELIO'][n], hosts['M_HALO'][n])\n",
    "                cos_saga_hosts.add_row([int(hostid), hosts['RA'][n],hosts['DEC'][n], hosts['V_HELIO'][n], hosts['M_HALO'][n]])\n",
    "print(cos_saga_hosts)\n",
    "\n"
   ]
  },
  {
   "cell_type": "markdown",
   "metadata": {},
   "source": [
    "Multiple sightlines hosts - 85746"
   ]
  },
  {
   "cell_type": "code",
   "execution_count": 23,
   "metadata": {},
   "outputs": [
    {
     "data": {
      "text/html": [
       "<i>Table length=19</i>\n",
       "<table id=\"table140544215687712-280599\" class=\"table-striped table-bordered table-condensed\">\n",
       "<thead><tr><th>idx</th><th>HOSTID</th><th>SATELLITE_ID</th><th>RA</th><th>DEC</th><th>RHOST_KPC</th><th>log_sm</th><th>SPEC_Z</th></tr></thead>\n",
       "<tr><td>0</td><td>85746</td><td>915085400000001653</td><td>149.6921195816266</td><td>32.51841252708709</td><td>75.33600616455078</td><td>7.166198253631592</td><td>0.005080000031739473</td></tr>\n",
       "<tr><td>1</td><td>85746</td><td>915097560000002725</td><td>149.68687832465787</td><td>32.72046739539259</td><td>157.27423095703125</td><td>6.135589122772217</td><td>0.004974124487489462</td></tr>\n",
       "<tr><td>2</td><td>144953</td><td>915862900000003385</td><td>214.80306923758172</td><td>50.44050872162123</td><td>295.398193359375</td><td>7.812071800231934</td><td>0.00740943755954504</td></tr>\n",
       "<tr><td>3</td><td>144953</td><td>915872090000000629</td><td>215.53395728713457</td><td>50.667433999251614</td><td>100.06915283203125</td><td>7.431448459625244</td><td>0.0068074376322329044</td></tr>\n",
       "<tr><td>4</td><td>144953</td><td>915862920000001853</td><td>215.404884442816</td><td>50.39035801023963</td><td>93.07128143310547</td><td>9.48198127746582</td><td>0.007659437600523233</td></tr>\n",
       "<tr><td>5</td><td>144953</td><td>915862920000002183</td><td>215.44067503687813</td><td>50.50612105331628</td><td>52.14949417114258</td><td>7.878696441650391</td><td>0.007188437506556511</td></tr>\n",
       "<tr><td>6</td><td>144953</td><td>915862920000002331</td><td>215.4596309886031</td><td>50.38831400380696</td><td>80.82431030273438</td><td>8.161741256713867</td><td>0.007973437197506428</td></tr>\n",
       "<tr><td>7</td><td>165707</td><td>916146430000003443</td><td>222.89972359625614</td><td>58.95382305744899</td><td>26.67364501953125</td><td>9.058682441711426</td><td>0.007365957368165255</td></tr>\n",
       "<tr><td>8</td><td>165707</td><td>916138950000002124</td><td>222.51855535164174</td><td>58.76841247479345</td><td>152.95635986328125</td><td>6.507907390594482</td><td>0.007291794754564762</td></tr>\n",
       "<tr><td>9</td><td>165707</td><td>916153850000001950</td><td>222.5521956382773</td><td>59.15571738376734</td><td>131.72967529296875</td><td>7.293219566345215</td><td>0.007215000223368406</td></tr>\n",
       "<tr><td>10</td><td>147606</td><td>904591290000006111</td><td>254.9389743078113</td><td>22.667341140111425</td><td>291.4241638183594</td><td>6.944766044616699</td><td>0.009598311968147755</td></tr>\n",
       "<tr><td>11</td><td>147606</td><td>904604580000005001</td><td>255.0613051476967</td><td>23.10729177147443</td><td>114.62625122070312</td><td>9.2484130859375</td><td>0.009954633191227913</td></tr>\n",
       "<tr><td>12</td><td>147606</td><td>904617870000000640</td><td>255.50509645664158</td><td>23.16303034458012</td><td>213.65499877929688</td><td>8.244933128356934</td><td>0.010053633712232113</td></tr>\n",
       "<tr><td>13</td><td>147606</td><td>904617850000000806</td><td>254.96806219683316</td><td>23.280359510096332</td><td>239.57351684570312</td><td>7.364118576049805</td><td>0.009826311841607094</td></tr>\n",
       "<tr><td>14</td><td>147606</td><td>904591310000002644</td><td>255.35759294561785</td><td>22.872937088885923</td><td>133.0982208251953</td><td>7.265297889709473</td><td>0.009431633166968822</td></tr>\n",
       "<tr><td>15</td><td>147606</td><td>904591310000003018</td><td>255.37344215006036</td><td>22.73177974657971</td><td>217.80250549316406</td><td>7.967734336853027</td><td>0.009375633671879768</td></tr>\n",
       "<tr><td>16</td><td>147606</td><td>904591300000003643</td><td>255.1382326517459</td><td>22.866089426701414</td><td>109.23224639892578</td><td>7.778229713439941</td><td>0.008766633458435535</td></tr>\n",
       "<tr><td>17</td><td>147606</td><td>904604590000002080</td><td>255.1878228448299</td><td>23.044013412960577</td><td>26.508522033691406</td><td>9.403043746948242</td><td>0.009163632988929749</td></tr>\n",
       "<tr><td>18</td><td>147606</td><td>904604600000004729</td><td>255.57949188140304</td><td>23.076388407795307</td><td>237.77207946777344</td><td>8.453393936157227</td><td>0.009752633050084114</td></tr>\n",
       "</table><style>table.dataTable {clear: both; width: auto !important; margin: 0 !important;}\n",
       ".dataTables_info, .dataTables_length, .dataTables_filter, .dataTables_paginate{\n",
       "display: inline-block; margin-right: 1em; }\n",
       ".paginate_button { margin-right: 5px; }\n",
       "</style>\n",
       "<script>\n",
       "\n",
       "var astropy_sort_num = function(a, b) {\n",
       "    var a_num = parseFloat(a);\n",
       "    var b_num = parseFloat(b);\n",
       "\n",
       "    if (isNaN(a_num) && isNaN(b_num))\n",
       "        return ((a < b) ? -1 : ((a > b) ? 1 : 0));\n",
       "    else if (!isNaN(a_num) && !isNaN(b_num))\n",
       "        return ((a_num < b_num) ? -1 : ((a_num > b_num) ? 1 : 0));\n",
       "    else\n",
       "        return isNaN(a_num) ? -1 : 1;\n",
       "}\n",
       "\n",
       "require.config({paths: {\n",
       "    datatables: 'https://cdn.datatables.net/1.10.12/js/jquery.dataTables.min'\n",
       "}});\n",
       "require([\"datatables\"], function(){\n",
       "    console.log(\"$('#table140544215687712-280599').dataTable()\");\n",
       "    \n",
       "jQuery.extend( jQuery.fn.dataTableExt.oSort, {\n",
       "    \"optionalnum-asc\": astropy_sort_num,\n",
       "    \"optionalnum-desc\": function (a,b) { return -astropy_sort_num(a, b); }\n",
       "});\n",
       "\n",
       "    $('#table140544215687712-280599').dataTable({\n",
       "        order: [],\n",
       "        pageLength: 50,\n",
       "        lengthMenu: [[10, 25, 50, 100, 500, 1000, -1], [10, 25, 50, 100, 500, 1000, 'All']],\n",
       "        pagingType: \"full_numbers\",\n",
       "        columnDefs: [{targets: [0, 1, 2, 3, 4, 5, 6, 7], type: \"optionalnum\"}]\n",
       "    });\n",
       "});\n",
       "</script>\n"
      ],
      "text/plain": [
       "<IPython.core.display.HTML object>"
      ]
     },
     "execution_count": 23,
     "metadata": {},
     "output_type": "execute_result"
    }
   ],
   "source": [
    "## SATELLITES\n",
    "#print(sats.colnames)\n",
    "cos_saga_satellites = Table(names=('HOSTID', 'SATELLITE_ID','RA', 'DEC', 'RHOST_KPC', 'log_sm', 'SPEC_Z'), dtype=('int', 'int', 'float','float','float','float','float'))\n",
    "\n",
    "M = np.size(sats['OBJID'])\n",
    "for n in range(M):\n",
    "    for hostid in sightlines_table['NAID']:\n",
    "        if sats['HOST_NSAID'][n] == hostid:\n",
    "            if sats['OBJID'][n] not in cos_saga_satellites['SATELLITE_ID']:\n",
    "                #print(hostid, sats['OBJID'][n], sats['RA'][n], sats['DEC'][n], sats['RHOST_KPC'][n], sats['log_sm'][n], sats['SPEC_Z'][n])\n",
    "                cos_saga_satellites.add_row([hostid, sats['OBJID'][n], sats['RA'][n], sats['DEC'][n], sats['RHOST_KPC'][n], sats['log_sm'][n], sats['SPEC_Z'][n]])\n",
    "\n",
    "                \n",
    "             \n",
    "                \n",
    "                \n",
    "                \n",
    "cos_saga_satellites.show_in_notebook()\n"
   ]
  },
  {
   "cell_type": "code",
   "execution_count": 24,
   "metadata": {},
   "outputs": [],
   "source": [
    "cos_saga_satellites.add_row([165082, 681656, 217.67292879868697, 3.425723527320057,137.9065,8.860233342091073, 0.0059271315 ])   \n",
    "cos_saga_satellites.add_row([165082, 87370, 217.23277401294135, 3.8515685760734075, 279.18707, 8.005020194466411,0.005619451])\n",
    "cos_saga_satellites.add_row([165082, 74043, 217.33157059631858, 2.7105423683853176, 229.23521 , 8.334861935794631, 0.006001042] )  \n",
    "cos_saga_satellites.add_row([165082, 1237654879127601248, 217.6812817843503, 3.345383258372323, 123.48099, 7.8975840449981245, 0.0050901882])\n",
    "cos_saga_satellites.add_row([165082, 631861, 217.86348991150788, 3.0091635379966744, 215.19458, 9.63013231925916, 0.004853365])\n",
    "cos_saga_satellites.add_row([165082, 87294, 217.9707567106337, 3.3800403176706824, 246.88214, 7.383959234075788, 0.0051894514])\n",
    "cos_saga_satellites.add_row([165082, 87358, 217.5077014008536, 3.77290518411652, 236.57875,8.94070299945183, 0.0058014514])\n",
    "cos_saga_satellites.add_row([165082, 681515, 217.26621891520384, 3.1489905554887674, 75.15012,   8.948841647210525, 0.0061711045]  )                 \n",
    "cos_saga_satellites.add_row([165082, 87290, 217.81893353616692, 3.2567384880858876, 173.30058, 8.521095878865554,  0.005128451] )                          \n",
    "cos_saga_satellites.add_row([165082, 87352, 217.41257161258602, 3.266285795439988, 14.491487,9.78914648463536, 0.005505524])\n",
    "cos_saga_satellites.add_row([165082, 1237654879127535715, 217.5043704367497, 3.2208507301408034, 37.550877, 8.739737561710125, 0.0061642644])\n",
    "cos_saga_satellites.add_row([165082, 87346, 217.70061004360554, 3.796388769547217, 272.6854, 7.503755991290589, 0.005596543]   )                         \n",
    "                                              \n",
    "                             "
   ]
  },
  {
   "cell_type": "code",
   "execution_count": 25,
   "metadata": {},
   "outputs": [
    {
     "data": {
      "text/html": [
       "<i>Table length=31</i>\n",
       "<table id=\"table140544215687712-466803\" class=\"table-striped table-bordered table-condensed\">\n",
       "<thead><tr><th>idx</th><th>HOSTID</th><th>SATELLITE_ID</th><th>RA</th><th>DEC</th><th>RHOST_KPC</th><th>log_sm</th><th>SPEC_Z</th></tr></thead>\n",
       "<tr><td>0</td><td>85746</td><td>915085400000001653</td><td>149.6921195816266</td><td>32.51841252708709</td><td>75.33600616455078</td><td>7.166198253631592</td><td>0.005080000031739473</td></tr>\n",
       "<tr><td>1</td><td>85746</td><td>915097560000002725</td><td>149.68687832465787</td><td>32.72046739539259</td><td>157.27423095703125</td><td>6.135589122772217</td><td>0.004974124487489462</td></tr>\n",
       "<tr><td>2</td><td>144953</td><td>915862900000003385</td><td>214.80306923758172</td><td>50.44050872162123</td><td>295.398193359375</td><td>7.812071800231934</td><td>0.00740943755954504</td></tr>\n",
       "<tr><td>3</td><td>144953</td><td>915872090000000629</td><td>215.53395728713457</td><td>50.667433999251614</td><td>100.06915283203125</td><td>7.431448459625244</td><td>0.0068074376322329044</td></tr>\n",
       "<tr><td>4</td><td>144953</td><td>915862920000001853</td><td>215.404884442816</td><td>50.39035801023963</td><td>93.07128143310547</td><td>9.48198127746582</td><td>0.007659437600523233</td></tr>\n",
       "<tr><td>5</td><td>144953</td><td>915862920000002183</td><td>215.44067503687813</td><td>50.50612105331628</td><td>52.14949417114258</td><td>7.878696441650391</td><td>0.007188437506556511</td></tr>\n",
       "<tr><td>6</td><td>144953</td><td>915862920000002331</td><td>215.4596309886031</td><td>50.38831400380696</td><td>80.82431030273438</td><td>8.161741256713867</td><td>0.007973437197506428</td></tr>\n",
       "<tr><td>7</td><td>165707</td><td>916146430000003443</td><td>222.89972359625614</td><td>58.95382305744899</td><td>26.67364501953125</td><td>9.058682441711426</td><td>0.007365957368165255</td></tr>\n",
       "<tr><td>8</td><td>165707</td><td>916138950000002124</td><td>222.51855535164174</td><td>58.76841247479345</td><td>152.95635986328125</td><td>6.507907390594482</td><td>0.007291794754564762</td></tr>\n",
       "<tr><td>9</td><td>165707</td><td>916153850000001950</td><td>222.5521956382773</td><td>59.15571738376734</td><td>131.72967529296875</td><td>7.293219566345215</td><td>0.007215000223368406</td></tr>\n",
       "<tr><td>10</td><td>147606</td><td>904591290000006111</td><td>254.9389743078113</td><td>22.667341140111425</td><td>291.4241638183594</td><td>6.944766044616699</td><td>0.009598311968147755</td></tr>\n",
       "<tr><td>11</td><td>147606</td><td>904604580000005001</td><td>255.0613051476967</td><td>23.10729177147443</td><td>114.62625122070312</td><td>9.2484130859375</td><td>0.009954633191227913</td></tr>\n",
       "<tr><td>12</td><td>147606</td><td>904617870000000640</td><td>255.50509645664158</td><td>23.16303034458012</td><td>213.65499877929688</td><td>8.244933128356934</td><td>0.010053633712232113</td></tr>\n",
       "<tr><td>13</td><td>147606</td><td>904617850000000806</td><td>254.96806219683316</td><td>23.280359510096332</td><td>239.57351684570312</td><td>7.364118576049805</td><td>0.009826311841607094</td></tr>\n",
       "<tr><td>14</td><td>147606</td><td>904591310000002644</td><td>255.35759294561785</td><td>22.872937088885923</td><td>133.0982208251953</td><td>7.265297889709473</td><td>0.009431633166968822</td></tr>\n",
       "<tr><td>15</td><td>147606</td><td>904591310000003018</td><td>255.37344215006036</td><td>22.73177974657971</td><td>217.80250549316406</td><td>7.967734336853027</td><td>0.009375633671879768</td></tr>\n",
       "<tr><td>16</td><td>147606</td><td>904591300000003643</td><td>255.1382326517459</td><td>22.866089426701414</td><td>109.23224639892578</td><td>7.778229713439941</td><td>0.008766633458435535</td></tr>\n",
       "<tr><td>17</td><td>147606</td><td>904604590000002080</td><td>255.1878228448299</td><td>23.044013412960577</td><td>26.508522033691406</td><td>9.403043746948242</td><td>0.009163632988929749</td></tr>\n",
       "<tr><td>18</td><td>147606</td><td>904604600000004729</td><td>255.57949188140304</td><td>23.076388407795307</td><td>237.77207946777344</td><td>8.453393936157227</td><td>0.009752633050084114</td></tr>\n",
       "<tr><td>19</td><td>165082</td><td>681656</td><td>217.67292879868697</td><td>3.425723527320057</td><td>137.9065</td><td>8.860233342091073</td><td>0.0059271315</td></tr>\n",
       "<tr><td>20</td><td>165082</td><td>87370</td><td>217.23277401294135</td><td>3.8515685760734075</td><td>279.18707</td><td>8.005020194466411</td><td>0.005619451</td></tr>\n",
       "<tr><td>21</td><td>165082</td><td>74043</td><td>217.33157059631858</td><td>2.7105423683853176</td><td>229.23521</td><td>8.334861935794631</td><td>0.006001042</td></tr>\n",
       "<tr><td>22</td><td>165082</td><td>1237654879127601248</td><td>217.6812817843503</td><td>3.345383258372323</td><td>123.48099</td><td>7.8975840449981245</td><td>0.0050901882</td></tr>\n",
       "<tr><td>23</td><td>165082</td><td>631861</td><td>217.86348991150788</td><td>3.0091635379966744</td><td>215.19458</td><td>9.63013231925916</td><td>0.004853365</td></tr>\n",
       "<tr><td>24</td><td>165082</td><td>87294</td><td>217.9707567106337</td><td>3.3800403176706824</td><td>246.88214</td><td>7.383959234075788</td><td>0.0051894514</td></tr>\n",
       "<tr><td>25</td><td>165082</td><td>87358</td><td>217.5077014008536</td><td>3.77290518411652</td><td>236.57875</td><td>8.94070299945183</td><td>0.0058014514</td></tr>\n",
       "<tr><td>26</td><td>165082</td><td>681515</td><td>217.26621891520384</td><td>3.1489905554887674</td><td>75.15012</td><td>8.948841647210525</td><td>0.0061711045</td></tr>\n",
       "<tr><td>27</td><td>165082</td><td>87290</td><td>217.81893353616692</td><td>3.2567384880858876</td><td>173.30058</td><td>8.521095878865554</td><td>0.005128451</td></tr>\n",
       "<tr><td>28</td><td>165082</td><td>87352</td><td>217.41257161258602</td><td>3.266285795439988</td><td>14.491487</td><td>9.78914648463536</td><td>0.005505524</td></tr>\n",
       "<tr><td>29</td><td>165082</td><td>1237654879127535715</td><td>217.5043704367497</td><td>3.2208507301408034</td><td>37.550877</td><td>8.739737561710125</td><td>0.0061642644</td></tr>\n",
       "<tr><td>30</td><td>165082</td><td>87346</td><td>217.70061004360554</td><td>3.796388769547217</td><td>272.6854</td><td>7.503755991290589</td><td>0.005596543</td></tr>\n",
       "</table><style>table.dataTable {clear: both; width: auto !important; margin: 0 !important;}\n",
       ".dataTables_info, .dataTables_length, .dataTables_filter, .dataTables_paginate{\n",
       "display: inline-block; margin-right: 1em; }\n",
       ".paginate_button { margin-right: 5px; }\n",
       "</style>\n",
       "<script>\n",
       "\n",
       "var astropy_sort_num = function(a, b) {\n",
       "    var a_num = parseFloat(a);\n",
       "    var b_num = parseFloat(b);\n",
       "\n",
       "    if (isNaN(a_num) && isNaN(b_num))\n",
       "        return ((a < b) ? -1 : ((a > b) ? 1 : 0));\n",
       "    else if (!isNaN(a_num) && !isNaN(b_num))\n",
       "        return ((a_num < b_num) ? -1 : ((a_num > b_num) ? 1 : 0));\n",
       "    else\n",
       "        return isNaN(a_num) ? -1 : 1;\n",
       "}\n",
       "\n",
       "require.config({paths: {\n",
       "    datatables: 'https://cdn.datatables.net/1.10.12/js/jquery.dataTables.min'\n",
       "}});\n",
       "require([\"datatables\"], function(){\n",
       "    console.log(\"$('#table140544215687712-466803').dataTable()\");\n",
       "    \n",
       "jQuery.extend( jQuery.fn.dataTableExt.oSort, {\n",
       "    \"optionalnum-asc\": astropy_sort_num,\n",
       "    \"optionalnum-desc\": function (a,b) { return -astropy_sort_num(a, b); }\n",
       "});\n",
       "\n",
       "    $('#table140544215687712-466803').dataTable({\n",
       "        order: [],\n",
       "        pageLength: 50,\n",
       "        lengthMenu: [[10, 25, 50, 100, 500, 1000, -1], [10, 25, 50, 100, 500, 1000, 'All']],\n",
       "        pagingType: \"full_numbers\",\n",
       "        columnDefs: [{targets: [0, 1, 2, 3, 4, 5, 6, 7], type: \"optionalnum\"}]\n",
       "    });\n",
       "});\n",
       "</script>\n"
      ],
      "text/plain": [
       "<IPython.core.display.HTML object>"
      ]
     },
     "execution_count": 25,
     "metadata": {},
     "output_type": "execute_result"
    }
   ],
   "source": [
    "cos_saga_satellites.show_in_notebook()\n",
    "#print(cos_saga_satellites)\n"
   ]
  },
  {
   "cell_type": "code",
   "execution_count": 26,
   "metadata": {},
   "outputs": [
    {
     "ename": "ValueError",
     "evalue": "Inconsistent data column lengths",
     "output_type": "error",
     "traceback": [
      "\u001b[0;31m---------------------------------------------------------------------------\u001b[0m",
      "\u001b[0;31mValueError\u001b[0m                                Traceback (most recent call last)",
      "\u001b[0;32m<ipython-input-26-7fe35fff785d>\u001b[0m in \u001b[0;36m<module>\u001b[0;34m\u001b[0m\n\u001b[0;32m----> 1\u001b[0;31m \u001b[0mcos_saga_hosts\u001b[0m\u001b[0;34m[\u001b[0m\u001b[0;34m'No SATELLITES'\u001b[0m\u001b[0;34m]\u001b[0m \u001b[0;34m=\u001b[0m \u001b[0;34m[\u001b[0m\u001b[0;36m0\u001b[0m\u001b[0;34m,\u001b[0m\u001b[0;34m-\u001b[0m\u001b[0;36m99\u001b[0m\u001b[0;34m,\u001b[0m\u001b[0;36m5\u001b[0m\u001b[0;34m,\u001b[0m\u001b[0;36m9\u001b[0m\u001b[0;34m,\u001b[0m\u001b[0;36m12\u001b[0m\u001b[0;34m,\u001b[0m\u001b[0;36m3\u001b[0m\u001b[0;34m,\u001b[0m\u001b[0;36m1\u001b[0m\u001b[0;34m]\u001b[0m\u001b[0;34m\u001b[0m\u001b[0;34m\u001b[0m\u001b[0m\n\u001b[0m\u001b[1;32m      2\u001b[0m \u001b[0mcos_saga_hosts\u001b[0m\u001b[0;34m.\u001b[0m\u001b[0mshow_in_notebook\u001b[0m\u001b[0;34m(\u001b[0m\u001b[0;34m)\u001b[0m\u001b[0;34m\u001b[0m\u001b[0;34m\u001b[0m\u001b[0m\n\u001b[1;32m      3\u001b[0m \u001b[0mprint\u001b[0m\u001b[0;34m(\u001b[0m\u001b[0mcos_saga_hosts\u001b[0m\u001b[0;34m)\u001b[0m\u001b[0;34m\u001b[0m\u001b[0;34m\u001b[0m\u001b[0m\n\u001b[1;32m      4\u001b[0m \u001b[0;34m\u001b[0m\u001b[0m\n",
      "\u001b[0;32m~/opt/anaconda3/envs/astro/lib/python3.8/site-packages/astropy/table/table.py\u001b[0m in \u001b[0;36m__setitem__\u001b[0;34m(self, item, value)\u001b[0m\n\u001b[1;32m   1633\u001b[0m         \u001b[0;31m# If that column doesn't already exist then create it now.\u001b[0m\u001b[0;34m\u001b[0m\u001b[0;34m\u001b[0m\u001b[0;34m\u001b[0m\u001b[0m\n\u001b[1;32m   1634\u001b[0m         \u001b[0;32mif\u001b[0m \u001b[0misinstance\u001b[0m\u001b[0;34m(\u001b[0m\u001b[0mitem\u001b[0m\u001b[0;34m,\u001b[0m \u001b[0mstr\u001b[0m\u001b[0;34m)\u001b[0m \u001b[0;32mand\u001b[0m \u001b[0mitem\u001b[0m \u001b[0;32mnot\u001b[0m \u001b[0;32min\u001b[0m \u001b[0mself\u001b[0m\u001b[0;34m.\u001b[0m\u001b[0mcolnames\u001b[0m\u001b[0;34m:\u001b[0m\u001b[0;34m\u001b[0m\u001b[0;34m\u001b[0m\u001b[0m\n\u001b[0;32m-> 1635\u001b[0;31m             \u001b[0mself\u001b[0m\u001b[0;34m.\u001b[0m\u001b[0madd_column\u001b[0m\u001b[0;34m(\u001b[0m\u001b[0mvalue\u001b[0m\u001b[0;34m,\u001b[0m \u001b[0mname\u001b[0m\u001b[0;34m=\u001b[0m\u001b[0mitem\u001b[0m\u001b[0;34m,\u001b[0m \u001b[0mcopy\u001b[0m\u001b[0;34m=\u001b[0m\u001b[0;32mTrue\u001b[0m\u001b[0;34m)\u001b[0m\u001b[0;34m\u001b[0m\u001b[0;34m\u001b[0m\u001b[0m\n\u001b[0m\u001b[1;32m   1636\u001b[0m \u001b[0;34m\u001b[0m\u001b[0m\n\u001b[1;32m   1637\u001b[0m         \u001b[0;32melse\u001b[0m\u001b[0;34m:\u001b[0m\u001b[0;34m\u001b[0m\u001b[0;34m\u001b[0m\u001b[0m\n",
      "\u001b[0;32m~/opt/anaconda3/envs/astro/lib/python3.8/site-packages/astropy/table/table.py\u001b[0m in \u001b[0;36madd_column\u001b[0;34m(self, col, index, name, rename_duplicate, copy, default_name)\u001b[0m\n\u001b[1;32m   1914\u001b[0m         \u001b[0;31m# Ensure that new column is the right length\u001b[0m\u001b[0;34m\u001b[0m\u001b[0;34m\u001b[0m\u001b[0;34m\u001b[0m\u001b[0m\n\u001b[1;32m   1915\u001b[0m         \u001b[0;32mif\u001b[0m \u001b[0mlen\u001b[0m\u001b[0;34m(\u001b[0m\u001b[0mself\u001b[0m\u001b[0;34m.\u001b[0m\u001b[0mcolumns\u001b[0m\u001b[0;34m)\u001b[0m \u001b[0;34m>\u001b[0m \u001b[0;36m0\u001b[0m \u001b[0;32mand\u001b[0m \u001b[0mlen\u001b[0m\u001b[0;34m(\u001b[0m\u001b[0mcol\u001b[0m\u001b[0;34m)\u001b[0m \u001b[0;34m!=\u001b[0m \u001b[0mlen\u001b[0m\u001b[0;34m(\u001b[0m\u001b[0mself\u001b[0m\u001b[0;34m)\u001b[0m\u001b[0;34m:\u001b[0m\u001b[0;34m\u001b[0m\u001b[0;34m\u001b[0m\u001b[0m\n\u001b[0;32m-> 1916\u001b[0;31m             \u001b[0;32mraise\u001b[0m \u001b[0mValueError\u001b[0m\u001b[0;34m(\u001b[0m\u001b[0;34m'Inconsistent data column lengths'\u001b[0m\u001b[0;34m)\u001b[0m\u001b[0;34m\u001b[0m\u001b[0;34m\u001b[0m\u001b[0m\n\u001b[0m\u001b[1;32m   1917\u001b[0m \u001b[0;34m\u001b[0m\u001b[0m\n\u001b[1;32m   1918\u001b[0m         \u001b[0;32mif\u001b[0m \u001b[0mrename_duplicate\u001b[0m\u001b[0;34m:\u001b[0m\u001b[0;34m\u001b[0m\u001b[0;34m\u001b[0m\u001b[0m\n",
      "\u001b[0;31mValueError\u001b[0m: Inconsistent data column lengths"
     ]
    }
   ],
   "source": [
    "cos_saga_hosts['No SATELLITES'] = [0,-99,5,9,12,3,1]\n",
    "cos_saga_hosts.show_in_notebook()\n",
    "print(cos_saga_hosts)\n",
    "\n"
   ]
  },
  {
   "cell_type": "code",
   "execution_count": 27,
   "metadata": {},
   "outputs": [
    {
     "data": {
      "image/png": "[encoded data removed]",
      "text/plain": [
       "<Figure size 504x504 with 1 Axes>"
      ]
     },
     "metadata": {
      "needs_background": "light"
     },
     "output_type": "display_data"
    }
   ],
   "source": [
    "fig=plt.figure(figsize=(7,7))\n",
    "bins=np.ceil(np.sqrt(np.size(cos_saga_satellites['log_sm'])))\n",
    "plt.hist(cos_saga_satellites['log_sm'] ,color='navy', lw=4, bins=int(bins), histtype='step', hatch='///')\n",
    "plt.xlabel(r\"Satellite log(M$_*$)\")\n",
    "plt.ylabel(r\"N$_{counts}$\")\n",
    "fig.savefig(\"satellite-stellar-mass.png\")"
   ]
  },
  {
   "cell_type": "code",
   "execution_count": 28,
   "metadata": {},
   "outputs": [
    {
     "data": {
      "image/png": "[encoded data removed]",
      "text/plain": [
       "<Figure size 504x504 with 1 Axes>"
      ]
     },
     "metadata": {
      "needs_background": "light"
     },
     "output_type": "display_data"
    }
   ],
   "source": [
    "fig2=plt.figure(figsize=(7,7))\n",
    "bins_s=np.ceil(np.sqrt(np.size(cos_saga_satellites['RHOST_KPC'])))\n",
    "bins_h=np.ceil(np.sqrt(np.size(sightlines_table['b_host'])))\n",
    "plt.hist(cos_saga_satellites['RHOST_KPC'], bins=int(bins_s), color='navy', histtype='step', lw=5, hatch='//',label='satellites')\n",
    "plt.hist(sightlines_table['b_host'], bins=int(bins_h), color=red, histtype='step', lw=5, hatch='//', label='hosts')\n",
    "plt.xlabel(\"Impact parameter from QSO [kpc]\")\n",
    "plt.ylabel(r\"N$_{counts}$\")\n",
    "plt.legend(loc=2, fontsize=16)\n",
    "fig2.savefig(\"impact-param.png\")"
   ]
  },
  {
   "cell_type": "markdown",
   "metadata": {},
   "source": [
    "## new QSO \n"
   ]
  },
  {
   "cell_type": "code",
   "execution_count": 29,
   "metadata": {},
   "outputs": [
    {
     "ename": "FileNotFoundError",
     "evalue": "[Errno 2] No such file or directory: 'new-QSO/observed-sept.txt'",
     "output_type": "error",
     "traceback": [
      "\u001b[0;31m---------------------------------------------------------------------------\u001b[0m",
      "\u001b[0;31mFileNotFoundError\u001b[0m                         Traceback (most recent call last)",
      "\u001b[0;32m<ipython-input-29-9ba890037c4c>\u001b[0m in \u001b[0;36m<module>\u001b[0;34m\u001b[0m\n\u001b[1;32m      1\u001b[0m \u001b[0;32mfrom\u001b[0m \u001b[0mastropy\u001b[0m\u001b[0;34m.\u001b[0m\u001b[0mio\u001b[0m \u001b[0;32mimport\u001b[0m \u001b[0mascii\u001b[0m\u001b[0;34m\u001b[0m\u001b[0;34m\u001b[0m\u001b[0m\n\u001b[0;32m----> 2\u001b[0;31m \u001b[0mdata\u001b[0m \u001b[0;34m=\u001b[0m \u001b[0mascii\u001b[0m\u001b[0;34m.\u001b[0m\u001b[0mread\u001b[0m\u001b[0;34m(\u001b[0m\u001b[0;34m\"new-QSO/observed-sept.txt\"\u001b[0m\u001b[0;34m)\u001b[0m\u001b[0;34m\u001b[0m\u001b[0;34m\u001b[0m\u001b[0m\n\u001b[0m\u001b[1;32m      3\u001b[0m \u001b[0mnewqso\u001b[0m \u001b[0;34m=\u001b[0m \u001b[0mTable\u001b[0m\u001b[0;34m(\u001b[0m\u001b[0mdata\u001b[0m\u001b[0;34m)\u001b[0m\u001b[0;34m\u001b[0m\u001b[0;34m\u001b[0m\u001b[0m\n",
      "\u001b[0;32m~/opt/anaconda3/envs/astro/lib/python3.8/site-packages/astropy/io/ascii/ui.py\u001b[0m in \u001b[0;36mread\u001b[0;34m(table, guess, **kwargs)\u001b[0m\n\u001b[1;32m    285\u001b[0m         \u001b[0;31m# through below to the non-guess way so that any problems result in a\u001b[0m\u001b[0;34m\u001b[0m\u001b[0;34m\u001b[0m\u001b[0;34m\u001b[0m\u001b[0m\n\u001b[1;32m    286\u001b[0m         \u001b[0;31m# more useful traceback.\u001b[0m\u001b[0;34m\u001b[0m\u001b[0;34m\u001b[0m\u001b[0;34m\u001b[0m\u001b[0m\n\u001b[0;32m--> 287\u001b[0;31m         \u001b[0mdat\u001b[0m \u001b[0;34m=\u001b[0m \u001b[0m_guess\u001b[0m\u001b[0;34m(\u001b[0m\u001b[0mtable\u001b[0m\u001b[0;34m,\u001b[0m \u001b[0mnew_kwargs\u001b[0m\u001b[0;34m,\u001b[0m \u001b[0mformat\u001b[0m\u001b[0;34m,\u001b[0m \u001b[0mfast_reader\u001b[0m\u001b[0;34m)\u001b[0m\u001b[0;34m\u001b[0m\u001b[0;34m\u001b[0m\u001b[0m\n\u001b[0m\u001b[1;32m    288\u001b[0m         \u001b[0;32mif\u001b[0m \u001b[0mdat\u001b[0m \u001b[0;32mis\u001b[0m \u001b[0;32mNone\u001b[0m\u001b[0;34m:\u001b[0m\u001b[0;34m\u001b[0m\u001b[0;34m\u001b[0m\u001b[0m\n\u001b[1;32m    289\u001b[0m             \u001b[0mguess\u001b[0m \u001b[0;34m=\u001b[0m \u001b[0;32mFalse\u001b[0m\u001b[0;34m\u001b[0m\u001b[0;34m\u001b[0m\u001b[0m\n",
      "\u001b[0;32m~/opt/anaconda3/envs/astro/lib/python3.8/site-packages/astropy/io/ascii/ui.py\u001b[0m in \u001b[0;36m_guess\u001b[0;34m(table, read_kwargs, format, fast_reader)\u001b[0m\n\u001b[1;32m    445\u001b[0m \u001b[0;34m\u001b[0m\u001b[0m\n\u001b[1;32m    446\u001b[0m             \u001b[0mreader\u001b[0m\u001b[0;34m.\u001b[0m\u001b[0mguessing\u001b[0m \u001b[0;34m=\u001b[0m \u001b[0;32mTrue\u001b[0m\u001b[0;34m\u001b[0m\u001b[0;34m\u001b[0m\u001b[0m\n\u001b[0;32m--> 447\u001b[0;31m             \u001b[0mdat\u001b[0m \u001b[0;34m=\u001b[0m \u001b[0mreader\u001b[0m\u001b[0;34m.\u001b[0m\u001b[0mread\u001b[0m\u001b[0;34m(\u001b[0m\u001b[0mtable\u001b[0m\u001b[0;34m)\u001b[0m\u001b[0;34m\u001b[0m\u001b[0;34m\u001b[0m\u001b[0m\n\u001b[0m\u001b[1;32m    448\u001b[0m             _read_trace.append({'kwargs': copy.deepcopy(guess_kwargs),\n\u001b[1;32m    449\u001b[0m                                 \u001b[0;34m'Reader'\u001b[0m\u001b[0;34m:\u001b[0m \u001b[0mreader\u001b[0m\u001b[0;34m.\u001b[0m\u001b[0m__class__\u001b[0m\u001b[0;34m,\u001b[0m\u001b[0;34m\u001b[0m\u001b[0;34m\u001b[0m\u001b[0m\n",
      "\u001b[0;32m~/opt/anaconda3/envs/astro/lib/python3.8/site-packages/astropy/io/ascii/core.py\u001b[0m in \u001b[0;36mread\u001b[0;34m(self, table)\u001b[0m\n\u001b[1;32m   1163\u001b[0m \u001b[0;34m\u001b[0m\u001b[0m\n\u001b[1;32m   1164\u001b[0m         \u001b[0;31m# Get a list of the lines (rows) in the table\u001b[0m\u001b[0;34m\u001b[0m\u001b[0;34m\u001b[0m\u001b[0;34m\u001b[0m\u001b[0m\n\u001b[0;32m-> 1165\u001b[0;31m         \u001b[0mself\u001b[0m\u001b[0;34m.\u001b[0m\u001b[0mlines\u001b[0m \u001b[0;34m=\u001b[0m \u001b[0mself\u001b[0m\u001b[0;34m.\u001b[0m\u001b[0minputter\u001b[0m\u001b[0;34m.\u001b[0m\u001b[0mget_lines\u001b[0m\u001b[0;34m(\u001b[0m\u001b[0mtable\u001b[0m\u001b[0;34m)\u001b[0m\u001b[0;34m\u001b[0m\u001b[0;34m\u001b[0m\u001b[0m\n\u001b[0m\u001b[1;32m   1166\u001b[0m \u001b[0;34m\u001b[0m\u001b[0m\n\u001b[1;32m   1167\u001b[0m         \u001b[0;31m# Set self.data.data_lines to a slice of lines contain the data rows\u001b[0m\u001b[0;34m\u001b[0m\u001b[0;34m\u001b[0m\u001b[0;34m\u001b[0m\u001b[0m\n",
      "\u001b[0;32m~/opt/anaconda3/envs/astro/lib/python3.8/site-packages/astropy/io/ascii/core.py\u001b[0m in \u001b[0;36mget_lines\u001b[0;34m(self, table)\u001b[0m\n\u001b[1;32m    302\u001b[0m             if (hasattr(table, 'read')\n\u001b[1;32m    303\u001b[0m                     or ('\\n' not in table + '' and '\\r' not in table + '')):\n\u001b[0;32m--> 304\u001b[0;31m                 with get_readable_fileobj(table,\n\u001b[0m\u001b[1;32m    305\u001b[0m                                           encoding=self.encoding) as fileobj:\n\u001b[1;32m    306\u001b[0m                     \u001b[0mtable\u001b[0m \u001b[0;34m=\u001b[0m \u001b[0mfileobj\u001b[0m\u001b[0;34m.\u001b[0m\u001b[0mread\u001b[0m\u001b[0;34m(\u001b[0m\u001b[0;34m)\u001b[0m\u001b[0;34m\u001b[0m\u001b[0;34m\u001b[0m\u001b[0m\n",
      "\u001b[0;32m~/opt/anaconda3/envs/astro/lib/python3.8/contextlib.py\u001b[0m in \u001b[0;36m__enter__\u001b[0;34m(self)\u001b[0m\n\u001b[1;32m    111\u001b[0m         \u001b[0;32mdel\u001b[0m \u001b[0mself\u001b[0m\u001b[0;34m.\u001b[0m\u001b[0margs\u001b[0m\u001b[0;34m,\u001b[0m \u001b[0mself\u001b[0m\u001b[0;34m.\u001b[0m\u001b[0mkwds\u001b[0m\u001b[0;34m,\u001b[0m \u001b[0mself\u001b[0m\u001b[0;34m.\u001b[0m\u001b[0mfunc\u001b[0m\u001b[0;34m\u001b[0m\u001b[0;34m\u001b[0m\u001b[0m\n\u001b[1;32m    112\u001b[0m         \u001b[0;32mtry\u001b[0m\u001b[0;34m:\u001b[0m\u001b[0;34m\u001b[0m\u001b[0;34m\u001b[0m\u001b[0m\n\u001b[0;32m--> 113\u001b[0;31m             \u001b[0;32mreturn\u001b[0m \u001b[0mnext\u001b[0m\u001b[0;34m(\u001b[0m\u001b[0mself\u001b[0m\u001b[0;34m.\u001b[0m\u001b[0mgen\u001b[0m\u001b[0;34m)\u001b[0m\u001b[0;34m\u001b[0m\u001b[0;34m\u001b[0m\u001b[0m\n\u001b[0m\u001b[1;32m    114\u001b[0m         \u001b[0;32mexcept\u001b[0m \u001b[0mStopIteration\u001b[0m\u001b[0;34m:\u001b[0m\u001b[0;34m\u001b[0m\u001b[0;34m\u001b[0m\u001b[0m\n\u001b[1;32m    115\u001b[0m             \u001b[0;32mraise\u001b[0m \u001b[0mRuntimeError\u001b[0m\u001b[0;34m(\u001b[0m\u001b[0;34m\"generator didn't yield\"\u001b[0m\u001b[0;34m)\u001b[0m \u001b[0;32mfrom\u001b[0m \u001b[0;32mNone\u001b[0m\u001b[0;34m\u001b[0m\u001b[0;34m\u001b[0m\u001b[0m\n",
      "\u001b[0;32m~/opt/anaconda3/envs/astro/lib/python3.8/site-packages/astropy/utils/data.py\u001b[0m in \u001b[0;36mget_readable_fileobj\u001b[0;34m(name_or_obj, encoding, cache, show_progress, remote_timeout, sources, http_headers)\u001b[0m\n\u001b[1;32m    235\u001b[0m                 \u001b[0mtimeout\u001b[0m\u001b[0;34m=\u001b[0m\u001b[0mremote_timeout\u001b[0m\u001b[0;34m,\u001b[0m \u001b[0msources\u001b[0m\u001b[0;34m=\u001b[0m\u001b[0msources\u001b[0m\u001b[0;34m,\u001b[0m\u001b[0;34m\u001b[0m\u001b[0;34m\u001b[0m\u001b[0m\n\u001b[1;32m    236\u001b[0m                 http_headers=http_headers)\n\u001b[0;32m--> 237\u001b[0;31m         \u001b[0mfileobj\u001b[0m \u001b[0;34m=\u001b[0m \u001b[0mio\u001b[0m\u001b[0;34m.\u001b[0m\u001b[0mFileIO\u001b[0m\u001b[0;34m(\u001b[0m\u001b[0mname_or_obj\u001b[0m\u001b[0;34m,\u001b[0m \u001b[0;34m'r'\u001b[0m\u001b[0;34m)\u001b[0m\u001b[0;34m\u001b[0m\u001b[0;34m\u001b[0m\u001b[0m\n\u001b[0m\u001b[1;32m    238\u001b[0m         \u001b[0;32mif\u001b[0m \u001b[0mis_url\u001b[0m \u001b[0;32mand\u001b[0m \u001b[0;32mnot\u001b[0m \u001b[0mcache\u001b[0m\u001b[0;34m:\u001b[0m\u001b[0;34m\u001b[0m\u001b[0;34m\u001b[0m\u001b[0m\n\u001b[1;32m    239\u001b[0m             \u001b[0mdelete_fds\u001b[0m\u001b[0;34m.\u001b[0m\u001b[0mappend\u001b[0m\u001b[0;34m(\u001b[0m\u001b[0mfileobj\u001b[0m\u001b[0;34m)\u001b[0m\u001b[0;34m\u001b[0m\u001b[0;34m\u001b[0m\u001b[0m\n",
      "\u001b[0;31mFileNotFoundError\u001b[0m: [Errno 2] No such file or directory: 'new-QSO/observed-sept.txt'"
     ]
    }
   ],
   "source": [
    "from astropy.io import ascii\n",
    "data = ascii.read(\"new-QSO/observed-sept.txt\") \n",
    "newqso = Table(data)"
   ]
  },
  {
   "cell_type": "code",
   "execution_count": null,
   "metadata": {},
   "outputs": [],
   "source": []
  },
  {
   "cell_type": "code",
   "execution_count": 15,
   "metadata": {},
   "outputs": [
    {
     "data": {
      "text/html": [
       "<i>Table length=21</i>\n",
       "<table id=\"table140217131700128-828209\" class=\"table-striped table-bordered table-condensed\">\n",
       "<thead><tr><th>idx</th><th>galex-name</th><th>RA</th><th>DEC</th><th>name</th><th>SAGA-host</th><th>z</th></tr></thead>\n",
       "<tr><td>0</td><td>6380310074106055052</td><td>9.575837331</td><td>-8.008252235</td><td>qso1</td><td>nsa127226</td><td>0.214595</td></tr>\n",
       "<tr><td>1</td><td>6380380388089400791</td><td>25.14291161</td><td>-6.895838824</td><td>qso2</td><td>nsa130133</td><td>0.199735</td></tr>\n",
       "<tr><td>2</td><td>3128526333923042395</td><td>46.84176806</td><td>-15.39282727</td><td>qso4</td><td>nsa133141</td><td>0.24072</td></tr>\n",
       "<tr><td>3</td><td>6373449102221380758</td><td>120.9557706</td><td>73.17856065</td><td>qso6</td><td>pgc22031</td><td>0.2009</td></tr>\n",
       "<tr><td>4</td><td>6379993325636683089</td><td>337.264522</td><td>-14.01821148</td><td>qso7</td><td>pgc69094</td><td>0.23535</td></tr>\n",
       "<tr><td>5</td><td>2921853332273238613</td><td>46.05257584</td><td>-16.00766998</td><td>qso8</td><td>nsa133115</td><td>0.08769</td></tr>\n",
       "<tr><td>6</td><td>2924386607063633771</td><td>46.84183057</td><td>-15.39300559</td><td>qso9</td><td>nsa133141</td><td>0.240885</td></tr>\n",
       "<tr><td>7</td><td>6375982358758164967</td><td>0.3429560194</td><td>20.74880506</td><td>qso10</td><td>nsa126115</td><td>0.5961</td></tr>\n",
       "<tr><td>8</td><td>6380310082695990310</td><td>8.764188837</td><td>-8.577492608</td><td>qso11</td><td>nsa127226</td><td>0.9954</td></tr>\n",
       "<tr><td>9</td><td>6380204504883663043</td><td>20.91154108</td><td>13.16254758</td><td>qso12</td><td>nsa129387</td><td>1.0503</td></tr>\n",
       "<tr><td>10</td><td>6376299054614187293</td><td>344.265809</td><td>-5.486696672</td><td>qso13</td><td>nsa150307</td><td>0.62965</td></tr>\n",
       "<tr><td>11</td><td>6373449103295123227</td><td>116.1502599</td><td>73.56696256</td><td>qso15</td><td>pgc22031</td><td>0.4255</td></tr>\n",
       "<tr><td>12</td><td>6375982365200617245</td><td>0.86510881</td><td>20.15538386</td><td>qso17</td><td>nsa126115</td><td>0.4885</td></tr>\n",
       "<tr><td>13</td><td>3779859430031493095</td><td>34.02295678</td><td>5.306350963</td><td>qso21</td><td>nsa131531</td><td>0.3154</td></tr>\n",
       "<tr><td>14</td><td>6380908170850602420</td><td>39.48494152</td><td>-1.809140414</td><td>qso22</td><td>nsa132339</td><td>0.1862</td></tr>\n",
       "<tr><td>15</td><td>6380837775262876933</td><td>45.79509595</td><td>-16.12803484</td><td>qso23</td><td>nsa133115</td><td>0.17895</td></tr>\n",
       "<tr><td>16</td><td>6377530491531166069</td><td>71.35249695</td><td>-6.096131128</td><td>qso24</td><td>nsa133953</td><td>0.15955</td></tr>\n",
       "<tr><td>17</td><td>6373449102221380758</td><td>120.9557706</td><td>73.17856064</td><td>qso27</td><td>pgc22031</td><td>0.2011</td></tr>\n",
       "<tr><td>18</td><td>6374187904242027619</td><td>125.5060136</td><td>84.37255571</td><td>qso28</td><td>pgc22213</td><td>0.13399</td></tr>\n",
       "<tr><td>19</td><td>6379993357848939665</td><td>336.9210273</td><td>-17.43338124</td><td>qso30</td><td>pgc68826</td><td>0.06289</td></tr>\n",
       "<tr><td>20</td><td>6376474975400889296</td><td>338.3975485</td><td>-13.17467669</td><td>qso31</td><td>pgc69094</td><td>0.2454</td></tr>\n",
       "</table><style>table.dataTable {clear: both; width: auto !important; margin: 0 !important;}\n",
       ".dataTables_info, .dataTables_length, .dataTables_filter, .dataTables_paginate{\n",
       "display: inline-block; margin-right: 1em; }\n",
       ".paginate_button { margin-right: 5px; }\n",
       "</style>\n",
       "<script>\n",
       "\n",
       "var astropy_sort_num = function(a, b) {\n",
       "    var a_num = parseFloat(a);\n",
       "    var b_num = parseFloat(b);\n",
       "\n",
       "    if (isNaN(a_num) && isNaN(b_num))\n",
       "        return ((a < b) ? -1 : ((a > b) ? 1 : 0));\n",
       "    else if (!isNaN(a_num) && !isNaN(b_num))\n",
       "        return ((a_num < b_num) ? -1 : ((a_num > b_num) ? 1 : 0));\n",
       "    else\n",
       "        return isNaN(a_num) ? -1 : 1;\n",
       "}\n",
       "\n",
       "require.config({paths: {\n",
       "    datatables: 'https://cdn.datatables.net/1.10.12/js/jquery.dataTables.min'\n",
       "}});\n",
       "require([\"datatables\"], function(){\n",
       "    console.log(\"$('#table140217131700128-828209').dataTable()\");\n",
       "    \n",
       "jQuery.extend( jQuery.fn.dataTableExt.oSort, {\n",
       "    \"optionalnum-asc\": astropy_sort_num,\n",
       "    \"optionalnum-desc\": function (a,b) { return -astropy_sort_num(a, b); }\n",
       "});\n",
       "\n",
       "    $('#table140217131700128-828209').dataTable({\n",
       "        order: [],\n",
       "        pageLength: 50,\n",
       "        lengthMenu: [[10, 25, 50, 100, 500, 1000, -1], [10, 25, 50, 100, 500, 1000, 'All']],\n",
       "        pagingType: \"full_numbers\",\n",
       "        columnDefs: [{targets: [0, 1, 2, 3, 6], type: \"optionalnum\"}]\n",
       "    });\n",
       "});\n",
       "</script>\n"
      ],
      "text/plain": [
       "<IPython.core.display.HTML object>"
      ]
     },
     "execution_count": 15,
     "metadata": {},
     "output_type": "execute_result"
    }
   ],
   "source": [
    "newqso.show_in_notebook()"
   ]
  },
  {
   "cell_type": "code",
   "execution_count": 16,
   "metadata": {},
   "outputs": [],
   "source": [
    "from astropy.cosmology import Planck15 as cosmo"
   ]
  },
  {
   "cell_type": "code",
   "execution_count": 17,
   "metadata": {},
   "outputs": [
    {
     "data": {
      "text/plain": [
       "473.40569119056397"
      ]
     },
     "execution_count": 17,
     "metadata": {},
     "output_type": "execute_result"
    }
   ],
   "source": [
    "a=cosmo.kpc_proper_per_arcmin(3) \n",
    "a.value"
   ]
  },
  {
   "cell_type": "code",
   "execution_count": 18,
   "metadata": {},
   "outputs": [
    {
     "name": "stdout",
     "output_type": "stream",
     "text": [
      "0.006427784722\n",
      "57.265332524262114 470.1363391745418 0.006427784722 8.209789735794425 kpc / arcmin\n",
      "0.006781720618\n",
      "42.93566441760453 371.74087412739084 0.006781720618 8.658090637930579 kpc / arcmin\n",
      "0.00888798155\n",
      "23.110724650815452 261.56417463221464 0.00888798155 11.317869888730879 kpc / arcmin\n",
      "0.008994604908\n",
      "52.849305704310815 605.2380759796629 0.008994604908 11.452148101357077 kpc / arcmin\n",
      "0.006039411717\n",
      "48.93997336734107 377.6903999620682 0.006039411717 7.717421444575427 kpc / arcmin\n",
      "0.008798623975\n",
      "25.01262727083177 280.2742076843878 0.008798623975 11.205308608713281 kpc / arcmin\n",
      "0.00888798155\n",
      "23.107630168399673 261.5291516828599 0.00888798155 11.317869888730879 kpc / arcmin\n",
      "0.0075091701\n",
      "36.60684500166577 350.6301345647327 0.0075091701 9.578266975719364 kpc / arcmin\n",
      "0.006427784722\n",
      "11.611413836129186 95.32726612991476 0.006427784722 8.209789735794425 kpc / arcmin\n",
      "0.008633220645\n",
      "15.933569096576877 175.21969751778678 0.008633220645 10.996889426075322 kpc / arcmin\n",
      "0.00911155471\n",
      "20.433886461425104 237.0206329917775 0.00911155471 11.599390719882035 kpc / arcmin\n",
      "0.008994604908\n",
      "45.69585215492653 523.3156664959355 0.008994604908 11.452148101357077 kpc / arcmin\n",
      "0.0075091701\n",
      "36.559357439664396 350.1752860178575 0.0075091701 9.578266975719364 kpc / arcmin\n",
      "0.004773748424\n",
      "42.80593931937277 261.52648993771083 0.004773748424 6.109584186121371 kpc / arcmin\n",
      "0.008591084151\n",
      "29.668796842112926 324.6888187036065 0.008591084151 10.943781118981267 kpc / arcmin\n",
      "0.008798623975\n",
      "31.56089280677952 353.6495438664836 0.008798623975 11.205308608713281 kpc / arcmin\n",
      "0.009690653598\n",
      "54.74059313322667 674.8347947641375 0.009690653598 12.327867787653247 kpc / arcmin\n",
      "0.008994604908\n",
      "52.849305608079725 605.2380748776101 0.008994604908 11.452148101357077 kpc / arcmin\n",
      "0.007902342285\n",
      "59.051984852502926 594.9440401608831 0.007902342285 10.074920286708473 kpc / arcmin\n",
      "0.008711220415\n",
      "33.2104258442013 368.4758140413514 0.008711220415 11.09518486062078 kpc / arcmin\n",
      "0.006039411717\n",
      "59.37232477789689 458.20125245523843 0.006039411717 7.717421444575427 kpc / arcmin\n"
     ]
    }
   ],
   "source": [
    "angsep = np.zeros(np.size(newqso['name']))\n",
    "bkpc = np.zeros(np.size(newqso['name']))\n",
    "pscale=([3.309, 3.139, 3.591,]) #kpc/\"\n",
    "for i in range(np.size(newqso['name'])):\n",
    "    #print(newqso['SAGA-host'][i])\n",
    "    n = newqso['SAGA-host'][i]\n",
    "    j = np.where(hosts['HOSTID'] == n)[0][0]\n",
    "    coo = SkyCoord(hosts['RA'][j]*u.deg, hosts['DEC'][j]*u.deg)\n",
    "    co_qso = SkyCoord(newqso['RA'][i]*u.deg,newqso['DEC'][i]*u.deg )\n",
    "    sep=co_qso.separation(coo)\n",
    "    z = hosts['Z_COSMO'][j]\n",
    "    print(z)\n",
    "    theta=cosmo.kpc_proper_per_arcmin(z)\n",
    "    print(sep.arcmin, sep.arcmin*theta.value, z, cosmo.kpc_proper_per_arcmin(z))\n",
    "    angsep[i] = sep.arcmin\n",
    "    bkpc[i] = sep.arcmin*theta.value"
   ]
  },
  {
   "cell_type": "code",
   "execution_count": 19,
   "metadata": {},
   "outputs": [],
   "source": [
    "newqso.add_columns((angsep,bkpc), names=(\"r_ang_arcmin\", \"b_kpc\") )"
   ]
  },
  {
   "cell_type": "code",
   "execution_count": 132,
   "metadata": {},
   "outputs": [
    {
     "data": {
      "text/html": [
       "<i>Table length=21</i>\n",
       "<table id=\"table140311353595552-488886\" class=\"table-striped table-bordered table-condensed\">\n",
       "<thead><tr><th>idx</th><th>galex-name</th><th>RA</th><th>DEC</th><th>name</th><th>SAGA-host</th><th>z</th><th>r_ang_arcmin</th><th>b_kpc</th></tr></thead>\n",
       "<tr><td>0</td><td>6380310074106055052</td><td>9.575837331</td><td>-8.008252235</td><td>qso1</td><td>nsa127226</td><td>0.214595</td><td>0.9544222087377019</td><td>470.1363391745418</td></tr>\n",
       "<tr><td>1</td><td>6380380388089400791</td><td>25.14291161</td><td>-6.895838824</td><td>qso2</td><td>nsa130133</td><td>0.199735</td><td>0.7155944069600755</td><td>371.74087412739084</td></tr>\n",
       "<tr><td>2</td><td>3128526333923042395</td><td>46.84176806</td><td>-15.39282727</td><td>qso4</td><td>nsa133141</td><td>0.24072</td><td>0.38517874418025755</td><td>261.56417463221464</td></tr>\n",
       "<tr><td>3</td><td>6373449102221380758</td><td>120.9557706</td><td>73.17856065</td><td>qso6</td><td>pgc22031</td><td>0.2009</td><td>0.8808217617385136</td><td>605.2380759796629</td></tr>\n",
       "<tr><td>4</td><td>6379993325636683089</td><td>337.264522</td><td>-14.01821148</td><td>qso7</td><td>pgc69094</td><td>0.23535</td><td>0.8156662227890178</td><td>377.6903999620682</td></tr>\n",
       "<tr><td>5</td><td>2921853332273238613</td><td>46.05257584</td><td>-16.00766998</td><td>qso8</td><td>nsa133115</td><td>0.08769</td><td>0.41687712118052955</td><td>280.2742076843878</td></tr>\n",
       "<tr><td>6</td><td>2924386607063633771</td><td>46.84183057</td><td>-15.39300559</td><td>qso9</td><td>nsa133141</td><td>0.240885</td><td>0.38512716947332787</td><td>261.5291516828599</td></tr>\n",
       "<tr><td>7</td><td>6375982358758164967</td><td>0.3429560194</td><td>20.74880506</td><td>qso10</td><td>nsa126115</td><td>0.5961</td><td>0.6101140833610962</td><td>350.6301345647327</td></tr>\n",
       "<tr><td>8</td><td>6380310082695990310</td><td>8.764188837</td><td>-8.577492608</td><td>qso11</td><td>nsa127226</td><td>0.9954</td><td>0.19352356393548645</td><td>95.32726612991476</td></tr>\n",
       "<tr><td>9</td><td>6380204504883663043</td><td>20.91154108</td><td>13.16254758</td><td>qso12</td><td>nsa129387</td><td>1.0503</td><td>0.26555948494294795</td><td>175.21969751778678</td></tr>\n",
       "<tr><td>10</td><td>6376299054614187293</td><td>344.265809</td><td>-5.486696672</td><td>qso13</td><td>nsa150307</td><td>0.62965</td><td>0.34056477435708504</td><td>237.0206329917775</td></tr>\n",
       "<tr><td>11</td><td>6373449103295123227</td><td>116.1502599</td><td>73.56696256</td><td>qso15</td><td>pgc22031</td><td>0.4255</td><td>0.7615975359154421</td><td>523.3156664959355</td></tr>\n",
       "<tr><td>12</td><td>6375982365200617245</td><td>0.86510881</td><td>20.15538386</td><td>qso17</td><td>nsa126115</td><td>0.4885</td><td>0.6093226239944066</td><td>350.1752860178575</td></tr>\n",
       "<tr><td>13</td><td>3779859430031493095</td><td>34.02295678</td><td>5.306350963</td><td>qso21</td><td>nsa131531</td><td>0.3154</td><td>0.7134323219895462</td><td>261.52648993771083</td></tr>\n",
       "<tr><td>14</td><td>6380908170850602420</td><td>39.48494152</td><td>-1.809140414</td><td>qso22</td><td>nsa132339</td><td>0.1862</td><td>0.4944799473685488</td><td>324.6888187036065</td></tr>\n",
       "<tr><td>15</td><td>6380837775262876933</td><td>45.79509595</td><td>-16.12803484</td><td>qso23</td><td>nsa133115</td><td>0.17895</td><td>0.526014880112992</td><td>353.6495438664836</td></tr>\n",
       "<tr><td>16</td><td>6377530491531166069</td><td>71.35249695</td><td>-6.096131128</td><td>qso24</td><td>nsa133953</td><td>0.15955</td><td>0.9123432188871111</td><td>674.8347947641375</td></tr>\n",
       "<tr><td>17</td><td>6373449102221380758</td><td>120.9557706</td><td>73.17856064</td><td>qso27</td><td>pgc22031</td><td>0.2011</td><td>0.8808217601346621</td><td>605.2380748776101</td></tr>\n",
       "<tr><td>18</td><td>6374187904242027619</td><td>125.5060136</td><td>84.37255571</td><td>qso28</td><td>pgc22213</td><td>0.13399</td><td>0.9841997475417155</td><td>594.9440401608831</td></tr>\n",
       "<tr><td>19</td><td>6379993357848939665</td><td>336.9210273</td><td>-17.43338124</td><td>qso30</td><td>pgc68826</td><td>0.06289</td><td>0.553507097403355</td><td>368.4758140413514</td></tr>\n",
       "<tr><td>20</td><td>6376474975400889296</td><td>338.3975485</td><td>-13.17467669</td><td>qso31</td><td>pgc69094</td><td>0.2454</td><td>0.9895387462982815</td><td>458.20125245523843</td></tr>\n",
       "</table><style>table.dataTable {clear: both; width: auto !important; margin: 0 !important;}\n",
       ".dataTables_info, .dataTables_length, .dataTables_filter, .dataTables_paginate{\n",
       "display: inline-block; margin-right: 1em; }\n",
       ".paginate_button { margin-right: 5px; }\n",
       "</style>\n",
       "<script>\n",
       "\n",
       "var astropy_sort_num = function(a, b) {\n",
       "    var a_num = parseFloat(a);\n",
       "    var b_num = parseFloat(b);\n",
       "\n",
       "    if (isNaN(a_num) && isNaN(b_num))\n",
       "        return ((a < b) ? -1 : ((a > b) ? 1 : 0));\n",
       "    else if (!isNaN(a_num) && !isNaN(b_num))\n",
       "        return ((a_num < b_num) ? -1 : ((a_num > b_num) ? 1 : 0));\n",
       "    else\n",
       "        return isNaN(a_num) ? -1 : 1;\n",
       "}\n",
       "\n",
       "require.config({paths: {\n",
       "    datatables: 'https://cdn.datatables.net/1.10.12/js/jquery.dataTables.min'\n",
       "}});\n",
       "require([\"datatables\"], function(){\n",
       "    console.log(\"$('#table140311353595552-488886').dataTable()\");\n",
       "    \n",
       "jQuery.extend( jQuery.fn.dataTableExt.oSort, {\n",
       "    \"optionalnum-asc\": astropy_sort_num,\n",
       "    \"optionalnum-desc\": function (a,b) { return -astropy_sort_num(a, b); }\n",
       "});\n",
       "\n",
       "    $('#table140311353595552-488886').dataTable({\n",
       "        order: [],\n",
       "        pageLength: 50,\n",
       "        lengthMenu: [[10, 25, 50, 100, 500, 1000, -1], [10, 25, 50, 100, 500, 1000, 'All']],\n",
       "        pagingType: \"full_numbers\",\n",
       "        columnDefs: [{targets: [0, 1, 2, 3, 6, 7, 8], type: \"optionalnum\"}]\n",
       "    });\n",
       "});\n",
       "</script>\n"
      ],
      "text/plain": [
       "<IPython.core.display.HTML object>"
      ]
     },
     "execution_count": 132,
     "metadata": {},
     "output_type": "execute_result"
    }
   ],
   "source": [
    "newqso.show_in_notebook()"
   ]
  },
  {
   "cell_type": "code",
   "execution_count": 160,
   "metadata": {},
   "outputs": [
    {
     "data": {
      "text/plain": [
       "<matplotlib.legend.Legend at 0x7f9d29221490>"
      ]
     },
     "execution_count": 160,
     "metadata": {},
     "output_type": "execute_result"
    },
    {
     "data": {
      "image/png": "[encoded data removed]",
      "text/plain": [
       "<Figure size 432x432 with 1 Axes>"
      ]
     },
     "metadata": {
      "needs_background": "light"
     },
     "output_type": "display_data"
    }
   ],
   "source": [
    "plt.figure(figsize=(6,6))\n",
    "plt.hist(newqso['b_kpc'],  color=red, histtype='step', lw=5, hatch='//', label='hosts')\n",
    "plt.xlabel(\"Impact parameter from QSO [kpc]\")\n",
    "plt.ylabel(r\"N$_{counts}$\")\n",
    "plt.legend(loc=2, fontsize=16)"
   ]
  },
  {
   "cell_type": "code",
   "execution_count": 153,
   "metadata": {},
   "outputs": [
    {
     "name": "stdout",
     "output_type": "stream",
     "text": [
      "0 [] nsa127226\n",
      "1 [] nsa130133\n",
      "2 [10] nsa133141\n",
      "[0.]\n",
      "16.509811953370264\n"
     ]
    },
    {
     "ename": "ValueError",
     "evalue": "all the input arrays must have same number of dimensions, but the array at index 0 has 1 dimension(s) and the array at index 1 has 0 dimension(s)",
     "output_type": "error",
     "traceback": [
      "\u001b[0;31m---------------------------------------------------------------------------\u001b[0m",
      "\u001b[0;31mValueError\u001b[0m                                Traceback (most recent call last)",
      "\u001b[0;32m<ipython-input-153-b01f9c67bc59>\u001b[0m in \u001b[0;36m<module>\u001b[0;34m\u001b[0m\n\u001b[1;32m     16\u001b[0m         \u001b[0mprint\u001b[0m\u001b[0;34m(\u001b[0m\u001b[0msep\u001b[0m\u001b[0;34m.\u001b[0m\u001b[0marcmin\u001b[0m\u001b[0;34m)\u001b[0m\u001b[0;34m\u001b[0m\u001b[0;34m\u001b[0m\u001b[0m\n\u001b[1;32m     17\u001b[0m         \u001b[0;31m#print(sep.arcmin, sep.arcmin*theta.value, z, cosmo.kpc_proper_per_arcmin(z))\u001b[0m\u001b[0;34m\u001b[0m\u001b[0;34m\u001b[0m\u001b[0;34m\u001b[0m\u001b[0m\n\u001b[0;32m---> 18\u001b[0;31m         \u001b[0mangsep\u001b[0m \u001b[0;34m=\u001b[0m \u001b[0mnp\u001b[0m\u001b[0;34m.\u001b[0m\u001b[0mconcatenate\u001b[0m\u001b[0;34m(\u001b[0m\u001b[0;34m(\u001b[0m\u001b[0mangsep\u001b[0m\u001b[0;34m,\u001b[0m\u001b[0msep\u001b[0m\u001b[0;34m.\u001b[0m\u001b[0marcmin\u001b[0m\u001b[0;34m)\u001b[0m\u001b[0;34m)\u001b[0m\u001b[0;34m\u001b[0m\u001b[0;34m\u001b[0m\u001b[0m\n\u001b[0m\u001b[1;32m     19\u001b[0m         \u001b[0mbkpc\u001b[0m\u001b[0;34m=\u001b[0m \u001b[0mnp\u001b[0m\u001b[0;34m.\u001b[0m\u001b[0mconcatenate\u001b[0m\u001b[0;34m(\u001b[0m\u001b[0mbkpc\u001b[0m\u001b[0;34m,\u001b[0m\u001b[0msep\u001b[0m\u001b[0;34m.\u001b[0m\u001b[0marcmin\u001b[0m\u001b[0;34m*\u001b[0m\u001b[0mtheta\u001b[0m\u001b[0;34m.\u001b[0m\u001b[0mvalue\u001b[0m\u001b[0;34m)\u001b[0m\u001b[0;34m\u001b[0m\u001b[0;34m\u001b[0m\u001b[0m\n\u001b[1;32m     20\u001b[0m \u001b[0mprint\u001b[0m\u001b[0;34m(\u001b[0m\u001b[0mbkpc\u001b[0m\u001b[0;34m)\u001b[0m\u001b[0;34m\u001b[0m\u001b[0;34m\u001b[0m\u001b[0m\n",
      "\u001b[0;32m<__array_function__ internals>\u001b[0m in \u001b[0;36mconcatenate\u001b[0;34m(*args, **kwargs)\u001b[0m\n",
      "\u001b[0;31mValueError\u001b[0m: all the input arrays must have same number of dimensions, but the array at index 0 has 1 dimension(s) and the array at index 1 has 0 dimension(s)"
     ]
    }
   ],
   "source": [
    "angsep = np.array([0.])\n",
    "bkpc = np.array([0.])\n",
    "\n",
    "for i in range(np.size(newqso['name'])):\n",
    "    #print(newqso['SAGA-host'][i])\n",
    "    n = newqso['SAGA-host'][i]\n",
    "    J = np.where(sats['HOSTID'] == n)[0]\n",
    "    print(i, J, n )\n",
    "    for j in J:\n",
    "        coo = SkyCoord(sats['RA'][j]*u.deg, sats['DEC'][j]*u.deg)\n",
    "        co_qso = SkyCoord(newqso['RA'][i]*u.deg,newqso['DEC'][i]*u.deg )\n",
    "        sep=co_qso.separation(coo)\n",
    "        z = sats['HOST_ZCOSMO'][j]\n",
    "        print(angsep)\n",
    "        theta=cosmo.kpc_proper_per_arcmin(z)\n",
    "        print(sep.arcmin)\n",
    "        #print(sep.arcmin, sep.arcmin*theta.value, z, cosmo.kpc_proper_per_arcmin(z))\n",
    "        angsep = np.concatenate((angsep,sep.arcmin))\n",
    "        bkpc= np.concatenate(bkpc,sep.arcmin*theta.value)\n",
    "print(bkpc)"
   ]
  },
  {
   "cell_type": "markdown",
   "metadata": {},
   "source": [
    "Hosts with satellites:\n",
    " - 85746 host 1 satellite\n",
    " - 13927 host ?? \n",
    "- 140594 host ??\n",
    "- 144953 host 5 satellites\n",
    "- 147606 host 9 satellites\n",
    "- 165082 host ???\n",
    "\n",
    "- 165707 host 3 satelites\n"
   ]
  },
  {
   "cell_type": "markdown",
   "metadata": {},
   "source": [
    "## Absorber identification\n"
   ]
  },
  {
   "cell_type": "raw",
   "metadata": {},
   "source": [
    "#### notes #####\n",
    "cd /Users/ahamanowicz/Dropbox/COS-SAGA/Targets/\n",
    "\n",
    "cd target-name/Data\n",
    "\n",
    "work on target-name_nbin3_coadd.fits\n",
    "    \n",
    "line id: lt_xspec\n",
    "\n",
    "usage: lt_xspec fits-file.fits\n",
    "\n",
    "mark all absorbers - rb_plot_spec.py\n",
    "\n",
    "usage:\n",
    "\n",
    "import matplotlib\n",
    "matplotlib.use('TkAgg')\n",
    "from linetools.spectra.xspectrum1d import XSpectrum1D  \n",
    "from GUIs import rb_plot_spec as r\n",
    "sp=XSpectrum1D.from_file('PG0832+251_nbin3_coadd.fits') \n",
    "r.rb_plot_spec(sp.wavelength.value,sp.flux.value,sp.sig.value) \n",
    "    \n",
    "(done outside becasue of GUI)\n",
    "\n",
    "in Dropbox folder Codes: line_id_launch.py filepat+filename -> will launch the rb_plot_spec.py\n",
    "\n",
    "Shift+s - smoothing\n",
    "cotrl+K - mark lines\n",
    "#### id notes #####\n",
    "\n",
    "First mark: MW z=0, QSO redshift and SAGA host redshift\n",
    "\n",
    "Round I - based on HI 1215 Round II - hI 2015 ROund II - OVI 1031/1037 CII 977\n",
    "\n"
   ]
  },
  {
   "cell_type": "code",
   "execution_count": 31,
   "metadata": {},
   "outputs": [],
   "source": [
    "directory='/Users/ahamanowicz/Dropbox/COS-SAGA/Targets/'"
   ]
  },
  {
   "cell_type": "markdown",
   "metadata": {},
   "source": [
    "## Line measurements"
   ]
  },
  {
   "cell_type": "code",
   "execution_count": 32,
   "metadata": {},
   "outputs": [],
   "source": [
    "\n",
    "hdul=fits.open(\"/Users/ahamanowicz/Desktop/COS-SAGA/cos-saga-I/85748/fos.fits.gz\")\n",
    "data=hdul[1].data"
   ]
  },
  {
   "cell_type": "code",
   "execution_count": 33,
   "metadata": {},
   "outputs": [
    {
     "data": {
      "text/plain": [
       "(-1e-15, 6e-15)"
      ]
     },
     "execution_count": 33,
     "metadata": {},
     "output_type": "execute_result"
    },
    {
     "data": {
      "image/png": "[encoded data removed]",
      "text/plain": [
       "<Figure size 864x432 with 1 Axes>"
      ]
     },
     "metadata": {
      "needs_background": "light"
     },
     "output_type": "display_data"
    }
   ],
   "source": [
    "plt.figure(figsize=(12,6))\n",
    "plt.plot(data['WAVELENGTH'], data['FLUX'])\n",
    "plt.xlim([2200,3000])\n",
    "plt.ylim([-1e-15,6e-15])"
   ]
  },
  {
   "cell_type": "code",
   "execution_count": 42,
   "metadata": {},
   "outputs": [
    {
     "name": "stdout",
     "output_type": "stream",
     "text": [
      "TON1129\n"
     ]
    },
    {
     "ename": "FileNotFoundError",
     "evalue": "[Errno 2] No such file or directory: 'TON1129_1215.67.p'",
     "output_type": "error",
     "traceback": [
      "\u001b[0;31m---------------------------------------------------------------------------\u001b[0m",
      "\u001b[0;31mFileNotFoundError\u001b[0m                         Traceback (most recent call last)",
      "\u001b[0;32m<ipython-input-42-670645f8074d>\u001b[0m in \u001b[0;36m<module>\u001b[0;34m\u001b[0m\n\u001b[1;32m     90\u001b[0m     \u001b[0;31m#axi.scatter(b_host[i],0,c='#992959', marker='s', s=100)\u001b[0m\u001b[0;34m\u001b[0m\u001b[0;34m\u001b[0m\u001b[0;34m\u001b[0m\u001b[0m\n\u001b[1;32m     91\u001b[0m     \u001b[0mprint\u001b[0m\u001b[0;34m(\u001b[0m\u001b[0ms\u001b[0m\u001b[0;34m)\u001b[0m\u001b[0;34m\u001b[0m\u001b[0;34m\u001b[0m\u001b[0m\n\u001b[0;32m---> 92\u001b[0;31m     \u001b[0msline\u001b[0m \u001b[0;34m=\u001b[0m \u001b[0mpickle\u001b[0m\u001b[0;34m.\u001b[0m\u001b[0mload\u001b[0m\u001b[0;34m(\u001b[0m\u001b[0mopen\u001b[0m\u001b[0;34m(\u001b[0m\u001b[0ms\u001b[0m\u001b[0;34m+\u001b[0m\u001b[0;34m'_1215.67.p'\u001b[0m\u001b[0;34m,\u001b[0m \u001b[0;34m'rb'\u001b[0m\u001b[0;34m)\u001b[0m\u001b[0;34m)\u001b[0m\u001b[0;34m\u001b[0m\u001b[0;34m\u001b[0m\u001b[0m\n\u001b[0m\u001b[1;32m     93\u001b[0m     \u001b[0mv\u001b[0m\u001b[0;34m=\u001b[0m\u001b[0msline\u001b[0m\u001b[0;34m.\u001b[0m\u001b[0mvelo\u001b[0m\u001b[0;34m\u001b[0m\u001b[0;34m\u001b[0m\u001b[0m\n\u001b[1;32m     94\u001b[0m     \u001b[0mf\u001b[0m\u001b[0;34m=\u001b[0m\u001b[0msline\u001b[0m\u001b[0;34m.\u001b[0m\u001b[0mfnorm\u001b[0m\u001b[0;34m\u001b[0m\u001b[0;34m\u001b[0m\u001b[0m\n",
      "\u001b[0;31mFileNotFoundError\u001b[0m: [Errno 2] No such file or directory: 'TON1129_1215.67.p'"
     ]
    },
    {
     "data": {
      "image/png": "[encoded data removed]",
      "text/plain": [
       "<Figure size 1080x576 with 4 Axes>"
      ]
     },
     "metadata": {
      "needs_background": "light"
     },
     "output_type": "display_data"
    }
   ],
   "source": [
    "fig = plt.figure(figsize=(15,8))\n",
    "\n",
    "#ax0 = plt.subplot2grid((3,8), (0, 0), colspan=3, rowspan=1)\n",
    "ax1 = plt.subplot2grid((3,5), (0, 0), colspan=2, rowspan=2)\n",
    "ax2 = plt.subplot2grid((3, 5), (0, 2), colspan=3,rowspan=1)\n",
    "ax3 = plt.subplot2grid((3, 5), (1, 2), colspan=3,rowspan=1)\n",
    "ax4 = plt.subplot2grid((3, 5), (2, 2), colspan=3,rowspan=1)\n",
    "# ax5 = plt.subplot2grid((3, 8), (0, 6), colspan=2,rowspan=1)\n",
    "# ax6 = plt.subplot2grid((3, 8), (1, 6), colspan=2,rowspan=1)\n",
    "# ax7 = plt.subplot2grid((3, 8), (2, 6), colspan=2,rowspan=1)\n",
    "\n",
    "velc='#a2798f'\n",
    "for ax in [ax1,ax2,ax3]:\n",
    "    ax.tick_params(axis='both', which='major', direction='in', length=8, width=3, bottom=True,top=True,\n",
    "                  left=True, right=True, reset=True)\n",
    "    ax.tick_params(axis='both', which='minor', direction='in', length=4, width=3, bottom=True,top=True,\n",
    "                  left=True, right=True, reset=True)\n",
    "### skymap\n",
    "ax1.set_xlim([-1,1])\n",
    "ax1.set_ylim([-1,1])\n",
    "ax1.set_xticks([-1,-0.5,0,0.5])\n",
    "ax1.set_xlabel(r\"$\\Delta$ RA [deg]\")\n",
    "ax1.set_ylabel(r\"$\\Delta$ Dec [deg]\")\n",
    "\n",
    "#host coords\n",
    "hostid=85746\n",
    "vhost=sightlines_table['host_helio_vel'][0]\n",
    "host_dist=sightlines_table['host distance'][0]\n",
    "b_host=[sightlines_table['b_host'][0],sightlines_table['b_host'][1],sightlines_table['b_host'][2]]\n",
    "cos_saga_hosts.add_index('HOSTID')\n",
    "\n",
    "m = cos_saga_hosts.loc_indices[hostid]\n",
    "rahost,dechost=cos_saga_hosts['RA'][m], cos_saga_hosts['DEC'][m]\n",
    "\n",
    "ax1.scatter(0,0,c='#992959', marker='s', s=150, label='host')\n",
    "ellipse=(1.86/60*10,0.67/60.*10,105 ) #host orientation\n",
    "ells=Ellipse(xy=(0,0), width=ellipse[0], height=ellipse[1], angle=ellipse[2]-90, ec='#992959', fc='None')\n",
    "ax1.add_artist(ells)\n",
    "#sightlines\n",
    "draq1,ddecq1 = rahost-sightlines_table['RA QSO'][0], dechost-sightlines_table['DEC QSO'][0]\n",
    "draq2,ddecq2 = rahost-sightlines_table['RA QSO'][1], dechost-sightlines_table['DEC QSO'][1]\n",
    "draq3,ddecq3 = rahost-sightlines_table['RA QSO'][2], dechost-sightlines_table['DEC QSO'][2]\n",
    "\n",
    "ax1.scatter([draq1,draq2,draq3],[ddecq1,ddecq2,ddecq3],c='k', marker='*', s=200)\n",
    "ax1.plot(-20,-20,c='k', marker='*', ms=20, label='QSO',ls='None' )\n",
    "\n",
    "\n",
    "#satelites\n",
    "cos_saga_satellites.add_index('HOSTID')\n",
    "sat_n = cos_saga_satellites.loc_indices[hostid]\n",
    "\n",
    "Dras,DDecs,DVs,Bs, Bh=[],[],[],[], []\n",
    "\n",
    "if np.size(sat_n)>1.:\n",
    "\n",
    "    for n in sat_n:\n",
    "        if cos_saga_satellites['HOSTID'][n] == hostid:\n",
    "            dras,ddecs = rahost-cos_saga_satellites['RA'][n],dechost-cos_saga_satellites['DEC'][n]\n",
    "            Dras,DDecs=np.append(Dras,dras),np.append(DDecs,ddecs)\n",
    "\n",
    "else:\n",
    "    dras,ddecs = rahost-cos_saga_satellites['RA'][sat_n],dechost-cos_saga_satellites['DEC'][sat_n]\n",
    "    Dras,DDecs=np.append(Dras,dras),np.append(DDecs,ddecs)\n",
    "\n",
    "\n",
    "ax1.scatter(Dras,DDecs,c='#ffb250', marker='o', s=150, label='satellite')\n",
    "\n",
    "ax1.legend(fontsize=12)\n",
    "\n",
    "#spectra & impact param\n",
    "for s,i,ax in zip(sightlines_table['sightline'][:3], range(3), [ax2,ax3,ax4]): # axi in, [ax5,ax6,ax7]):\n",
    "\n",
    "    qso_coord = SkyCoord(sightlines_table['RA QSO'][i]*u.deg,sightlines_table['DEC QSO'][i]*u.deg, distance=host_dist*u.Mpc)\n",
    "    DVs,Bs, Bh=[],[],[]\n",
    " \n",
    "    dvs = (cos_saga_satellites['SPEC_Z'][sat_n]*cnst.c - (vhost)*u.km/u.s).to(u.km/u.s)\n",
    "    DVs=np.append(DVs,dvs.value)\n",
    "\n",
    "    #impact parameter to the qso\n",
    "    sat_coord = SkyCoord(cos_saga_satellites['RA'][sat_n]*u.deg,cos_saga_satellites['DEC'][sat_n]*u.deg,distance=host_dist*u.Mpc)\n",
    "    sep = qso_coord.separation_3d(sat_coord)\n",
    "    sep=sep.to(u.kpc)\n",
    "    bs=sep.value#cos_saga_satellites['RHOST_KPC'][n] \n",
    "    Bh = cos_saga_satellites['RHOST_KPC'][sat_n] \n",
    "    Bs = np.append(Bs,bs)\n",
    "      \n",
    "    #axi.scatter(Bs,DVs,c='#ffb250', marker='o', s=100)\n",
    "    #ax4.scatter(Bh,DVs,c='#ffb250', marker='o', s=150) \n",
    "    \n",
    "    #axi.scatter(b_host[i],0,c='#992959', marker='s', s=100)\n",
    "    print(s)\n",
    "    sline = pickle.load(open(s+'_1215.67.p', 'rb'))\n",
    "    v=sline.velo\n",
    "    f=sline.fnorm\n",
    "    e = sline.enorm -0.6\n",
    "    ew_er = round(sline.W_e,2)\n",
    "    N = round(np.log10(sline.logN),2)\n",
    "    print(N)\n",
    "    ew = round(sline.W,2)\n",
    "    ax.annotate('W$_{r}$ = '+ str(ew)+' $\\pm$ '+str(ew_er), (0.1,0.8), xycoords='axes fraction', fontsize=15)\n",
    "    ax.set_xlim([-600,600])\n",
    "    #axi.set_ylim([-600,600])\n",
    "    ax.set_ylim([-.6,2.1])\n",
    "    #axi.set_xlim([-10,350])\n",
    "    #axi.axhline(0, ls='--', c='gray')\n",
    "    ax.axvline(0, ls='--',c='#992959')\n",
    "    ax.axhline(1.0, ls='--', c='gray')\n",
    "    ax.step(v,f, 'k')\n",
    "    ax.step(v,e, 'r')\n",
    "\n",
    "    if np.size(DVs) > 1:\n",
    "        for dvs in DVs:\n",
    "\n",
    "            ax.plot([dvs]*2, [1.2,1.5], color='#ffb250', lw=2)\n",
    "            print(dvs)\n",
    "    #other absorbers\n",
    "    else:\n",
    "        ax.plot([DVs[0]]*2, [1.2,1.5], color='#ffb250', lw=3)\n",
    "        print(DVs[0])\n",
    "\n",
    "#ax7.set_xlabel(\"QSO Impact Parameter [kpc]\", fontsize=18)\n",
    "\n",
    "ax4.set_xlabel(\"Velocity [km/s]\", fontsize=18)\n",
    "#ax4.set_xlabel(\"HOST Impact Parameter [kpc]\", fontsize=15)\n",
    "\n",
    "\n",
    "\n",
    "#     ax.set_yticks([0.0, 1.0, 2.0])\n",
    "# # axs[0].set_xticks(np.arange(-600,600, 50) , minor=True)\n",
    "\n",
    "# ax2.set_xticks([])\n",
    "# ax5.set_xticks([])\n",
    "# ax6.set_xticks([])\n",
    "# for ax in [ax5,ax6,ax7]:\n",
    "#     ax.yaxis.tick_right()\n",
    "#     ax.yaxis.set_label_position(\"right\")\n",
    "    \n",
    "# ax6.set_ylabel(\"$\\Delta$ v [km/s]\", fontsize=18, rotation=-90)\n",
    "\n",
    "ax1.annotate('HOST ID: '+str(hostid), xy=(0.1,0.9), xycoords='axes fraction')\n",
    "fig.savefig(\"85746-3sightlines.png\")"
   ]
  },
  {
   "cell_type": "code",
   "execution_count": null,
   "metadata": {},
   "outputs": [],
   "source": []
  },
  {
   "cell_type": "code",
   "execution_count": 60,
   "metadata": {},
   "outputs": [
    {
     "name": "stdout",
     "output_type": "stream",
     "text": [
      "TON1129\n",
      "34.20500650245603\n",
      "J0958+3224\n",
      "34.20500650245603\n",
      "J0959+3203\n",
      "34.20500650245603\n"
     ]
    },
    {
     "data": {
      "image/png": "[encoded data removed]",
      "text/plain": [
       "<Figure size 1080x576 with 4 Axes>"
      ]
     },
     "metadata": {
      "needs_background": "light"
     },
     "output_type": "display_data"
    }
   ],
   "source": [
    "#proposal version\n",
    "fig = plt.figure(figsize=(15,8))\n",
    "\n",
    "#ax0 = plt.subplot2grid((3,8), (0, 0), colspan=3, rowspan=1)\n",
    "ax1 = plt.subplot2grid((3,5), (0, 0), colspan=2, rowspan=2)\n",
    "ax2 = plt.subplot2grid((3, 5), (0, 2), colspan=3,rowspan=1)\n",
    "ax3 = plt.subplot2grid((3, 5), (1, 2), colspan=3,rowspan=1)\n",
    "ax4 = plt.subplot2grid((3, 5), (2, 2), colspan=3,rowspan=1)\n",
    "# ax5 = plt.subplot2grid((3, 8), (0, 6), colspan=2,rowspan=1)\n",
    "# ax6 = plt.subplot2grid((3, 8), (1, 6), colspan=2,rowspan=1)\n",
    "# ax7 = plt.subplot2grid((3, 8), (2, 6), colspan=2,rowspan=1)\n",
    "\n",
    "velc='#a2798f'\n",
    "for ax in [ax2,ax3]:\n",
    "    ax.tick_params(axis='both', which='major', direction='in', length=8, width=3, bottom=True,top=True,\n",
    "                  left=True, right=True, reset=True)\n",
    "    ax.tick_params(axis='both', which='minor', direction='in', length=4, width=3, bottom=True,top=True,\n",
    "                  left=True, right=True, reset=True)\n",
    "### skymap\n",
    "ax1.set_xlim([-1,1])\n",
    "ax1.set_ylim([-1,1])\n",
    "ax1.set_xticks([])\n",
    "ax1.set_yticks([])\n",
    "# ax1.set_xticks([-1,-0.5,0,0.5])\n",
    "ax1.set_xlabel(r\" RA \")\n",
    "ax1.set_ylabel(r\" Dec \")\n",
    "#host coords\n",
    "hostid=85746\n",
    "vhost=sightlines_table['host velocity (helio)'][0]\n",
    "host_dist=sightlines_table['Host distance [Mpc]'][0]\n",
    "b_host=[sightlines_table['impact parameter [kpc]'][0],sightlines_table['impact parameter [kpc]'][1],sightlines_table['impact parameter [kpc]'][2]]\n",
    "cos_saga_hosts.add_index('HOSTID')\n",
    "\n",
    "m = cos_saga_hosts.loc_indices[hostid]\n",
    "rahost,dechost=cos_saga_hosts['RA'][m], cos_saga_hosts['DEC'][m]\n",
    "\n",
    "ax1.scatter(0,0,c='#992959', marker='s', s=150, label='host')\n",
    "# ellipse=(1.86/60*10,0.67/60.*10,105 ) #host orientation\n",
    "# ells=Ellipse(xy=(0,0), width=ellipse[0], height=ellipse[1], angle=ellipse[2]-90, ec='#992959', fc='None')\n",
    "# ax1.add_artist(ells)\n",
    "#sightlines\n",
    "draq1,ddecq1 = rahost-sightlines_table['RA QSO'][0], dechost-sightlines_table['DEC QSO'][0]\n",
    "draq2,ddecq2 = rahost-sightlines_table['RA QSO'][1], dechost-sightlines_table['DEC QSO'][1]\n",
    "draq3,ddecq3 = rahost-sightlines_table['RA QSO'][2], dechost-sightlines_table['DEC QSO'][2]\n",
    "\n",
    "ax1.scatter([draq1,draq2,draq3],[ddecq1,ddecq2,ddecq3],c='k', marker='*', s=200)\n",
    "ax1.plot(-20,-20,c='k', marker='*', ms=20, label='QSO',ls='None' )\n",
    "\n",
    "\n",
    "#satelites\n",
    "cos_saga_satellites.add_index('HOSTID')\n",
    "sat_n = cos_saga_satellites.loc_indices[hostid]\n",
    "\n",
    "Dras,DDecs,DVs,Bs, Bh=[],[],[],[], []\n",
    "\n",
    "if np.size(sat_n)>1.:\n",
    "\n",
    "    for n in sat_n:\n",
    "        if cos_saga_satellites['HOSTID'][n] == hostid:\n",
    "            dras,ddecs = rahost-cos_saga_satellites['RA'][n],dechost-cos_saga_satellites['DEC'][n]\n",
    "            Dras,DDecs=np.append(Dras,dras),np.append(DDecs,ddecs)\n",
    "\n",
    "else:\n",
    "    dras,ddecs = rahost-cos_saga_satellites['RA'][sat_n],dechost-cos_saga_satellites['DEC'][sat_n]\n",
    "    Dras,DDecs=np.append(Dras,dras),np.append(DDecs,ddecs)\n",
    "\n",
    "\n",
    "ax1.scatter(Dras,DDecs,c='#ffb250', marker='o', s=150, label='satellite')\n",
    "\n",
    "ax1.legend(fontsize=12)\n",
    "\n",
    "#spectra & impact param\n",
    "for s,i,ax in zip(sightlines_table['QSO'][:3], range(3), [ax2,ax3,ax4]): # axi in, [ax5,ax6,ax7]):\n",
    "\n",
    "    qso_coord = SkyCoord(sightlines_table['RA QSO'][i]*u.deg,sightlines_table['DEC QSO'][i]*u.deg, distance=host_dist*u.Mpc)\n",
    "    DVs,Bs, Bh=[],[],[]\n",
    " \n",
    "    dvs = (cos_saga_satellites['SPEC_Z'][sat_n]*cnst.c - (vhost)*u.km/u.s).to(u.km/u.s)\n",
    "    DVs=np.append(DVs,dvs.value)\n",
    "\n",
    "    #impact parameter to the qso\n",
    "    sat_coord = SkyCoord(cos_saga_satellites['RA'][sat_n]*u.deg,cos_saga_satellites['DEC'][sat_n]*u.deg,distance=host_dist*u.Mpc)\n",
    "    sep = qso_coord.separation_3d(sat_coord)\n",
    "    sep=sep.to(u.kpc)\n",
    "    bs=sep.value#cos_saga_satellites['RHOST_KPC'][n] \n",
    "    Bh = cos_saga_satellites['RHOST_KPC'][sat_n] \n",
    "    Bs = np.append(Bs,bs)\n",
    "      \n",
    "    #axi.scatter(Bs,DVs,c='#ffb250', marker='o', s=100)\n",
    "    #ax4.scatter(Bh,DVs,c='#ffb250', marker='o', s=150) \n",
    "    \n",
    "    #axi.scatter(b_host[i],0,c='#992959', marker='s', s=100)\n",
    "    print(s)\n",
    "    sline = pickle.load(open(s+'_1215.67.p', 'rb'))\n",
    "    v=sline.velo\n",
    "    f=sline.fnorm\n",
    "    e = sline.enorm -0.6\n",
    "    ew_er = round(sline.W_e,2)\n",
    "    #N = round(np.log10(sline.logN),2)\n",
    "    ew = round(sline.W,2)\n",
    "    #ax.annotate('W$_{r}$ = '+ str(ew)+' $\\pm$ '+str(ew_er), (0.1,0.8), xycoords='axes fraction', fontsize=15)\n",
    "    ax.set_xlim([-600,600])\n",
    "    #axi.set_ylim([-600,600])\n",
    "    ax.set_ylim([-.6,2.1])\n",
    "    #axi.set_xlim([-10,350])\n",
    "    #axi.axhline(0, ls='--', c='gray')\n",
    "#     ax.axvline(0, ls='--',c='#992959')\n",
    "#     ax.axhline(1.0, ls='--', c='gray')\n",
    "    ax.step(v,f, 'k')\n",
    "    #ax.step(v,e, 'r')\n",
    "\n",
    "    if np.size(DVs) > 1:\n",
    "        for dvs in DVs:\n",
    "            print(dvs)\n",
    "            ax.plot([dvs]*2, [1.2,1.5], color='#ffb250', lw=2)\n",
    "    #other absorbers\n",
    "    else:\n",
    "        ax.plot([DVs[0]]*2, [1.2,1.5], color='#ffb250', lw=3)\n",
    "        print(DVs[0])\n",
    "#ax7.set_xlabel(\"QSO Impact Parameter [kpc]\", fontsize=18)\n",
    "\n",
    "ax4.set_xlabel(\"Velocity [km/s]\", fontsize=18)\n",
    "#ax4.set_xlabel(\"HOST Impact Parameter [kpc]\", fontsize=15)\n",
    "\n",
    "\n",
    "\n",
    "#     ax.set_yticks([0.0, 1.0, 2.0])\n",
    "# # axs[0].set_xticks(np.arange(-600,600, 50) , minor=True)\n",
    "\n",
    "# ax2.set_xticks([])\n",
    "# ax5.set_xticks([])\n",
    "# ax6.set_xticks([])\n",
    "# for ax in [ax5,ax6,ax7]:\n",
    "#     ax.yaxis.tick_right()\n",
    "#     ax.yaxis.set_label_position(\"right\")\n",
    "    \n",
    "# ax6.set_ylabel(\"$\\Delta$ v [km/s]\", fontsize=18, rotation=-90)\n",
    "\n",
    "#ax1.annotate('HOST ID: '+str(hostid), xy=(0.1,0.9), xycoords='axes fraction')\n",
    "fig.savefig(\"85746-3sightlines.png\")"
   ]
  },
  {
   "cell_type": "code",
   "execution_count": 61,
   "metadata": {},
   "outputs": [
    {
     "name": "stdout",
     "output_type": "stream",
     "text": [
      "J1700+2237\n",
      "15.544263800401241\n",
      "82.30153758183309\n",
      "128.56583405675366\n",
      "189.12395288660005\n",
      "150.65418006989734\n",
      "218.8035624217298\n",
      "-167.02940711057\n",
      "-48.0119420388639\n",
      "32.3324900799077\n"
     ]
    },
    {
     "data": {
      "image/png": "[encoded data removed]",
      "text/plain": [
       "<Figure size 1080x432 with 2 Axes>"
      ]
     },
     "metadata": {
      "needs_background": "light"
     },
     "output_type": "display_data"
    }
   ],
   "source": [
    "#proposal\n",
    "fig = plt.figure(figsize=(15,6))\n",
    "\n",
    "ax1 = plt.subplot2grid((2,5), (0, 0), colspan=2, rowspan=2)\n",
    "ax2 = plt.subplot2grid((2,5), (1, 2), colspan=3,rowspan=1)\n",
    "#ax3 = plt.subplot2grid((2, 5), (1, 2), colspan=3,rowspan=1)\n",
    "# ax4 = plt.subplot2grid((2, 6), (0, 4), colspan=2,rowspan=1)\n",
    "# ax5 = plt.subplot2grid((2, 6), (1, 4), colspan=2,rowspan=1)\n",
    "\n",
    "velc='#a2798f'\n",
    "for ax in [ax2]:\n",
    "    ax.tick_params(axis='both', which='major', direction='in', length=8, width=3, bottom=True,top=True,\n",
    "                  left=True, right=True, reset=True)\n",
    "    ax.tick_params(axis='both', which='minor', direction='in', length=4, width=3, bottom=True,top=True,\n",
    "                  left=True, right=True, reset=True)\n",
    "### skymap\n",
    "ax1.set_xlim([-1,1])\n",
    "ax1.set_ylim([-1,1])\n",
    "ax1.set_xticks([])\n",
    "ax1.set_yticks([])\n",
    "ax1.set_xlabel(r\" RA \")\n",
    "ax1.set_ylabel(r\" Dec \")\n",
    "\n",
    "#host coords\n",
    "hostid=147606\n",
    "J=9\n",
    "vhost=sightlines_table['host velocity (helio)'][J]\n",
    "host_dist=sightlines_table['Host distance [Mpc]'][J]\n",
    "b_host=[sightlines_table['impact parameter [kpc]'][J]]\n",
    "cos_saga_hosts.add_index('HOSTID')\n",
    "\n",
    "m = cos_saga_hosts.loc_indices[hostid]\n",
    "rahost,dechost=cos_saga_hosts['RA'][m], cos_saga_hosts['DEC'][m]\n",
    "\n",
    "ax1.scatter(0,0,c='#992959', marker='s', s=150, label='host')\n",
    "ellipse=[1.37/6.,0.77/6., 125]#host orientation\n",
    "ells=Ellipse(xy=(0,0), width=ellipse[0], height=ellipse[1], angle=ellipse[2]-90, ec='#992959', fc='None')\n",
    "#ax1.add_artist(ells)\n",
    "#sightlines\n",
    "draq1,ddecq1 = rahost-sightlines_table['RA QSO'][J], dechost-sightlines_table['DEC QSO'][J]\n",
    "\n",
    "ax1.scatter([draq1],[ddecq1],c='k', marker='*', s=200)\n",
    "ax1.plot(-20,-20,c='k', marker='*', ms=20, label='QSO',ls='None' )\n",
    "\n",
    "#satelites\n",
    "cos_saga_satellites.add_index('HOSTID')\n",
    "sat_n = cos_saga_satellites.loc_indices[hostid]\n",
    "\n",
    "Dras,DDecs,DVs,Bs, Bh=[],[],[],[], []\n",
    "\n",
    "for n in sat_n:\n",
    "    if cos_saga_satellites['HOSTID'][n] == hostid:\n",
    "        dras,ddecs = rahost-cos_saga_satellites['RA'][n],dechost-cos_saga_satellites['DEC'][n]\n",
    "        Dras,DDecs=np.append(Dras,dras),np.append(DDecs,ddecs)\n",
    "\n",
    "\n",
    "ax1.scatter(Dras,DDecs,c='#ffb250', marker='o', s=150, label='satellite')\n",
    "\n",
    "ax1.legend(fontsize=12)\n",
    "\n",
    "#spectra & impact param\n",
    "ax=ax2\n",
    "s = sightlines_table['QSO'][J]\n",
    "i=J\n",
    "\n",
    "qso_coord = SkyCoord(sightlines_table['RA QSO'][i]*u.deg,sightlines_table['DEC QSO'][i]*u.deg, distance=host_dist*u.Mpc)\n",
    "DVs,Bs, Bh=[],[],[]\n",
    "if np.size(sat_n)>1.:\n",
    "\n",
    "    for n in sat_n:\n",
    "        if cos_saga_satellites['HOSTID'][n] == hostid:\n",
    "            dvs = (cos_saga_satellites['SPEC_Z'][n]*cnst.c - (vhost)*u.km/u.s).to(u.km/u.s)\n",
    "\n",
    "            DVs=np.append(DVs,dvs.value)\n",
    "\n",
    "            #impact parameter to the qso\n",
    "            sat_coord = SkyCoord(cos_saga_satellites['RA'][n]*u.deg,cos_saga_satellites['DEC'][n]*u.deg,distance=host_dist*u.Mpc)\n",
    "            sep = qso_coord.separation_3d(sat_coord)\n",
    "            sep=sep.to(u.kpc)\n",
    "            bs=sep.value\n",
    "            #bs=cos_saga_satellites['RHOST_KPC'][n] \n",
    "            Bs = np.append(Bs,bs)\n",
    "            bh = cos_saga_satellites['RHOST_KPC'][n] \n",
    "            Bh = np.append(Bh,bh)\n",
    "\n",
    "\n",
    "\n",
    "#axi.scatter(Bs,DVs,c='#ffb250', marker='o', s=100)\n",
    "#ax4.scatter(Bh,DVs,c='#ffb250', marker='o', s=150) \n",
    "\n",
    "#axi.scatter(b_host[i-6],0,c='#992959', marker='s', s=100)\n",
    "print(s)\n",
    "sline = pickle.load(open(s+'_1215.67.p', 'rb'))\n",
    "v=sline.velo\n",
    "f=sline.fnorm\n",
    "e = sline.enorm -0.6\n",
    "#N = round(np.log10(sline.logN),2)\n",
    "ew = round(sline.W,2)\n",
    "ew_er = round(sline.W_e,2)\n",
    "\n",
    "#ax.annotate('W$_{r}$ = '+ str(ew) + ' $\\pm$ '+str(ew_er), (0.05,0.85), xycoords='axes fraction', fontsize=15)\n",
    "ax.set_xlim([-600,600])\n",
    "#axi.set_ylim([-600,600])\n",
    "ax.set_ylim([-.6,2.1])\n",
    "#axi.set_xlim([-10,350])\n",
    "#axi.axhline(0, ls='--', c='gray')\n",
    "ax.axvline(0, ls='--',c='#992959')\n",
    "ax.axhline(1.0, ls='--', c='gray')\n",
    "ax.step(v,f, 'k')\n",
    "#ax.step(v,e, 'r')\n",
    "if np.size(DVs) > 1:\n",
    "    for dvs in DVs:\n",
    "\n",
    "        ax.plot([dvs]*2, [1.2,1.5], color='#ffb250')\n",
    "        print(dvs)\n",
    "#other absorbers\n",
    "else:\n",
    "    ax.plot([DVs[0]]*2, [1.2,1.5], color='#ffb250')\n",
    "    print(DVs[0])\n",
    "\n",
    "#ax5.set_xlabel(\"QSO Impact Parameter [kpc]\", fontsize=18)\n",
    "ax2.set_xlabel(\"Velocity [km/s]\", fontsize=18)\n",
    "\n",
    "# for ax in [ax4,ax5]:\n",
    "#     ax.yaxis.tick_right()\n",
    "#     ax.yaxis.set_label_position(\"right\")\n",
    "    \n",
    "# ax4.set_ylabel(\"$\\Delta$ v [km/s]\", fontsize=18)\n",
    "ax1.plot([-0.8,0.0], [-.8,-.8], lw=3,color='k')\n",
    "ax1.annotate(\"300 kpc\", xy=(-0.6,-0.75))\n",
    "#ax1.annotate('HOST ID: '+str(hostid), xy=(0.1,0.9), xycoords='axes fraction')\n",
    "fig.savefig(str(hostid)+'1sightline.png')\n"
   ]
  },
  {
   "cell_type": "code",
   "execution_count": 62,
   "metadata": {},
   "outputs": [
    {
     "name": "stdout",
     "output_type": "stream",
     "text": [
      "J1429+0321\n",
      "14.28\n",
      "-6.885427462007851\n",
      "-119.92906897744211\n",
      "192.65058662986104\n",
      "81.83137517354125\n",
      "-101.64160912245885\n",
      "-202.39777707882993\n",
      "141.66713174123598\n",
      "27.269027900557965\n",
      "119.509321274227\n",
      "190.5999762378952\n",
      "-131.39996783940447\n",
      "20.40138227269403\n",
      "J1431+0301\n",
      "14.1\n",
      "-6.885427462007851\n",
      "-119.92906897744211\n",
      "192.65058662986104\n",
      "81.83137517354125\n",
      "-101.64160912245885\n",
      "-202.39777707882993\n",
      "141.66713174123598\n",
      "27.269027900557965\n",
      "119.509321274227\n",
      "190.5999762378952\n",
      "-131.39996783940447\n",
      "20.40138227269403\n"
     ]
    },
    {
     "data": {
      "image/png": "[encoded data removed]",
      "text/plain": [
       "<Figure size 1296x432 with 3 Axes>"
      ]
     },
     "metadata": {
      "needs_background": "light"
     },
     "output_type": "display_data"
    }
   ],
   "source": [
    "fig = plt.figure(figsize=(18,6))\n",
    "\n",
    "ax1 = plt.subplot2grid((2,5), (0, 0), colspan=2, rowspan=2)\n",
    "ax2 = plt.subplot2grid((2,5), (0, 2), colspan=3,rowspan=1)\n",
    "ax3 = plt.subplot2grid((2, 5), (1, 2), colspan=3,rowspan=1)\n",
    "# ax4 = plt.subplot2grid((2, 6), (0, 4), colspan=2,rowspan=1)\n",
    "# ax5 = plt.subplot2grid((2, 6), (1, 4), colspan=2,rowspan=1)\n",
    "\n",
    "velc='#a2798f'\n",
    "for ax in [ax1,ax2,ax3]:\n",
    "    ax.tick_params(axis='both', which='major', direction='in', length=8, width=3, bottom=True,top=True,\n",
    "                  left=True, right=True, reset=True)\n",
    "    ax.tick_params(axis='both', which='minor', direction='in', length=4, width=3, bottom=True,top=True,\n",
    "                  left=True, right=True, reset=True)\n",
    "### skymap\n",
    "ax1.set_xlim([-1,1])\n",
    "ax1.set_ylim([-1,1])\n",
    "ax1.set_xticks([-1,-0.5,0,0.5])\n",
    "ax1.set_xlabel(r\"$\\Delta$ RA [deg]\")\n",
    "ax1.set_ylabel(r\"$\\Delta$ Dec [deg]\")\n",
    "\n",
    "#host coords\n",
    "hostid=165082\n",
    "J=6\n",
    "vhost=sightlines_table['host velocity (helio)'][J]\n",
    "host_dist=sightlines_table['Host distance [Mpc]'][J]\n",
    "b_host=[sightlines_table['impact parameter [kpc]'][J],sightlines_table['impact parameter [kpc]'][J+1]]\n",
    "cos_saga_hosts.add_index('HOSTID')\n",
    "\n",
    "m = cos_saga_hosts.loc_indices[hostid]\n",
    "rahost,dechost=cos_saga_hosts['RA'][m], cos_saga_hosts['DEC'][m]\n",
    "\n",
    "ax1.scatter(0,0,c='#992959', marker='s', s=150, label='host')\n",
    "ellipse=(1.41/6., 1.297/6., 145)#host orientation\n",
    "ells=Ellipse(xy=(0,0), width=ellipse[0], height=ellipse[1], angle=ellipse[2]-90, ec='#992959', fc='None')\n",
    "ax1.add_artist(ells)\n",
    "#sightlines\n",
    "draq1,ddecq1 = rahost-sightlines_table['RA QSO'][J], dechost-sightlines_table['DEC QSO'][J]\n",
    "draq2,ddecq2 = rahost-sightlines_table['RA QSO'][J+1], dechost-sightlines_table['DEC QSO'][J+1]\n",
    "\n",
    "ax1.scatter([draq1,draq2],[ddecq1,ddecq2],c='k', marker='*', s=200)\n",
    "ax1.plot(-20,-20,c='k', marker='*', ms=20, label='QSO',ls='None' )\n",
    "\n",
    "#satelites\n",
    "cos_saga_satellites.add_index('HOSTID')\n",
    "sat_n = cos_saga_satellites.loc_indices[hostid]\n",
    "\n",
    "Dras,DDecs,DVs,Bs, Bh=[],[],[],[], []\n",
    "\n",
    "for n in sat_n:\n",
    "    if cos_saga_satellites['HOSTID'][n] == hostid:\n",
    "        dras,ddecs = rahost-cos_saga_satellites['RA'][n],dechost-cos_saga_satellites['DEC'][n]\n",
    "        Dras,DDecs=np.append(Dras,dras),np.append(DDecs,ddecs)\n",
    "\n",
    "\n",
    "ax1.scatter(Dras,DDecs,c='#ffb250', marker='o', s=150, label='satellite')\n",
    "\n",
    "ax1.legend(fontsize=12)\n",
    "\n",
    "#spectra & impact param\n",
    "for s,i,ax in zip(sightlines_table['QSO'][6:8], range(6,9), [ax2,ax3]): #axi in, [ax4,ax5]):\n",
    "\n",
    "    qso_coord = SkyCoord(sightlines_table['RA QSO'][i]*u.deg,sightlines_table['DEC QSO'][i]*u.deg, distance=host_dist*u.Mpc)\n",
    "    DVs,Bs, Bh=[],[],[]\n",
    "    if np.size(sat_n)>1.:\n",
    "\n",
    "        for n in sat_n:\n",
    "            if cos_saga_satellites['HOSTID'][n] == hostid:\n",
    "                dvs = (cos_saga_satellites['SPEC_Z'][n]*cnst.c - (vhost)*u.km/u.s).to(u.km/u.s)\n",
    "\n",
    "                DVs=np.append(DVs,dvs.value)\n",
    "\n",
    "                #impact parameter to the qso\n",
    "                sat_coord = SkyCoord(cos_saga_satellites['RA'][n]*u.deg,cos_saga_satellites['DEC'][n]*u.deg,distance=host_dist*u.Mpc)\n",
    "                sep = qso_coord.separation_3d(sat_coord)\n",
    "                sep=sep.to(u.kpc)\n",
    "                bs=sep.value\n",
    "                #bs=cos_saga_satellites['RHOST_KPC'][n] \n",
    "                Bs = np.append(Bs,bs)\n",
    "                bh = cos_saga_satellites['RHOST_KPC'][n] \n",
    "                Bh = np.append(Bh,bh)\n",
    "\n",
    "\n",
    "    \n",
    "    #axi.scatter(Bs,DVs,c='#ffb250', marker='o', s=100)\n",
    "    #ax4.scatter(Bh,DVs,c='#ffb250', marker='o', s=150) \n",
    "    \n",
    "    #axi.scatter(b_host[i-6],0,c='#992959', marker='s', s=100)\n",
    "    print(s)\n",
    "    sline = pickle.load(open(s+'_1215.67.p', 'rb'))\n",
    "    v=sline.velo\n",
    "    f=sline.fnorm\n",
    "    e = sline.enorm -0.6\n",
    "    #N = round(np.log10(sline.logN),2)\n",
    "    N = round(np.log10(sline.logN),2)\n",
    "    print(N)\n",
    "    ew = round(sline.W,2)\n",
    "    ew_er = round(sline.W_e,2)\n",
    "\n",
    "    ax.annotate('W$_{r}$ = '+ str(ew) + ' $\\pm$ '+str(ew_er), (0.05,0.85), xycoords='axes fraction', fontsize=15)\n",
    "    ax.set_xlim([-600,600])\n",
    "    #axi.set_ylim([-600,600])\n",
    "    ax.set_ylim([-.6,2.1])\n",
    "    #axi.set_xlim([-10,350])\n",
    "    #axi.axhline(0, ls='--', c='gray')\n",
    "    ax.axvline(0, ls='--',c='#992959')\n",
    "    ax.axhline(1.0, ls='--', c='gray')\n",
    "    ax.step(v,f, 'k')\n",
    "    ax.step(v,e, 'r')\n",
    "    if np.size(DVs) > 1:\n",
    "        for dvs in DVs:\n",
    "            print(dvs)\n",
    "            ax.plot([dvs]*2, [1.2,1.5], color='#ffb250')\n",
    "    #other absorbers\n",
    "    else:\n",
    "        print(DVs[0])\n",
    "        ax.plot([DVs[0]]*2, [1.2,1.5], color='#ffb250')\n",
    "\n",
    "#ax5.set_xlabel(\"QSO Impact Parameter [kpc]\", fontsize=18)\n",
    "ax3.set_xlabel(\"Velocity [km/s]\", fontsize=18)\n",
    "\n",
    "# for ax in [ax4,ax5]:\n",
    "#     ax.yaxis.tick_right()\n",
    "#     ax.yaxis.set_label_position(\"right\")\n",
    "    \n",
    "# ax4.set_ylabel(\"$\\Delta$ v [km/s]\", fontsize=18)\n",
    "\n",
    "ax1.annotate('HOST ID: '+str(hostid), xy=(0.1,0.9), xycoords='axes fraction')\n",
    "\n",
    "fig.savefig(\"165082-2sightlines.png\")"
   ]
  },
  {
   "cell_type": "code",
   "execution_count": 63,
   "metadata": {},
   "outputs": [
    {
     "name": "stdout",
     "output_type": "stream",
     "text": [
      "J1451+5914\n",
      "14.22\n",
      "37.815072702476755\n",
      "60.04846492547263\n",
      "10.295660521777346\n"
     ]
    },
    {
     "data": {
      "image/png": "[encoded data removed]",
      "text/plain": [
       "<Figure size 1080x432 with 2 Axes>"
      ]
     },
     "metadata": {
      "needs_background": "light"
     },
     "output_type": "display_data"
    }
   ],
   "source": [
    "fig = plt.figure(figsize=(15,6))\n",
    "\n",
    "ax1 = plt.subplot2grid((2,5), (0, 0), colspan=2, rowspan=2)\n",
    "ax2 = plt.subplot2grid((2,5), (0, 2), colspan=3,rowspan=1)\n",
    "#ax3 = plt.subplot2grid((2, 5), (1, 2), colspan=3,rowspan=1)\n",
    "# ax4 = plt.subplot2grid((2, 6), (0, 4), colspan=2,rowspan=1)\n",
    "# ax5 = plt.subplot2grid((2, 6), (1, 4), colspan=2,rowspan=1)\n",
    "\n",
    "velc='#a2798f'\n",
    "for ax in [ax1,ax2]:\n",
    "    ax.tick_params(axis='both', which='major', direction='in', length=8, width=3, bottom=True,top=True,\n",
    "                  left=True, right=True, reset=True)\n",
    "    ax.tick_params(axis='both', which='minor', direction='in', length=4, width=3, bottom=True,top=True,\n",
    "                  left=True, right=True, reset=True)\n",
    "### skymap\n",
    "ax1.set_xlim([-1,1])\n",
    "ax1.set_ylim([-1,1])\n",
    "ax1.set_xticks([-1,-0.5,0,0.5])\n",
    "ax1.set_xlabel(r\"$\\Delta$ RA [deg]\")\n",
    "ax1.set_ylabel(r\"$\\Delta$ Dec [deg]\")\n",
    "\n",
    "#host coords\n",
    "hostid=165707\n",
    "J=8\n",
    "vhost=sightlines_table['host velocity (helio)'][J]\n",
    "host_dist=sightlines_table['Host distance [Mpc]'][J]\n",
    "b_host=[sightlines_table['impact parameter [kpc]'][J],sightlines_table['impact parameter [kpc]'][J+1]]\n",
    "cos_saga_hosts.add_index('HOSTID')\n",
    "\n",
    "m = cos_saga_hosts.loc_indices[hostid]\n",
    "rahost,dechost=cos_saga_hosts['RA'][m], cos_saga_hosts['DEC'][m]\n",
    "\n",
    "ax1.scatter(0,0,c='#992959', marker='s', s=150, label='host')\n",
    "ellipse=[0.85/3., 0.3/3., 145]#host orientation\n",
    "ells=Ellipse(xy=(0,0), width=ellipse[0], height=ellipse[1], angle=ellipse[2]-90, ec='#992959', fc='None')\n",
    "ax1.add_artist(ells)\n",
    "#sightlines\n",
    "draq1,ddecq1 = rahost-sightlines_table['RA QSO'][J], dechost-sightlines_table['DEC QSO'][J]\n",
    "draq2,ddecq2 = rahost-sightlines_table['RA QSO'][J+1], dechost-sightlines_table['DEC QSO'][J+1]\n",
    "\n",
    "ax1.scatter([draq1,draq2],[ddecq1,ddecq2],c='k', marker='*', s=200)\n",
    "ax1.plot(-20,-20,c='k', marker='*', ms=20, label='QSO',ls='None' )\n",
    "\n",
    "#satelites\n",
    "cos_saga_satellites.add_index('HOSTID')\n",
    "sat_n = cos_saga_satellites.loc_indices[hostid]\n",
    "\n",
    "Dras,DDecs,DVs,Bs, Bh=[],[],[],[], []\n",
    "\n",
    "for n in sat_n:\n",
    "    if cos_saga_satellites['HOSTID'][n] == hostid:\n",
    "        dras,ddecs = rahost-cos_saga_satellites['RA'][n],dechost-cos_saga_satellites['DEC'][n]\n",
    "        Dras,DDecs=np.append(Dras,dras),np.append(DDecs,ddecs)\n",
    "\n",
    "\n",
    "ax1.scatter(Dras,DDecs,c='#ffb250', marker='o', s=150, label='satellite')\n",
    "\n",
    "ax1.legend(fontsize=12)\n",
    "\n",
    "#spectra & impact param\n",
    "ax=ax2\n",
    "s = sightlines_table['QSO'][8]\n",
    "i=8\n",
    "\n",
    "qso_coord = SkyCoord(sightlines_table['RA QSO'][i]*u.deg,sightlines_table['DEC QSO'][i]*u.deg, distance=host_dist*u.Mpc)\n",
    "DVs,Bs, Bh=[],[],[]\n",
    "if np.size(sat_n)>1.:\n",
    "\n",
    "    for n in sat_n:\n",
    "        if cos_saga_satellites['HOSTID'][n] == hostid:\n",
    "            dvs = (cos_saga_satellites['SPEC_Z'][n]*cnst.c - (vhost)*u.km/u.s).to(u.km/u.s)\n",
    "\n",
    "            DVs=np.append(DVs,dvs.value)\n",
    "\n",
    "            #impact parameter to the qso\n",
    "            sat_coord = SkyCoord(cos_saga_satellites['RA'][n]*u.deg,cos_saga_satellites['DEC'][n]*u.deg,distance=host_dist*u.Mpc)\n",
    "            sep = qso_coord.separation_3d(sat_coord)\n",
    "            sep=sep.to(u.kpc)\n",
    "            bs=sep.value\n",
    "            #bs=cos_saga_satellites['RHOST_KPC'][n] \n",
    "            Bs = np.append(Bs,bs)\n",
    "            bh = cos_saga_satellites['RHOST_KPC'][n] \n",
    "            Bh = np.append(Bh,bh)\n",
    "\n",
    "\n",
    "\n",
    "#axi.scatter(Bs,DVs,c='#ffb250', marker='o', s=100)\n",
    "#ax4.scatter(Bh,DVs,c='#ffb250', marker='o', s=150) \n",
    "\n",
    "#axi.scatter(b_host[i-6],0,c='#992959', marker='s', s=100)\n",
    "print(s)\n",
    "sline = pickle.load(open(s+'_1215.67.p', 'rb'))\n",
    "v=sline.velo\n",
    "f=sline.fnorm\n",
    "e = sline.enorm -0.6\n",
    "N = round(np.log10(sline.logN),2)\n",
    "print(N)\n",
    "ew = round(sline.W,2)\n",
    "ew_er = round(sline.W_e,2)\n",
    "\n",
    "ax.annotate('W$_{r}$ = '+ str(ew) + ' $\\pm$ '+str(ew_er), (0.05,0.85), xycoords='axes fraction', fontsize=15)\n",
    "ax.set_xlim([-600,600])\n",
    "#axi.set_ylim([-600,600])\n",
    "ax.set_ylim([-.6,2.1])\n",
    "#axi.set_xlim([-10,350])\n",
    "#axi.axhline(0, ls='--', c='gray')\n",
    "ax.axvline(0, ls='--',c='#992959')\n",
    "ax.axhline(1.0, ls='--', c='gray')\n",
    "ax.step(v,f, 'k')\n",
    "ax.step(v,e, 'r')\n",
    "if np.size(DVs) > 1:\n",
    "    for dvs in DVs:\n",
    "        print(dvs)\n",
    "        ax.plot([dvs]*2, [1.2,1.5], color='#ffb250')\n",
    "#other absorbers\n",
    "else:\n",
    "    ax.plot([DVs[0]]*2, [1.2,1.5], color='#ffb250')\n",
    "    print(DVs[0])\n",
    "#ax5.set_xlabel(\"QSO Impact Parameter [kpc]\", fontsize=18)\n",
    "ax2.set_xlabel(\"Velocity [km/s]\", fontsize=18)\n",
    "\n",
    "# for ax in [ax4,ax5]:\n",
    "#     ax.yaxis.tick_right()\n",
    "#     ax.yaxis.set_label_position(\"right\")\n",
    "    \n",
    "# ax4.set_ylabel(\"$\\Delta$ v [km/s]\", fontsize=18)\n",
    "\n",
    "ax1.annotate('HOST ID: '+str(hostid), xy=(0.1,0.9), xycoords='axes fraction')\n",
    "fig.savefig(str(hostid)+'1sightline.png')\n"
   ]
  },
  {
   "cell_type": "code",
   "execution_count": 64,
   "metadata": {},
   "outputs": [
    {
     "name": "stdout",
     "output_type": "stream",
     "text": [
      "SBS1421+511\n",
      "13.85\n",
      "75.24162515848224\n",
      "169.37633614908344\n",
      "-65.96065073003247\n",
      "0.2934983735289425\n",
      "-180.18153955119755\n"
     ]
    },
    {
     "data": {
      "image/png": "[encoded data removed]",
      "text/plain": [
       "<Figure size 1080x432 with 2 Axes>"
      ]
     },
     "metadata": {
      "needs_background": "light"
     },
     "output_type": "display_data"
    }
   ],
   "source": [
    "fig = plt.figure(figsize=(15,6))\n",
    "\n",
    "ax1 = plt.subplot2grid((2,5), (0, 0), colspan=2, rowspan=2)\n",
    "ax2 = plt.subplot2grid((2,5), (0, 2), colspan=3,rowspan=1)\n",
    "#ax3 = plt.subplot2grid((2, 5), (1, 2), colspan=3,rowspan=1)\n",
    "# ax4 = plt.subplot2grid((2, 6), (0, 4), colspan=2,rowspan=1)\n",
    "# ax5 = plt.subplot2grid((2, 6), (1, 4), colspan=2,rowspan=1)\n",
    "\n",
    "velc='#a2798f'\n",
    "for ax in [ax1,ax2]:\n",
    "    ax.tick_params(axis='both', which='major', direction='in', length=8, width=3, bottom=True,top=True,\n",
    "                  left=True, right=True, reset=True)\n",
    "    ax.tick_params(axis='both', which='minor', direction='in', length=4, width=3, bottom=True,top=True,\n",
    "                  left=True, right=True, reset=True)\n",
    "### skymap\n",
    "ax1.set_xlim([-1,1])\n",
    "ax1.set_ylim([-1,1])\n",
    "ax1.set_xticks([-1,-0.5,0,0.5])\n",
    "ax1.set_xlabel(r\"$\\Delta$ RA [deg]\")\n",
    "ax1.set_ylabel(r\"$\\Delta$ Dec [deg]\")\n",
    "\n",
    "#host coords\n",
    "hostid=144953\n",
    "J=5\n",
    "vhost=sightlines_table['host velocity (helio)'][J]\n",
    "host_dist=sightlines_table['Host distance [Mpc]'][J]\n",
    "b_host=[sightlines_table['impact parameter [kpc]'][J],sightlines_table['impact parameter [kpc]'][J+1]]\n",
    "cos_saga_hosts.add_index('HOSTID')\n",
    "\n",
    "m = cos_saga_hosts.loc_indices[hostid]\n",
    "rahost,dechost=cos_saga_hosts['RA'][m], cos_saga_hosts['DEC'][m]\n",
    "\n",
    "ax1.scatter(0,0,c='#992959', marker='s', s=150, label='host')\n",
    "ellipse=[1.05/6., 0.65/6., 170]#host orientation\n",
    "ells=Ellipse(xy=(0,0), width=ellipse[0], height=ellipse[1], angle=ellipse[2]-90, ec='#992959', fc='None')\n",
    "ax1.add_artist(ells)\n",
    "#sightlines\n",
    "draq1,ddecq1 = rahost-sightlines_table['RA QSO'][J], dechost-sightlines_table['DEC QSO'][J]\n",
    "draq2,ddecq2 = rahost-sightlines_table['RA QSO'][J+1], dechost-sightlines_table['DEC QSO'][J+1]\n",
    "\n",
    "ax1.scatter([draq1,draq2],[ddecq1,ddecq2],c='k', marker='*', s=200)\n",
    "ax1.plot(-20,-20,c='k', marker='*', ms=20, label='QSO',ls='None' )\n",
    "\n",
    "#satelites\n",
    "cos_saga_satellites.add_index('HOSTID')\n",
    "sat_n = cos_saga_satellites.loc_indices[hostid]\n",
    "\n",
    "Dras,DDecs,DVs,Bs, Bh=[],[],[],[], []\n",
    "\n",
    "for n in sat_n:\n",
    "    if cos_saga_satellites['HOSTID'][n] == hostid:\n",
    "        dras,ddecs = rahost-cos_saga_satellites['RA'][n],dechost-cos_saga_satellites['DEC'][n]\n",
    "        Dras,DDecs=np.append(Dras,dras),np.append(DDecs,ddecs)\n",
    "\n",
    "\n",
    "ax1.scatter(Dras,DDecs,c='#ffb250', marker='o', s=150, label='satellite')\n",
    "\n",
    "ax1.legend(fontsize=12)\n",
    "\n",
    "#spectra & impact param\n",
    "ax=ax2\n",
    "s = sightlines_table['QSO'][J]\n",
    "i=J\n",
    "\n",
    "qso_coord = SkyCoord(sightlines_table['RA QSO'][i]*u.deg,sightlines_table['DEC QSO'][i]*u.deg, distance=host_dist*u.Mpc)\n",
    "DVs,Bs, Bh=[],[],[]\n",
    "if np.size(sat_n)>1.:\n",
    "\n",
    "    for n in sat_n:\n",
    "        if cos_saga_satellites['HOSTID'][n] == hostid:\n",
    "            dvs = (cos_saga_satellites['SPEC_Z'][n]*cnst.c - (vhost)*u.km/u.s).to(u.km/u.s)\n",
    "\n",
    "            DVs=np.append(DVs,dvs.value)\n",
    "\n",
    "            #impact parameter to the qso\n",
    "            sat_coord = SkyCoord(cos_saga_satellites['RA'][n]*u.deg,cos_saga_satellites['DEC'][n]*u.deg,distance=host_dist*u.Mpc)\n",
    "            sep = qso_coord.separation_3d(sat_coord)\n",
    "            sep=sep.to(u.kpc)\n",
    "            bs=sep.value\n",
    "            #bs=cos_saga_satellites['RHOST_KPC'][n] \n",
    "            Bs = np.append(Bs,bs)\n",
    "            bh = cos_saga_satellites['RHOST_KPC'][n] \n",
    "            Bh = np.append(Bh,bh)\n",
    "\n",
    "\n",
    "\n",
    "#axi.scatter(Bs,DVs,c='#ffb250', marker='o', s=100)\n",
    "#ax4.scatter(Bh,DVs,c='#ffb250', marker='o', s=150) \n",
    "\n",
    "#axi.scatter(b_host[i-6],0,c='#992959', marker='s', s=100)\n",
    "print(s)\n",
    "sline = pickle.load(open(s+'_1215.67.p', 'rb'))\n",
    "v=sline.velo\n",
    "f=sline.fnorm\n",
    "e = sline.enorm -0.6\n",
    "N = round(np.log10(sline.logN),2)\n",
    "print(N)\n",
    "ew = round(sline.W,2)\n",
    "ew_er = round(sline.W_e,2)\n",
    "\n",
    "ax.annotate('W$_{r}$ = '+ str(ew) + ' $\\pm$ '+str(ew_er), (0.05,0.85), xycoords='axes fraction', fontsize=15)\n",
    "ax.set_xlim([-600,600])\n",
    "#axi.set_ylim([-600,600])\n",
    "ax.set_ylim([-.6,2.1])\n",
    "#axi.set_xlim([-10,350])\n",
    "#axi.axhline(0, ls='--', c='gray')\n",
    "ax.axvline(0, ls='--',c='#992959')\n",
    "ax.axhline(1.0, ls='--', c='gray')\n",
    "ax.step(v,f, 'k')\n",
    "ax.step(v,e, 'r')\n",
    "if np.size(DVs) > 1:\n",
    "    for dvs in DVs:\n",
    "        print(dvs)\n",
    "        ax.plot([dvs]*2, [1.2,1.5], color='#ffb250')\n",
    "#other absorbers\n",
    "else:\n",
    "    ax.plot([DVs[0]]*2, [1.2,1.5], color='#ffb250')\n",
    "    print(DVs[0])\n",
    "#ax5.set_xlabel(\"QSO Impact Parameter [kpc]\", fontsize=18)\n",
    "ax2.set_xlabel(\"Velocity [km/s]\", fontsize=18)\n",
    "\n",
    "# for ax in [ax4,ax5]:\n",
    "#     ax.yaxis.tick_right()\n",
    "#     ax.yaxis.set_label_position(\"right\")\n",
    "    \n",
    "# ax4.set_ylabel(\"$\\Delta$ v [km/s]\", fontsize=18)\n",
    "\n",
    "ax1.annotate('HOST ID: '+str(hostid), xy=(0.1,0.9), xycoords='axes fraction')\n",
    "fig.savefig(str(hostid)+'1sightline.png')\n"
   ]
  },
  {
   "cell_type": "code",
   "execution_count": 97,
   "metadata": {},
   "outputs": [
    {
     "name": "stdout",
     "output_type": "stream",
     "text": [
      "J1700+2237\n",
      "14.13\n"
     ]
    },
    {
     "data": {
      "image/png": "[encoded data removed]",
      "text/plain": [
       "<Figure size 1080x432 with 2 Axes>"
      ]
     },
     "metadata": {
      "needs_background": "light"
     },
     "output_type": "display_data"
    }
   ],
   "source": [
    "fig = plt.figure(figsize=(15,6))\n",
    "\n",
    "ax1 = plt.subplot2grid((2,5), (0, 0), colspan=2, rowspan=2)\n",
    "ax2 = plt.subplot2grid((2,5), (0, 2), colspan=3,rowspan=1)\n",
    "#ax3 = plt.subplot2grid((2, 5), (1, 2), colspan=3,rowspan=1)\n",
    "# ax4 = plt.subplot2grid((2, 6), (0, 4), colspan=2,rowspan=1)\n",
    "# ax5 = plt.subplot2grid((2, 6), (1, 4), colspan=2,rowspan=1)\n",
    "\n",
    "velc='#a2798f'\n",
    "for ax in [ax1,ax2]:\n",
    "    ax.tick_params(axis='both', which='major', direction='in', length=8, width=3, bottom=True,top=True,\n",
    "                  left=True, right=True, reset=True)\n",
    "    ax.tick_params(axis='both', which='minor', direction='in', length=4, width=3, bottom=True,top=True,\n",
    "                  left=True, right=True, reset=True)\n",
    "### skymap\n",
    "ax1.set_xlim([-1,1])\n",
    "ax1.set_ylim([-1,1])\n",
    "ax1.set_xticks([-1,-0.5,0,0.5])\n",
    "ax1.set_xlabel(r\"$\\Delta$ RA [deg]\")\n",
    "ax1.set_ylabel(r\"$\\Delta$ Dec [deg]\")\n",
    "\n",
    "#host coords\n",
    "hostid=147606\n",
    "J=9\n",
    "vhost=sightlines_table['host velocity (helio)'][J]\n",
    "host_dist=sightlines_table['Host distance [Mpc]'][J]\n",
    "b_host=[sightlines_table['impact parameter [kpc]'][J]]\n",
    "cos_saga_hosts.add_index('HOSTID')\n",
    "\n",
    "m = cos_saga_hosts.loc_indices[hostid]\n",
    "rahost,dechost=cos_saga_hosts['RA'][m], cos_saga_hosts['DEC'][m]\n",
    "\n",
    "ax1.scatter(0,0,c='#992959', marker='s', s=150, label='host')\n",
    "ellipse=[1.37/6.,0.77/6., 125]#host orientation\n",
    "ells=Ellipse(xy=(0,0), width=ellipse[0], height=ellipse[1], angle=ellipse[2]-90, ec='#992959', fc='None')\n",
    "ax1.add_artist(ells)\n",
    "#sightlines\n",
    "draq1,ddecq1 = rahost-sightlines_table['RA QSO'][J], dechost-sightlines_table['DEC QSO'][J]\n",
    "\n",
    "\n",
    "ax1.scatter([draq1,draq2],[ddecq1,ddecq2],c='k', marker='*', s=200)\n",
    "ax1.plot(-20,-20,c='k', marker='*', ms=20, label='QSO',ls='None' )\n",
    "\n",
    "#satelites\n",
    "cos_saga_satellites.add_index('HOSTID')\n",
    "sat_n = cos_saga_satellites.loc_indices[hostid]\n",
    "\n",
    "Dras,DDecs,DVs,Bs, Bh=[],[],[],[], []\n",
    "\n",
    "for n in sat_n:\n",
    "    if cos_saga_satellites['HOSTID'][n] == hostid:\n",
    "        dras,ddecs = rahost-cos_saga_satellites['RA'][n],dechost-cos_saga_satellites['DEC'][n]\n",
    "        Dras,DDecs=np.append(Dras,dras),np.append(DDecs,ddecs)\n",
    "\n",
    "\n",
    "ax1.scatter(Dras,DDecs,c='#ffb250', marker='o', s=150, label='satellite')\n",
    "\n",
    "ax1.legend(fontsize=12)\n",
    "\n",
    "#spectra & impact param\n",
    "ax=ax2\n",
    "s = sightlines_table['QSO'][J]\n",
    "i=J\n",
    "\n",
    "qso_coord = SkyCoord(sightlines_table['RA QSO'][i]*u.deg,sightlines_table['DEC QSO'][i]*u.deg, distance=host_dist*u.Mpc)\n",
    "DVs,Bs, Bh=[],[],[]\n",
    "if np.size(sat_n)>1.:\n",
    "\n",
    "    for n in sat_n:\n",
    "        if cos_saga_satellites['HOSTID'][n] == hostid:\n",
    "            dvs = (cos_saga_satellites['SPEC_Z'][n]*cnst.c - (vhost)*u.km/u.s).to(u.km/u.s)\n",
    "\n",
    "            DVs=np.append(DVs,dvs.value)\n",
    "\n",
    "            #impact parameter to the qso\n",
    "            sat_coord = SkyCoord(cos_saga_satellites['RA'][n]*u.deg,cos_saga_satellites['DEC'][n]*u.deg,distance=host_dist*u.Mpc)\n",
    "            sep = qso_coord.separation_3d(sat_coord)\n",
    "            sep=sep.to(u.kpc)\n",
    "            bs=sep.value\n",
    "            #bs=cos_saga_satellites['RHOST_KPC'][n] \n",
    "            Bs = np.append(Bs,bs)\n",
    "            bh = cos_saga_satellites['RHOST_KPC'][n] \n",
    "            Bh = np.append(Bh,bh)\n",
    "\n",
    "\n",
    "\n",
    "#axi.scatter(Bs,DVs,c='#ffb250', marker='o', s=100)\n",
    "#ax4.scatter(Bh,DVs,c='#ffb250', marker='o', s=150) \n",
    "\n",
    "#axi.scatter(b_host[i-6],0,c='#992959', marker='s', s=100)\n",
    "print(s)\n",
    "sline = pickle.load(open(s+'_1215.67.p', 'rb'))\n",
    "v=sline.velo\n",
    "f=sline.fnorm\n",
    "e = sline.enorm -0.6\n",
    "N = round(np.log10(sline.logN),2)\n",
    "print(N)\n",
    "ew = round(sline.W,2)\n",
    "ew_er = round(sline.W_e,2)\n",
    "\n",
    "ax.annotate('W$_{r}$ = '+ str(ew) + ' $\\pm$ '+str(ew_er), (0.05,0.85), xycoords='axes fraction', fontsize=15)\n",
    "ax.set_xlim([-600,600])\n",
    "#axi.set_ylim([-600,600])\n",
    "ax.set_ylim([-.6,2.1])\n",
    "#axi.set_xlim([-10,350])\n",
    "#axi.axhline(0, ls='--', c='gray')\n",
    "ax.axvline(0, ls='--',c='#992959')\n",
    "ax.axhline(1.0, ls='--', c='gray')\n",
    "ax.step(v,f, 'k')\n",
    "ax.step(v,e, 'r')\n",
    "if np.size(DVs) > 1:\n",
    "    for dvs in DVs:\n",
    "\n",
    "        ax.plot([dvs]*2, [1.2,1.5], color='#ffb250')\n",
    "#other absorbers\n",
    "else:\n",
    "    ax.plot([DVs[0]]*2, [1.2,1.5], color='#ffb250')\n",
    "\n",
    "#ax5.set_xlabel(\"QSO Impact Parameter [kpc]\", fontsize=18)\n",
    "ax2.set_xlabel(\"Velocity [km/s]\", fontsize=18)\n",
    "\n",
    "# for ax in [ax4,ax5]:\n",
    "#     ax.yaxis.tick_right()\n",
    "#     ax.yaxis.set_label_position(\"right\")\n",
    "    \n",
    "# ax4.set_ylabel(\"$\\Delta$ v [km/s]\", fontsize=18)\n",
    "\n",
    "ax1.annotate('HOST ID: '+str(hostid), xy=(0.1,0.9), xycoords='axes fraction')\n",
    "fig.savefig(str(hostid)+'1sightline.png')\n"
   ]
  },
  {
   "cell_type": "markdown",
   "metadata": {},
   "source": [
    "## Classification of the absorption lines in the COS data"
   ]
  },
  {
   "cell_type": "markdown",
   "metadata": {},
   "source": [
    "### TON1129\t(J0956+3226) \n",
    "\n",
    "<b>QSO =  0.52611 </b> <br>\n",
    "<b> 85746 SAGA host = 0.00477 (center of the HI line) 0.0048377 - host z </b> <br>\n",
    "   -  HI 1215 glow line sits in the deep - MW HI abs?\n",
    "   - SAGA host z = 0.00483777 velocity shift on HI - center of the line on 0.00477\n",
    "        lines: HI 1215 - low NHI potentially multi component, NI 1206, Si IV 1402 in very broad damped feature\n",
    "   - broad \\lambda 1406 feature is consistent with DLA at 0.1574 and with HI 920-923 from the QSO and with Si IV from z    \n",
    "   1. MW 0.0\n",
    "   2. QSO 0.52611\n",
    "   3. SAGA 0.00477\n",
    "   4. DLA 0.1574 (?)\n",
    "   \n",
    " Other absorbers:  \n",
    " -  0.36427\n",
    "  - 0.22408\n",
    "  - 0.21488\n",
    "  - 0.01699\n",
    "   \n",
    "   \n",
    "  "
   ]
  },
  {
   "cell_type": "code",
   "execution_count": 24,
   "metadata": {},
   "outputs": [],
   "source": [
    "sightline='TON1129'\n",
    "ton1129_abs = np.array([0.0,0.52611,0.1574,0.36427, 0.22408, 0.21488, 0.01699])\n"
   ]
  },
  {
   "cell_type": "code",
   "execution_count": 25,
   "metadata": {
    "scrolled": true
   },
   "outputs": [],
   "source": [
    "# ton1129_abs = np.array([0.0,0.52611,0.1574,0.36427, 0.22408, 0.21488, 0.01699])\n",
    "# #plot_lines_vel_zoom(sightline='TON1129', vhost=sightlines_table['host velocity (helio)'][0], smoothing=5)\n",
    "# plot_lines_mark_abs(sightline='TON1129', vhost=sightlines_table['host velocity (helio)'][0], smoothing=5, absorbers=ton1129_abs,hostid=85746)\n"
   ]
  },
  {
   "cell_type": "code",
   "execution_count": 26,
   "metadata": {},
   "outputs": [],
   "source": [
    "# sightline='TON1129'\n",
    "# ton1129_abs = np.array([0.0,0.52611,0.1574,0.36427, 0.22408, 0.21488, 0.01699])\n",
    "# CosSaga.plot_b_vel(sightline=sightline, absorbers=ton1129_abs, maj_ax=True, ellipse=(1.86/60*10,0.67/60.*10,105 ))"
   ]
  },
  {
   "cell_type": "code",
   "execution_count": 27,
   "metadata": {},
   "outputs": [],
   "source": [
    "# sightline='TON1129'\n",
    "# ton1129_abs = np.array([0.0,0.52611,0.1574,0.36427, 0.22408, 0.21488, 0.01699])\n",
    "# plot_lines_stack(sightline=sightline, absorbers=ton1129_abs, fit_order=7)\n"
   ]
  },
  {
   "cell_type": "markdown",
   "metadata": {},
   "source": [
    "### J0958+3224\n",
    "\n",
    "<b> QSO z = 0.5306 </b> <br>\n",
    "<b> 85746 SAGA 0.0048377: </b> DLA/sub-DLA, Si IV doublet blended with QSO lines, NI 1200c blended with QSO and MW lines <br>\n",
    "\n",
    "  1. MW 0.0\n",
    "  2. QSO 0.5306\t\n",
    "  3. SAGA 0.0048377\n",
    "  \n",
    "  Other absorbers: <br>\n",
    "   - 0.37084\n",
    "   - 0.36244\n",
    "    - 0.35471 ?\n",
    "    - 0.13586\n",
    "   - 0.13080\n",
    "   - 0.07961 ? or 0.27948\n",
    "   - 0.26298 ?\n",
    "   - 0.23103 ?"
   ]
  },
  {
   "cell_type": "code",
   "execution_count": 28,
   "metadata": {},
   "outputs": [],
   "source": [
    "# sightline='J0958+3224'\n",
    "# j0958_abs = np.array([0.0,0.5306,0.37084,0.36244, 0.35471, 0.13586, 0.13080, 0.07961, 0.27948, 0.26298, 0.23103])\n",
    "# plot_cont_fit(sightline, fit_order=7)"
   ]
  },
  {
   "cell_type": "code",
   "execution_count": 29,
   "metadata": {
    "scrolled": true
   },
   "outputs": [],
   "source": [
    "# j0958_abs = np.array([0.0,0.5306,0.37084,0.36244, 0.35471, 0.13586, 0.13080, 0.07961, 0.27948, 0.26298, 0.23103])\n",
    "# #plot_lines_vel_zoom(sightline='TON1129', vhost=sightlines_table['host velocity (helio)'][0], smoothing=5)\n",
    "# plot_lines_mark_abs(sightline='J0958+3224', vhost=sightlines_table['host velocity (helio)'][1], smoothing=5, absorbers=j0958_abs,hostid=85746 )\n"
   ]
  },
  {
   "cell_type": "code",
   "execution_count": 30,
   "metadata": {
    "scrolled": false
   },
   "outputs": [],
   "source": [
    "# sightline='J0958+3224'\n",
    "# j0958_abs = np.array([0.0,0.5306,0.37084,0.36244, 0.35471, 0.13586, 0.13080, 0.07961, 0.27948, 0.26298, 0.23103])\n",
    "\n",
    "# plot_b_vel(sightline='J0958+3224', absorbers=j0958_abs, N=1, maj_ax=True, ellipse=(1.86/60*10,0.67/60.*10,105 ))\n",
    "                                                                               \n",
    "                                                                                      "
   ]
  },
  {
   "cell_type": "code",
   "execution_count": 31,
   "metadata": {},
   "outputs": [],
   "source": [
    "# sightline='J0958+3224'\n",
    "# j0958_abs = np.array([0.0,0.5306,0.37084,0.36244, 0.35471, 0.13586, 0.13080, 0.07961, 0.27948, 0.26298, 0.23103])\n",
    "\n",
    "# plot_lines_stack(sightline=sightline, absorbers=j0958_abs)\n"
   ]
  },
  {
   "cell_type": "markdown",
   "metadata": {},
   "source": [
    "### J0959+3203\n",
    "\n",
    "<b> QSO z = 0.56462 </b> <br>\n",
    "<b> 85746 SAGA z = 0.0048377 </b> :center of H line 0.00507, SiV not convincing <br>\n",
    "\n",
    "  1. MW 0.0\n",
    "  2. QSO 0.56462\n",
    "  3. SAGA 0.0048377 \n",
    "  \n",
    "  Other absorbers:\n",
    "   - 0.29919\n",
    "    - 0.32053 ?\n",
    "   - 0.25209\n",
    "    - 0.05500\n"
   ]
  },
  {
   "cell_type": "code",
   "execution_count": 32,
   "metadata": {},
   "outputs": [],
   "source": [
    "# sightline='J0959+3203'\n",
    "# j0959_abs = np.array([0.0,0.56462, 0.29919, 0.32053, 0.25209, 0.05500])\n",
    "# plot_cont_fit(sightline, fit_order=7)"
   ]
  },
  {
   "cell_type": "code",
   "execution_count": 33,
   "metadata": {
    "scrolled": true
   },
   "outputs": [],
   "source": [
    "# j0959_abs = np.array([0.0,0.56462, 0.29919, 0.32053, 0.25209, 0.05500])\n",
    "# #plot_lines_vel_zoom(sightline='TON1129', vhost=sightlines_table['host velocity (helio)'][0], smoothing=5)\n",
    "# plot_lines_mark_abs(sightline='J0959+3203', vhost=sightlines_table['host velocity (helio)'][2], smoothing=5, absorbers=j0959_abs, hostid=85746)"
   ]
  },
  {
   "cell_type": "code",
   "execution_count": 34,
   "metadata": {},
   "outputs": [],
   "source": [
    "# sightline='J0959+3203'\n",
    "# j0959_abs = np.array([0.0,0.56462, 0.29919, 0.32053, 0.25209, 0.05500])\n",
    "# plot_b_vel(sightline=sightline, absorbers=j0959_abs, N=2, maj_ax=True, ellipse=(1.86/60*10,0.67/60.*10,105 ))"
   ]
  },
  {
   "cell_type": "code",
   "execution_count": 35,
   "metadata": {},
   "outputs": [],
   "source": [
    "# sightline='J0959+3203'\n",
    "# j0959_abs = np.array([0.0,0.56462, 0.29919, 0.32053, 0.25209, 0.05500])\n",
    "# plot_lines_stack(sightline=sightline, absorbers=j0959_abs)"
   ]
  },
  {
   "cell_type": "markdown",
   "metadata": {},
   "source": [
    "### J1202-0129 ?\n",
    "<b> QSO z=0.15069 </b> strong intrinsic aborption from HI +emission <br>\n",
    "<b> 140594 SAGA 0.004883 </b>- velocity correciton for HI z = 0.00496, potentially very faint Si IV , HI low N <br>\n",
    "   \n",
    "   - low -z QSO I cannot identify most of the lines\n",
    "\n",
    " 1. MW 0.0\n",
    " 2. QSO 0.15069 \n",
    " 3. SAGA 0.0048833\n",
    " \n",
    " \n",
    " Other absorbers:\n",
    "- 0.12698 ?\n",
    "       "
   ]
  },
  {
   "cell_type": "code",
   "execution_count": 36,
   "metadata": {},
   "outputs": [
    {
     "ename": "NameError",
     "evalue": "name 'plot_cont_fit' is not defined",
     "output_type": "error",
     "traceback": [
      "\u001b[0;31m---------------------------------------------------------------------------\u001b[0m",
      "\u001b[0;31mNameError\u001b[0m                                 Traceback (most recent call last)",
      "\u001b[0;32m<ipython-input-36-57d5c1cc8862>\u001b[0m in \u001b[0;36m<module>\u001b[0;34m\u001b[0m\n\u001b[1;32m      1\u001b[0m \u001b[0msightline\u001b[0m\u001b[0;34m=\u001b[0m\u001b[0;34m'J1202-0129'\u001b[0m\u001b[0;34m\u001b[0m\u001b[0;34m\u001b[0m\u001b[0m\n\u001b[1;32m      2\u001b[0m \u001b[0mj1202_abs\u001b[0m \u001b[0;34m=\u001b[0m \u001b[0mnp\u001b[0m\u001b[0;34m.\u001b[0m\u001b[0marray\u001b[0m\u001b[0;34m(\u001b[0m\u001b[0;34m[\u001b[0m\u001b[0;36m0.0\u001b[0m\u001b[0;34m,\u001b[0m\u001b[0;36m0.15069\u001b[0m\u001b[0;34m,\u001b[0m \u001b[0;36m0.12698\u001b[0m\u001b[0;34m]\u001b[0m\u001b[0;34m)\u001b[0m\u001b[0;34m\u001b[0m\u001b[0;34m\u001b[0m\u001b[0m\n\u001b[0;32m----> 3\u001b[0;31m \u001b[0mplot_cont_fit\u001b[0m\u001b[0;34m(\u001b[0m\u001b[0msightline\u001b[0m\u001b[0;34m,\u001b[0m \u001b[0mfit_order\u001b[0m\u001b[0;34m=\u001b[0m\u001b[0;36m10\u001b[0m\u001b[0;34m)\u001b[0m\u001b[0;34m\u001b[0m\u001b[0;34m\u001b[0m\u001b[0m\n\u001b[0m",
      "\u001b[0;31mNameError\u001b[0m: name 'plot_cont_fit' is not defined"
     ]
    }
   ],
   "source": [
    "sightline='J1202-0129'\n",
    "j1202_abs = np.array([0.0,0.15069, 0.12698])\n",
    "plot_cont_fit(sightline, fit_order=10)"
   ]
  },
  {
   "cell_type": "code",
   "execution_count": null,
   "metadata": {
    "scrolled": true
   },
   "outputs": [],
   "source": [
    "# j1202_abs = np.array([0.0,0.15069, 0.12698])\n",
    "# #plot_lines_vel_zoom(sightline='TON1129', vhost=sightlines_table['host velocity (helio)'][0], smoothing=5)\n",
    "# plot_lines_mark_abs(sightline='J1202-0129', vhost=sightlines_table['host velocity (helio)'][3], smoothing=5, absorbers=j1202_abs, hostid=140594)"
   ]
  },
  {
   "cell_type": "code",
   "execution_count": null,
   "metadata": {},
   "outputs": [],
   "source": [
    "\n",
    "# plot_b_vel(sightline=sightline, absorbers=j1202_abs, maj_ax=True, ellipse=[2.18/6., 1.87/6., 40])\n"
   ]
  },
  {
   "cell_type": "code",
   "execution_count": null,
   "metadata": {},
   "outputs": [],
   "source": [
    "# plot_lines_stack(sightline=sightline, absorbers=j1202_abs)\n"
   ]
  },
  {
   "cell_type": "markdown",
   "metadata": {},
   "source": [
    "2 satellites"
   ]
  },
  {
   "cell_type": "markdown",
   "metadata": {},
   "source": [
    "### J1202+0225\n",
    "<b> QSO z = 0.27364 </b> <br>\n",
    "<b> 13927 SAGA z = 0.006537 </b> very faint HI: centered ont he HI z= 0.00662, a asymetric component redwise <br>\n",
    "   \n",
    " 1. MW 0.0 \n",
    " 2. QSO 0.27364\t\n",
    " 3. SAGA 0.006537\n",
    "    \n",
    " Other absorbers:\n",
    "  - 0.13945 ?\n",
    "  - 0.12705\n",
    "  - 0.02014\n",
    "  - 0.00417\n",
    "  "
   ]
  },
  {
   "cell_type": "markdown",
   "metadata": {},
   "source": [
    "no satellites"
   ]
  },
  {
   "cell_type": "code",
   "execution_count": null,
   "metadata": {},
   "outputs": [],
   "source": [
    "# sightline=\"J1202+0225\"\n",
    "# j120202_abs = np.array([0.0,0.27364, 0.13945, 0.12705, 0.02014,0.00417])\n",
    "# plot_cont_fit(sightline, fit_order=7)"
   ]
  },
  {
   "cell_type": "code",
   "execution_count": null,
   "metadata": {
    "scrolled": true
   },
   "outputs": [],
   "source": [
    "# j120202_abs = np.array([0.0,0.27364, 0.13945, 0.12705, 0.02014,0.00417])\n",
    "# #plot_lines_vel_zoom(sightline='TON1129', vhost=sightlines_table['host velocity (helio)'][0], smoothing=5)\n",
    "# sightline=\"J1202+0225\"\n",
    "# j120202_abs = np.array([0.0,0.27364, 0.13945, 0.12705, 0.02014,0.00417])plot_lines_mark_abs(sightline='J1202+0225', vhost=sightlines_table['host velocity (helio)'][4], smoothing=5, absorbers=j120202_abs, hostid=13927)"
   ]
  },
  {
   "cell_type": "code",
   "execution_count": null,
   "metadata": {
    "scrolled": true
   },
   "outputs": [],
   "source": [
    "# sightline=\"J1202+0225\"\n",
    "# j120202_abs = np.array([0.0,0.27364, 0.13945, 0.12705, 0.02014,0.00417])\n",
    "# plot_b_vel(sightline=sightline, absorbers=j120202_abs,maj_ax=True, ellipse=(1.05/6., 0.987/6., 170 ))"
   ]
  },
  {
   "cell_type": "code",
   "execution_count": null,
   "metadata": {},
   "outputs": [],
   "source": [
    "# plot_lines_stack(sightline=sightline, absorbers=j120202_abs)\n"
   ]
  },
  {
   "cell_type": "markdown",
   "metadata": {},
   "source": [
    "### J1423+5055 -  SBS1421+511\n",
    "<b> QSO z = 0.27622 </b> does this QSO has a in/out flow? all HI lines align bu a but shifted form centroid <br>\n",
    "<b> 144953 SAGA z = 0.00743 </b> very faint HI z= 0.00759 and potentially second component 0.00676 <br>\n",
    "\n",
    "1. MW 0.0\n",
    "2. QSO 0.27662\n",
    "3. SAGa 0.00743\n",
    "\n",
    "Other absorbers:\n",
    "- 0.17252\n",
    "- 0.13268\n",
    "- 0.06474\n"
   ]
  },
  {
   "cell_type": "code",
   "execution_count": null,
   "metadata": {},
   "outputs": [],
   "source": [
    "# sightline='SBS1421+511'\n",
    "# j1423_abs = np.array([0.0,0.27662, 0.17252, 0.13266, 0.06474])\n",
    "# plot_cont_fit(sightline, fit_order=10)"
   ]
  },
  {
   "cell_type": "code",
   "execution_count": null,
   "metadata": {
    "scrolled": true
   },
   "outputs": [],
   "source": [
    "\n",
    "# #plot_lines_vel_zoom(sightline='TON1129', vhost=sightlines_table['host velocity (helio)'][0], smoothing=5)\n",
    "# plot_lines_mark_abs(sightline='SBS1421+511', vhost=sightlines_table['host velocity (helio)'][5], smoothing=5, absorbers=j1423_abs, hostid=144953)\n"
   ]
  },
  {
   "cell_type": "code",
   "execution_count": null,
   "metadata": {},
   "outputs": [],
   "source": [
    "# sightline='SBS1421+511'\n",
    "# j1423_abs = np.array([0.0,0.27662, 0.17252, 0.13266, 0.06474])\n",
    "# plot_b_vel(sightline=sightline, absorbers=j1423_abs, maj_ax=True, ellipse=[1.05/6., 0.65/6., 170])"
   ]
  },
  {
   "cell_type": "code",
   "execution_count": null,
   "metadata": {},
   "outputs": [],
   "source": [
    "# plot_lines_stack(sightline=sightline, absorbers=j1423_abs)\n"
   ]
  },
  {
   "cell_type": "markdown",
   "metadata": {},
   "source": [
    "### J1429+0321\n",
    "\n",
    "<b> QSO z = 0.25344 </b> <br>\n",
    "<b> 165082 SAGA z = 0.00541 </b> <br>\n",
    "\n",
    "1. MW 0.0\n",
    "2. QSO 0.25344\t\n",
    "3. SAGA 0.00541\n",
    "\n",
    "Other absorbers:\n",
    "\n",
    "- 0.15505\n",
    "- 0.13825"
   ]
  },
  {
   "cell_type": "markdown",
   "metadata": {},
   "source": [
    "no satellites"
   ]
  },
  {
   "cell_type": "code",
   "execution_count": null,
   "metadata": {},
   "outputs": [],
   "source": [
    "# sightline='J1429+0321'\n",
    "# j1429_abs = np.array([0.0,0.25344, 0.15505, 0.13825])\n",
    "# plot_cont_fit(sightline, fit_order=7)"
   ]
  },
  {
   "cell_type": "code",
   "execution_count": null,
   "metadata": {
    "scrolled": true
   },
   "outputs": [],
   "source": [
    "# j1429_abs = np.array([0.0,0.25344, 0.15505, 0.13825])\n",
    "# #plot_lines_vel_zoom(sightline='TON1129', vhost=sightlines_table['host velocity (helio)'][0], smoothing=5)\n",
    "# plot_lines_mark_abs(sightline='J1429+0321', vhost=sightlines_table['host velocity (helio)'][6], smoothing=5, absorbers=j1429_abs, hostid=165082)\n"
   ]
  },
  {
   "cell_type": "code",
   "execution_count": null,
   "metadata": {},
   "outputs": [],
   "source": [
    "# sightline='J1429+0321'\n",
    "# j1429_abs = np.array([0.0,0.25344, 0.15505, 0.13825])\n",
    "# plot_b_vel(sightline=sightline, absorbers=j1429_abs, N=6, maj_ax=True, ellipse=(1.41/6., 1.297/6., 145))"
   ]
  },
  {
   "cell_type": "code",
   "execution_count": null,
   "metadata": {},
   "outputs": [],
   "source": [
    "# plot_lines_stack(sightline=sightline, absorbers=j1429_abs)\n"
   ]
  },
  {
   "cell_type": "markdown",
   "metadata": {},
   "source": [
    "### J1431+0301\n",
    "\n",
    "<b> QSO z = 0.34055</b> <br>\n",
    "<b>  165082 SAGA z = 0.00632797 </b> no HI <br>\n",
    "\n",
    "1. MW 0.0\n",
    "2. QSO 0.25344\n",
    "3. SAGA 0.0054067\n",
    "\n",
    "Other absorbers:\n",
    "- DLA at 0.00510 \n",
    "-  0.15320\n",
    "- 0.10339\n",
    "                       "
   ]
  },
  {
   "cell_type": "code",
   "execution_count": null,
   "metadata": {
    "scrolled": false
   },
   "outputs": [],
   "source": [
    "# sightline=\"J1431+0301\"\n",
    "# j1431_abs = np.array([0.0,0.25344, 0.00510, 0.15320, 0.10339])\n",
    "# #plot_lines_vel_zoom(sightline='TON1129', vhost=sightlines_table['host velocity (helio)'][0], smoothing=5)\n",
    "# plot_cont_fit(sightline, fit_order=0)"
   ]
  },
  {
   "cell_type": "code",
   "execution_count": null,
   "metadata": {},
   "outputs": [],
   "source": [
    "# plot_lines_mark_abs(sightline='J1431+0301', vhost=sightlines_table['host velocity (helio)'][7], smoothing=1, absorbers=j1431_abs, hostid=165082)\n"
   ]
  },
  {
   "cell_type": "code",
   "execution_count": null,
   "metadata": {
    "scrolled": false
   },
   "outputs": [],
   "source": [
    "# sightline=\"J1431+0301\"\n",
    "# j1431_abs = np.array([0.0,0.25344, 0.00510, 0.15320, 0.10339])\n",
    "# maj_ax=True\n",
    "# ellipse=(1.41/6., 1.297/6., 145)\n",
    "# sightlines_table.add_index('QSO')\n",
    "# k = sightlines_table.loc_indices[sightline]\n",
    "# vhost=sightlines_table['host velocity (helio)'][k]\n",
    "# zqso=sightlines_table['z QSO'][k]\n",
    "# hostid=sightlines_table['SAGA NSAID'][k]\n",
    "# host_dist=sightlines_table['Host distance [Mpc]'][k]\n",
    "# b_host=sightlines_table['impact parameter [kpc]'][k]\n",
    "\n",
    "# cos_saga_hosts.add_index('HOSTID')\n",
    "# m = cos_saga_hosts.loc_indices[hostid]\n",
    "# rahost,dechost=cos_saga_hosts['RA'][m], cos_saga_hosts['DEC'][m]\n",
    "# if cos_saga_hosts['No SATELLITES'][m] != 0:\n",
    "#     cos_saga_satellites.add_index('HOSTID')\n",
    "#     sat_n = cos_saga_satellites.loc_indices[hostid]\n",
    "\n",
    "# ## fid the id from satelites table\n",
    "\n",
    "\n",
    "# # For multi-sightline hosts, sightline no\n",
    "\n",
    "\n",
    "# # coords\n",
    "# qso_coord = SkyCoord(sightlines_table['RA QSO'][k]*u.deg, sightlines_table['DEC QSO'][k]*u.deg, distance=host_dist*u.Mpc)\n",
    "\n",
    "\n",
    "\n",
    "# #read the spectrum\n",
    "# file=directory+sightline+\"/Data/\"+sightline+\"_nbin3_coadd.fits\"\n",
    "# print(sightline)\n",
    "# hdul = fits.open(file)\n",
    "# #redshift\n",
    "# zhost=vhost/3.e5\n",
    "\n",
    "# wl = hdul['WAVELENGTH'].data\n",
    "# fx = hdul['FLUX'].data\n",
    "# fx_smooth = convolution.convolve(fx,convolution.Gaussian1DKernel(smoothing))\n",
    "# error=hdul['ERROR'].data\n",
    "\n",
    "# flux_cont =  fx_smooth#/out[0]\n",
    "# err_cont = error#/out[0]\n",
    "\n",
    "# # plot figure \n",
    "# velc='#a2798f'\n",
    "# fig=plt.figure(figsize=(22,6))\n",
    "# gs=fig.add_gridspec(2,7, wspace=0.3)\n",
    "\n",
    "# ax1=fig.add_subplot(gs[:2,:2])\n",
    "# ax2=fig.add_subplot(gs[:2,5:], )\n",
    "# ax3=fig.add_subplot(gs[:2,4], sharey=ax2)\n",
    "# ax4 = fig.add_subplot(gs[:2, 2:4])\n",
    "# ax1.set_xlim([-1,1])\n",
    "# ax1.set_ylim([-1,1])\n",
    "# ax1.set_xlabel(r\"$\\Delta$ RA [deg]\")\n",
    "# ax1.set_ylabel(r\"$\\Delta$ Dec [deg]\")\n",
    "\n",
    "# ax2.set_xlim([-10,350])\n",
    "# ax2.set_ylim([-500,500])\n",
    "\n",
    "# ax4.set_xlim([-10,350])\n",
    "# ax4.set_ylim([-500,500])\n",
    "\n",
    "# ax2.set_xlabel(\"QSO Impact Parameter [kpc]\")\n",
    "# ax2.set_ylabel(\"$\\Delta$ v [km/s]\")\n",
    "\n",
    "# ax4.set_xlabel(\"HOST Impact Parameter [kpc]\")\n",
    "\n",
    "# ax2.yaxis.tick_right()\n",
    "# ax2.yaxis.set_label_position(\"right\")\n",
    "# ax1.scatter(0,0,c='#992959', marker='s', s=150)\n",
    "# ax4.scatter(0,0,c='#992959', marker='s', s=150)\n",
    "# ax2.scatter(b_host,0,c='#992959', marker='s', s=150)\n",
    "# ax2.axhline(0, ls='--',c=velc)\n",
    "# ax3.axhline(0, ls='--',c=velc)\n",
    "# ax4.axhline(0, ls='--',c=velc)\n",
    "# ## choose the HI \n",
    "# line = 1215.6700\n",
    "# linename=\"HI 1215\"\n",
    "\n",
    "# vel = (wl0 - line)/line*3.e5\n",
    "# wmin,wmax=np.min(wl0[np.nonzero(wl0)]), np.max(wl0[np.nonzero(wl0)])\n",
    "\n",
    "# ax3.plot(convolution.convolve(flux_cont,convolution.Gaussian1DKernel(2)),vel,c='k', lw=2) #in host restframe\n",
    "# ax3.set_title(linename)\n",
    "\n",
    "# ax3.set_xlim(.5e-15,-1e-16) #TO DO make the zoom in local\n",
    "# ax3.axvline(1.0, ls='--', c='gray')\n",
    "\n",
    "# #plot satellites\n",
    "\n",
    "# Dras,DDecs,DVs,Bs, Bh=[],[],[],[], []\n",
    "# if cos_saga_hosts['No SATELLITES'][m] != 0:\n",
    "\n",
    "#     if np.size(sat_n)>1.:\n",
    "\n",
    "#         for n in sat_n:\n",
    "#             if cos_saga_satellites['HOSTID'][n] == hostid:\n",
    "#                 dras,ddecs = rahost-cos_saga_satellites['RA'][n],dechost-cos_saga_satellites['DEC'][n]\n",
    "#                 Dras,DDecs=np.append(Dras,dras),np.append(DDecs,ddecs)\n",
    "\n",
    "#                 dvs = (cos_saga_satellites['SPEC_Z'][n]*cnst.c - (vhost)*u.km/u.s).to(u.km/u.s)\n",
    "#                 ax2.axhline(dvs.value, ls='--',c=velc)\n",
    "#                 ax3.axhline(dvs.value, ls='--',c=velc)\n",
    "#                 ax4.axhline(dvs.value, ls='--',c=velc)\n",
    "#                 DVs=np.append(DVs,dvs.value)\n",
    "\n",
    "#                 #impact parameter to the qso\n",
    "#                 sat_coord = SkyCoord(cos_saga_satellites['RA'][n]*u.deg,cos_saga_satellites['DEC'][n]*u.deg,distance=host_dist*u.Mpc)\n",
    "#                 sep = qso_coord.separation_3d(sat_coord)\n",
    "#                 sep=sep.to(u.kpc)\n",
    "#                 bs=sep.value\n",
    "#                 #bs=cos_saga_satellites['RHOST_KPC'][n] \n",
    "#                 Bs = np.append(Bs,bs)\n",
    "#                 bh = cos_saga_satellites['RHOST_KPC'][n] \n",
    "#                 Bh = np.append(Bh,bh)\n",
    "#     else:\n",
    "#         dras,ddecs = rahost-cos_saga_satellites['RA'][sat_n],dechost-cos_saga_satellites['DEC'][sat_n]\n",
    "#         Dras,DDecs=np.append(Dras,dras),np.append(DDecs,ddecs)\n",
    "\n",
    "#         dvs = (cos_saga_satellites['SPEC_Z'][sat_n]*cnst.c - (vhost)*u.km/u.s).to(u.km/u.s)\n",
    "#         DVs=np.append(DVs,dvs.value)\n",
    "#         ax2.axhline(dvs.value, ls='--',c=velc)\n",
    "#         ax3.axhline(dvs.value, ls='--',c=velc)\n",
    "#         ax4.axhline(dvs.value, ls='--',c=velc)\n",
    "#         #impact parameter to the qso\n",
    "#         sat_coord = SkyCoord(cos_saga_satellites['RA'][sat_n]*u.deg,cos_saga_satellites['DEC'][sat_n]*u.deg,distance=host_dist*u.Mpc)\n",
    "#         sep = qso_coord.separation_3d(sat_coord)\n",
    "#         sep=sep.to(u.kpc)\n",
    "#         Bs=sep.value#cos_saga_satellites['RHOST_KPC'][n] \n",
    "#         Bh = cos_saga_satellites['RHOST_KPC'][sat_n] \n",
    "#        # Bs = np.append(Bs,bs)\n",
    "# print(Dras, DDecs)\n",
    "# ax1.scatter(Dras,DDecs,c='#ffb250', marker='o', s=150)     \n",
    "# ax2.scatter(Bs,DVs,c='#ffb250', marker='o', s=150)\n",
    "# ax4.scatter(Bh,DVs,c='#ffb250', marker='o', s=150)\n",
    "\n",
    "# for m in range(np.size(sightlines_table['SAGA NSAID'])):\n",
    "#     if sightlines_table['SAGA NSAID'][m]== hostid:\n",
    "#         draq,ddecq = rahost-sightlines_table['RA QSO'][m], dechost-sightlines_table['DEC QSO'][m]\n",
    "\n",
    "#         ax1.scatter(draq,ddecq,c='k', marker='*', s=200)\n",
    "#         print(m)\n",
    "#         if m ==N:\n",
    "#             ax1.scatter(draq,ddecq,c='r', marker='*', s=200)\n",
    "\n",
    "\n",
    "# line_list_dir='/Users/ahamanowicz/Documents/GitHub/rbcodes/IGM/lines/lls.lst'\n",
    "# line_list=np.loadtxt(line_list_dir, skiprows=1, dtype='str')\n",
    "\n",
    "# absorbers_line, abs_line_names=[],[]\n",
    "# wmin,wmax=np.min(wl0[np.nonzero(wl0)]), np.max(wl0[np.nonzero(wl0)])\n",
    "\n",
    "# for i in range(np.size(line_list.T[0])):\n",
    "#     line0 = float(line_list.T[0][i])\n",
    "\n",
    "#     for a in absorbers:\n",
    "\n",
    "#         line0 = line0*(1+a)/(1+zhost)\n",
    "#         if line0 <wmax and  line0> wmin:\n",
    "#             absorbers_line = np.append(absorbers_line,line0)\n",
    "\n",
    "\n",
    "# for a in absorbers_line:\n",
    "\n",
    "#     vel_abs = (a-line)/line*3e5\n",
    "\n",
    "#     ax3.axvline(vel_abs, color='gray', ls='--')\n",
    "\n",
    "\n",
    "# if maj_ax==True:\n",
    "\n",
    "\n",
    "#     ells=Ellipse(xy=(0,0), width=ellipse[0], height=ellipse[1], angle=ellipse[2]-90, ec='#992959', fc='None')\n",
    "#     ax1.add_artist(ells)\n",
    "\n",
    "\n",
    "\n",
    "\n",
    "# ax1.set_title(\"SAGA HOST \"+str(hostid))\n",
    "# ax2.set_title(\"SIGHTLINE \"+sightline)\n",
    "# fig.savefig(sightline+\"_b_vel.png\")"
   ]
  },
  {
   "cell_type": "code",
   "execution_count": null,
   "metadata": {},
   "outputs": [],
   "source": [
    "# sightline=\"J1431+0301\"\n",
    "# j1431_abs = np.array([0.0,0.25344, 0.00510, 0.15320, 0.10339])\n",
    "# plot_b_vel(sightline=sightline, absorbers=j1431_abs, N=7,  maj_ax=True, ellipse=(1.41/6., 1.297/6., 145))"
   ]
  },
  {
   "cell_type": "code",
   "execution_count": null,
   "metadata": {},
   "outputs": [],
   "source": [
    "# sightline=\"J1431+0301\"\n",
    "# j1431_abs = np.array([0.0,0.25344, 0.00510, 0.15320, 0.10339])\n",
    "# plot_lines_stack(sightline=sightline, absorbers=j1431_abs)\n"
   ]
  },
  {
   "cell_type": "markdown",
   "metadata": {},
   "source": [
    "### J1451+5914\n",
    "<b> QSO z = 0.29668\t</b> <br>\n",
    "<b> 165707 SAGA z =0.00714203 </b>  <br>\n",
    "\n",
    "\n",
    "1. MW 0.0 \n",
    "2. QSO 0.29668\n",
    "3. SAGA 0.00714203\n",
    "\n",
    "Other absorbers: \n",
    "\n",
    "- 0.29553\n",
    "- 0.18990 or 0.00397   "
   ]
  },
  {
   "cell_type": "code",
   "execution_count": null,
   "metadata": {},
   "outputs": [],
   "source": [
    "sightline='J1451+5914'\n",
    "j1451_abs = np.array([0.0,0.29668, 0.29553, 0.18990, 0.00397])"
   ]
  },
  {
   "cell_type": "code",
   "execution_count": null,
   "metadata": {},
   "outputs": [],
   "source": [
    "# j1451_abs = np.array([0.0,0.29668, 0.29553, 0.18990, 0.00397])\n",
    "# #plot_lines_vel_zoom(sightline='TON1129', vhost=sightlines_table['host velocity (helio)'][0], smoothing=5)\n",
    "# plot_lines_mark_abs(sightline='J1451+5914', vhost=sightlines_table['host velocity (helio)'][8], smoothing=5, absorbers=j1451_abs, hostid=165707)\n"
   ]
  },
  {
   "cell_type": "code",
   "execution_count": null,
   "metadata": {},
   "outputs": [],
   "source": [
    "# sightline='J1451+5914'\n",
    "# j1451_abs = np.array([0.0,0.29668, 0.29553, 0.18990, 0.00397])\n",
    "# plot_b_vel(sightline=sightline, absorbers=j1451_abs, maj_ax=True, ellipse=[0.85/3., 0.3/3., 145])"
   ]
  },
  {
   "cell_type": "code",
   "execution_count": null,
   "metadata": {},
   "outputs": [],
   "source": [
    "# plot_lines_stack(sightline=sightline, absorbers=j1451_abs)\n"
   ]
  },
  {
   "cell_type": "markdown",
   "metadata": {},
   "source": [
    "### J1700+2237\n",
    "<b> QSO z = 0.4451\t</b> <br>\n",
    "<b> 147606 SAGA z =0.0093 </b>  <br>\n",
    "\n",
    "\n",
    "1. MW 0.0 \n",
    "2. QSO 0.445132\n",
    "3. SAGA 0.0093\t\n",
    "\n",
    "Other absorbers: \n",
    "\n",
    "- 0.17251\n",
    "- 0.14077\n",
    "- 0.13469\n",
    "- 0.10866\n",
    "- 0.10711\n",
    "- 0.28430\n",
    "- 0.28289\n",
    "- 0.08080\n"
   ]
  },
  {
   "cell_type": "code",
   "execution_count": null,
   "metadata": {},
   "outputs": [],
   "source": [
    "sightline='J1700+2237'\n",
    "j1700_abs = np.array([0.0,0.445132, 0.17251, 0.14077, 0.13469, 0.10866, 0.10711, 0.28430, 0.28289, 0.08080])\n"
   ]
  },
  {
   "cell_type": "code",
   "execution_count": null,
   "metadata": {
    "scrolled": true
   },
   "outputs": [],
   "source": [
    "# #plot_lines_vel_zoom(sightline='TON1129', vhost=sightlines_table['host velocity (helio)'][0], smoothing=5)\n",
    "# plot_lines_mark_abs(sightline='J1700+2237', vhost=sightlines_table['host velocity (helio)'][9], smoothing=5, absorbers=j1700_abs, hostid=147606)\n"
   ]
  },
  {
   "cell_type": "code",
   "execution_count": null,
   "metadata": {},
   "outputs": [],
   "source": [
    "# sightline='J1700+2237'\n",
    "# j1700_abs = np.array([0.0,0.445132, 0.17251, 0.14077, 0.13469, 0.10866, 0.10711, 0.28430, 0.28289, 0.08080])\n",
    "\n",
    "# plot_b_vel(sightline=sightline, absorbers=j1700_abs, maj_ax=True, ellipse=([1.37/6.,0.77/6., 125] ))"
   ]
  },
  {
   "cell_type": "code",
   "execution_count": null,
   "metadata": {},
   "outputs": [],
   "source": [
    "# plot_lines_stack(sightline=sightline, absorbers=j1700_abs, )\n"
   ]
  },
  {
   "cell_type": "code",
   "execution_count": null,
   "metadata": {},
   "outputs": [],
   "source": []
  }
 ],
 "metadata": {
  "kernelspec": {
   "display_name": "Python 3",
   "language": "python",
   "name": "python3"
  },
  "language_info": {
   "codemirror_mode": {
    "name": "ipython",
    "version": 3
   },
   "file_extension": ".py",
   "mimetype": "text/x-python",
   "name": "python",
   "nbconvert_exporter": "python",
   "pygments_lexer": "ipython3",
   "version": "3.8.5"
  }
 },
 "nbformat": 4,
 "nbformat_minor": 4
}
